{
 "cells": [
  {
   "cell_type": "code",
   "execution_count": 2,
   "id": "4a01bee7",
   "metadata": {},
   "outputs": [],
   "source": [
    "import pandas as pd"
   ]
  },
  {
   "cell_type": "code",
   "execution_count": 3,
   "id": "2c68d46b",
   "metadata": {},
   "outputs": [],
   "source": [
    "dataset = pd.read_csv('scotland_dataset.csv')"
   ]
  },
  {
   "cell_type": "code",
   "execution_count": 4,
   "id": "c4769f85",
   "metadata": {},
   "outputs": [
    {
     "data": {
      "text/html": [
       "<div>\n",
       "<style scoped>\n",
       "    .dataframe tbody tr th:only-of-type {\n",
       "        vertical-align: middle;\n",
       "    }\n",
       "\n",
       "    .dataframe tbody tr th {\n",
       "        vertical-align: top;\n",
       "    }\n",
       "\n",
       "    .dataframe thead th {\n",
       "        text-align: right;\n",
       "    }\n",
       "</style>\n",
       "<table border=\"1\" class=\"dataframe\">\n",
       "  <thead>\n",
       "    <tr style=\"text-align: right;\">\n",
       "      <th></th>\n",
       "      <th>Property_UPRN</th>\n",
       "      <th>Postcode</th>\n",
       "      <th>POST_TOWN</th>\n",
       "      <th>Date of Assessment</th>\n",
       "      <th>Primary Energy Indicator (kWh/m²/year)</th>\n",
       "      <th>Total floor area (m²)</th>\n",
       "      <th>Current energy efficiency rating</th>\n",
       "      <th>Current energy efficiency rating band</th>\n",
       "      <th>Potential Energy Efficiency Rating</th>\n",
       "      <th>Potential energy efficiency rating band</th>\n",
       "      <th>...</th>\n",
       "      <th>Total current energy costs over 3 years (£)</th>\n",
       "      <th>Current heating costs over 3 years (£)</th>\n",
       "      <th>Potential heating costs over 3 years (£)</th>\n",
       "      <th>Current hot water costs over 3 years (£)</th>\n",
       "      <th>Potential hot water costs over 3 years (£)</th>\n",
       "      <th>Current lighting costs over 3 years (£)</th>\n",
       "      <th>Potential lighting costs over 3 years (£)</th>\n",
       "      <th>Part 1 Construction Age Band</th>\n",
       "      <th>Built Form</th>\n",
       "      <th>Property Type</th>\n",
       "    </tr>\n",
       "  </thead>\n",
       "  <tbody>\n",
       "    <tr>\n",
       "      <th>0</th>\n",
       "      <td>1.001101e+09</td>\n",
       "      <td>EH4 5EZ</td>\n",
       "      <td>EDINBURGH</td>\n",
       "      <td>01/01/2021</td>\n",
       "      <td>375.0</td>\n",
       "      <td>94.0</td>\n",
       "      <td>53.0</td>\n",
       "      <td>E</td>\n",
       "      <td>85.0</td>\n",
       "      <td>B</td>\n",
       "      <td>...</td>\n",
       "      <td>3789.0</td>\n",
       "      <td>2922.0</td>\n",
       "      <td>1548.0</td>\n",
       "      <td>645.0</td>\n",
       "      <td>219.0</td>\n",
       "      <td>222.0</td>\n",
       "      <td>222.0</td>\n",
       "      <td>1930-1949</td>\n",
       "      <td>Semi-Detached</td>\n",
       "      <td>House</td>\n",
       "    </tr>\n",
       "    <tr>\n",
       "      <th>1</th>\n",
       "      <td>1.001951e+09</td>\n",
       "      <td>EH7 4HE</td>\n",
       "      <td>EDINBURGH</td>\n",
       "      <td>01/01/2021</td>\n",
       "      <td>250.0</td>\n",
       "      <td>175.0</td>\n",
       "      <td>66.0</td>\n",
       "      <td>D</td>\n",
       "      <td>80.0</td>\n",
       "      <td>C</td>\n",
       "      <td>...</td>\n",
       "      <td>4635.0</td>\n",
       "      <td>4068.0</td>\n",
       "      <td>3015.0</td>\n",
       "      <td>246.0</td>\n",
       "      <td>246.0</td>\n",
       "      <td>321.0</td>\n",
       "      <td>321.0</td>\n",
       "      <td>1919-1929</td>\n",
       "      <td>End-Terrace</td>\n",
       "      <td>House</td>\n",
       "    </tr>\n",
       "    <tr>\n",
       "      <th>2</th>\n",
       "      <td>1.000996e+09</td>\n",
       "      <td>EH4 2DL</td>\n",
       "      <td>EDINBURGH</td>\n",
       "      <td>02/01/2021</td>\n",
       "      <td>403.0</td>\n",
       "      <td>72.0</td>\n",
       "      <td>61.0</td>\n",
       "      <td>D</td>\n",
       "      <td>78.0</td>\n",
       "      <td>C</td>\n",
       "      <td>...</td>\n",
       "      <td>3570.0</td>\n",
       "      <td>2226.0</td>\n",
       "      <td>1191.0</td>\n",
       "      <td>1038.0</td>\n",
       "      <td>564.0</td>\n",
       "      <td>306.0</td>\n",
       "      <td>207.0</td>\n",
       "      <td>1965-1975</td>\n",
       "      <td>Semi-Detached</td>\n",
       "      <td>Flat</td>\n",
       "    </tr>\n",
       "    <tr>\n",
       "      <th>3</th>\n",
       "      <td>1.001257e+09</td>\n",
       "      <td>PH1 1SA</td>\n",
       "      <td>PERTH</td>\n",
       "      <td>02/01/2021</td>\n",
       "      <td>174.0</td>\n",
       "      <td>96.0</td>\n",
       "      <td>76.0</td>\n",
       "      <td>C</td>\n",
       "      <td>87.0</td>\n",
       "      <td>B</td>\n",
       "      <td>...</td>\n",
       "      <td>2049.0</td>\n",
       "      <td>1554.0</td>\n",
       "      <td>1554.0</td>\n",
       "      <td>258.0</td>\n",
       "      <td>177.0</td>\n",
       "      <td>237.0</td>\n",
       "      <td>237.0</td>\n",
       "      <td>1999-2002</td>\n",
       "      <td>Mid-Terrace</td>\n",
       "      <td>House</td>\n",
       "    </tr>\n",
       "    <tr>\n",
       "      <th>4</th>\n",
       "      <td>1.235709e+09</td>\n",
       "      <td>G78 1QN</td>\n",
       "      <td>Glasgow</td>\n",
       "      <td>02/01/2021</td>\n",
       "      <td>145.0</td>\n",
       "      <td>58.0</td>\n",
       "      <td>79.0</td>\n",
       "      <td>C</td>\n",
       "      <td>79.0</td>\n",
       "      <td>C</td>\n",
       "      <td>...</td>\n",
       "      <td>1212.0</td>\n",
       "      <td>828.0</td>\n",
       "      <td>828.0</td>\n",
       "      <td>216.0</td>\n",
       "      <td>216.0</td>\n",
       "      <td>168.0</td>\n",
       "      <td>168.0</td>\n",
       "      <td>before 1919</td>\n",
       "      <td>Mid-Terrace</td>\n",
       "      <td>Flat</td>\n",
       "    </tr>\n",
       "  </tbody>\n",
       "</table>\n",
       "<p>5 rows × 48 columns</p>\n",
       "</div>"
      ],
      "text/plain": [
       "   Property_UPRN Postcode   POST_TOWN Date of Assessment  \\\n",
       "0   1.001101e+09  EH4 5EZ  EDINBURGH          01/01/2021   \n",
       "1   1.001951e+09  EH7 4HE  EDINBURGH          01/01/2021   \n",
       "2   1.000996e+09  EH4 2DL  EDINBURGH          02/01/2021   \n",
       "3   1.001257e+09  PH1 1SA      PERTH          02/01/2021   \n",
       "4   1.235709e+09  G78 1QN    Glasgow          02/01/2021   \n",
       "\n",
       "   Primary Energy Indicator (kWh/m²/year)  Total floor area (m²)  \\\n",
       "0                                   375.0                   94.0   \n",
       "1                                   250.0                  175.0   \n",
       "2                                   403.0                   72.0   \n",
       "3                                   174.0                   96.0   \n",
       "4                                   145.0                   58.0   \n",
       "\n",
       "   Current energy efficiency rating Current energy efficiency rating band  \\\n",
       "0                              53.0                                     E   \n",
       "1                              66.0                                     D   \n",
       "2                              61.0                                     D   \n",
       "3                              76.0                                     C   \n",
       "4                              79.0                                     C   \n",
       "\n",
       "   Potential Energy Efficiency Rating Potential energy efficiency rating band  \\\n",
       "0                                85.0                                       B   \n",
       "1                                80.0                                       C   \n",
       "2                                78.0                                       C   \n",
       "3                                87.0                                       B   \n",
       "4                                79.0                                       C   \n",
       "\n",
       "   ...  Total current energy costs over 3 years (£)  \\\n",
       "0  ...                                       3789.0   \n",
       "1  ...                                       4635.0   \n",
       "2  ...                                       3570.0   \n",
       "3  ...                                       2049.0   \n",
       "4  ...                                       1212.0   \n",
       "\n",
       "  Current heating costs over 3 years (£)  \\\n",
       "0                                 2922.0   \n",
       "1                                 4068.0   \n",
       "2                                 2226.0   \n",
       "3                                 1554.0   \n",
       "4                                  828.0   \n",
       "\n",
       "   Potential heating costs over 3 years (£)  \\\n",
       "0                                    1548.0   \n",
       "1                                    3015.0   \n",
       "2                                    1191.0   \n",
       "3                                    1554.0   \n",
       "4                                     828.0   \n",
       "\n",
       "  Current hot water costs over 3 years (£)  \\\n",
       "0                                    645.0   \n",
       "1                                    246.0   \n",
       "2                                   1038.0   \n",
       "3                                    258.0   \n",
       "4                                    216.0   \n",
       "\n",
       "   Potential hot water costs over 3 years (£)  \\\n",
       "0                                       219.0   \n",
       "1                                       246.0   \n",
       "2                                       564.0   \n",
       "3                                       177.0   \n",
       "4                                       216.0   \n",
       "\n",
       "  Current lighting costs over 3 years (£)  \\\n",
       "0                                   222.0   \n",
       "1                                   321.0   \n",
       "2                                   306.0   \n",
       "3                                   237.0   \n",
       "4                                   168.0   \n",
       "\n",
       "  Potential lighting costs over 3 years (£) Part 1 Construction Age Band  \\\n",
       "0                                     222.0                    1930-1949   \n",
       "1                                     321.0                    1919-1929   \n",
       "2                                     207.0                    1965-1975   \n",
       "3                                     237.0                    1999-2002   \n",
       "4                                     168.0                  before 1919   \n",
       "\n",
       "      Built Form Property Type  \n",
       "0  Semi-Detached         House  \n",
       "1    End-Terrace         House  \n",
       "2  Semi-Detached          Flat  \n",
       "3    Mid-Terrace         House  \n",
       "4    Mid-Terrace          Flat  \n",
       "\n",
       "[5 rows x 48 columns]"
      ]
     },
     "execution_count": 4,
     "metadata": {},
     "output_type": "execute_result"
    }
   ],
   "source": [
    "dataset.head()"
   ]
  },
  {
   "cell_type": "code",
   "execution_count": 5,
   "id": "25aa7de8",
   "metadata": {},
   "outputs": [
    {
     "data": {
      "text/plain": [
       "Index(['Property_UPRN', 'Postcode', 'POST_TOWN', 'Date of Assessment',\n",
       "       'Primary Energy Indicator (kWh/m²/year)', 'Total floor area (m²)',\n",
       "       'Current energy efficiency rating',\n",
       "       'Current energy efficiency rating band',\n",
       "       'Potential Energy Efficiency Rating',\n",
       "       'Potential energy efficiency rating band',\n",
       "       'Current Environmental Impact Rating',\n",
       "       'Current Environmental Impact Rating Band',\n",
       "       'Potential Environmental Impact Rating',\n",
       "       'Potential Environmental Impact Rating Band',\n",
       "       'CO2 Emissions Current Per Floor Area (kg.CO2/m²/yr)',\n",
       "       'WALL_DESCRIPTION', 'WALL_ENERGY_EFF', 'ROOF_DESCRIPTION',\n",
       "       'ROOF_ENERGY_EFF', 'FLOOR_DESCRIPTION', 'FLOOR_ENERGY_EFF',\n",
       "       'FLOOR_ENV_EFF', 'WINDOWS_DESCRIPTION', 'WINDOWS_ENERGY_EFF',\n",
       "       'WINDOWS_ENV_EFF', 'MAINHEAT_DESCRIPTION', 'MAINHEAT_ENERGY_EFF',\n",
       "       'MAINHEAT_ENV_EFF', 'MAINHEATCONT_DESCRIPTION', 'MAINHEATC_ENERGY_EFF',\n",
       "       'MAINHEATC_ENV_EFF', 'HOT_WATER_ENERGY_EFF', 'HOT_WATER_ENV_EFF',\n",
       "       'LIGHTING_DESCRIPTION', 'LIGHTING_ENERGY_EFF', 'LIGHTING_ENV_EFF',\n",
       "       'Current Emissions (T.CO2/yr)',\n",
       "       'Potential Reduction in Emissions (T.CO2/yr)',\n",
       "       'Total current energy costs over 3 years (£)',\n",
       "       'Current heating costs over 3 years (£)',\n",
       "       'Potential heating costs over 3 years (£)',\n",
       "       'Current hot water costs over 3 years (£)',\n",
       "       'Potential hot water costs over 3 years (£)',\n",
       "       'Current lighting costs over 3 years (£)',\n",
       "       'Potential lighting costs over 3 years (£)',\n",
       "       'Part 1 Construction Age Band', 'Built Form', 'Property Type'],\n",
       "      dtype='object')"
      ]
     },
     "execution_count": 5,
     "metadata": {},
     "output_type": "execute_result"
    }
   ],
   "source": [
    "dataset.columns"
   ]
  },
  {
   "cell_type": "code",
   "execution_count": 6,
   "id": "735fc01d",
   "metadata": {},
   "outputs": [],
   "source": [
    "town_efficiency = dataset.groupby(['POST_TOWN'])['Current energy efficiency rating'].mean()"
   ]
  },
  {
   "cell_type": "code",
   "execution_count": 7,
   "id": "0552ddac",
   "metadata": {},
   "outputs": [
    {
     "data": {
      "text/plain": [
       "POST_TOWN\n",
       "ABERDEEN          68.413096\n",
       "ABERDEEN          82.000000\n",
       "ABERDEENSHIRE     83.250000\n",
       "ABERFELDY         63.464567\n",
       "ABERLOUR          62.445122\n",
       "                    ...    \n",
       "Wick              70.650000\n",
       "Wigtown           34.000000\n",
       "Winchburgh        88.809524\n",
       "Wishaw            76.875000\n",
       "barlochan         39.000000\n",
       "Name: Current energy efficiency rating, Length: 990, dtype: float64"
      ]
     },
     "execution_count": 7,
     "metadata": {},
     "output_type": "execute_result"
    }
   ],
   "source": [
    "town_efficiency"
   ]
  },
  {
   "cell_type": "code",
   "execution_count": 8,
   "id": "3cecb82a",
   "metadata": {},
   "outputs": [
    {
     "data": {
      "text/plain": [
       "array(['EDINBURGH ', 'PERTH ', 'Glasgow ', 'DOLLAR ', 'GLASGOW ',\n",
       "       'LARBERT ', 'THORNHILL ', 'HADDINGTON ', 'DUNBAR ', 'DUNDEE ',\n",
       "       'FORRES ', 'LEVEN ', 'CALLANDER ', 'KILWINNING ', 'PRESTWICK ',\n",
       "       'INVERURIE ', 'ABERDEEN ', 'STONEHAVEN ', 'LONGNIDDRY ',\n",
       "       'EAST LINTON ', 'GREENOCK ', 'BRODICK ', 'STRATHCARRON ',\n",
       "       'ERSKINE ', 'SPEAN BRIDGE ', 'TRANENT ', 'LIVINGSTON ',\n",
       "       'FRASERBURGH ', 'STORNOWAY ', 'NORTH BERWICK ', 'AUCHTERARDER ',\n",
       "       'Aberdeen ', 'PETERHEAD ', 'COATBRIDGE ', 'BANCHORY ', 'BATHGATE ',\n",
       "       'Laurencekirk ', 'Edinburgh ', 'Dalkeith ', 'PAISLEY ',\n",
       "       'DUNFERMLINE ', 'ROSLIN ', 'PENICUIK ', 'BERWICK UPON TWEED ',\n",
       "       'ELGIN ', 'GLENROTHES ', 'DUMBARTON ', 'CUPAR ', 'WISHAW ',\n",
       "       'MUSSELBURGH ', 'DENNY ', 'KILMARNOCK ', 'FALKIRK ', 'WESTHILL ',\n",
       "       'GIRVAN ', 'STIRLING ', 'JOHNSTONE ', 'ELLON ', 'AYR ', 'TROON ',\n",
       "       'KIRKCALDY ', 'GOREBRIDGE ', 'ARBROATH ', 'KINROSS ', 'HAMILTON ',\n",
       "       'CLYDEBANK ', 'INVERNESS ', 'AIRDRIE ', 'FOCHABERS ',\n",
       "       'HELENSBURGH ', 'DUMFRIES ', 'DUNBLANE ', 'LOSSIEMOUTH ',\n",
       "       'KIRRIEMUIR ', 'KILMACOLM ', 'MOTHERWELL ', 'BIGGAR ', 'DUNOON ',\n",
       "       'GOUROCK ', 'BEITH ', \"BO'NESS \", 'BLAIRGOWRIE ', 'CURRIE ',\n",
       "       'PRESTONPANS ', 'BONNYBRIDGE ', 'TILLICOULTRY ', 'WEST KILBRIDE ',\n",
       "       'CRIEFF ', 'RENFREW ', 'GALSTON ', 'DALKEITH ', nan, 'LARKHALL ',\n",
       "       'SHOTTS ', 'IRVINE ', 'East Lothian ', 'Fife ', 'GRANGEMOUTH ',\n",
       "       'KIRKCUDBRIGHT ', 'TIGHNABRUAICH ', 'Angus ', 'Inverclyde ',\n",
       "       'BROXBURN ', 'HUMBIE ', 'KEITH ', 'BONNYRIGG ', 'Invergordon ',\n",
       "       'NEWMILNS ', 'ALLOA ', 'ALEXANDRIA ', 'OBAN ', 'LINLITHGOW ',\n",
       "       'ST ANDREWS ', 'MENSTRIE ', 'INNERLEITHEN ', 'CUMNOCK ',\n",
       "       'MONTROSE ', 'ULLAPOOL ', 'FORFAR ', 'CASTLE DOUGLAS ',\n",
       "       'ANSTRUTHER ', 'LANARK ', 'HUNTLY ', 'TAIN ', 'MILLTIMBER ',\n",
       "       'COWDENBEATH ', 'TAYPORT ', 'LOCHGILPHEAD ', 'ANNAN ', 'ABERLOUR ',\n",
       "       'JEDBURGH ', 'BELLSHILL ', 'BRECHIN ', 'BUCKIE ', 'ALFORD ',\n",
       "       'BANFF ', 'DINGWALL ', 'Inverness ', 'ISLE OF LEWIS ',\n",
       "       'Musselburgh ', 'Hamilton ', 'MUIR OF ORD ', 'Midlothian ',\n",
       "       'BURNTISLAND ', 'Ormiston ', 'BISHOPTON ', 'SOUTH QUEENSFERRY ',\n",
       "       'PORTREE ', 'North Ayrshire ', 'Montrose ', 'LAUDER ',\n",
       "       'STEVENSTON ', 'DORNOCH ', 'HERIOT ', 'KIRKLISTON ', 'PEEBLES ',\n",
       "       'LOCHGELLY ', 'AVIEMORE ', 'ROY BRIDGE ', 'CROMARTY ',\n",
       "       'SALTCOATS ', 'NEWPORT ON TAY ', 'FORT WILLIAM ', 'CARLUKE ',\n",
       "       'ISLE OF BUTE ', 'DUNS ', 'LARGS ', 'STRANRAER ', 'KIRKWALL ',\n",
       "       'INVERGORDON ', 'HALKIRK ', 'WICK ', 'GALASHIELS ', 'EYEMOUTH ',\n",
       "       'LANGHOLM ', 'LOCHWINNOCH ', 'NEWTON STEWART ', 'SHETLAND ',\n",
       "       'KELTY ', 'ORKNEY ', 'St Andrews ', 'Gullane ', 'FORTROSE ',\n",
       "       'Penicuik ', 'Muirkirk ', 'Kirkcaldy ', 'Coatbridge ', 'Morvern ',\n",
       "       'Duns ', 'Isle of Harris ', 'SANQUHAR ', 'Falkirk ', 'Orkney ',\n",
       "       'Tain ', 'ABOYNE ', 'ARDROSSAN ', 'BEAULY ', 'KILBIRNIE ',\n",
       "       'SELKIRK ', 'STRATHAVEN ', 'HAWICK ', 'INVERKEITHING ', 'DUNKELD ',\n",
       "       'LOANHEAD ', 'NAIRN ', 'PORT GLASGOW ', 'COLDSTREAM ', 'BALERNO ',\n",
       "       'DARVEL ', 'WEST CALDER ', 'LAIRG ', 'Larkhall ', 'Haddington ',\n",
       "       'Banff ', 'Johnstone ', 'Bonnyrigg ', 'Dundee ', 'Roslin ',\n",
       "       'West Calder ', 'Gorebridge ', 'Poolewe ', 'Mauchline ',\n",
       "       'Isle of Lewis ', 'Kilmarnock ', 'Cupar ', 'Isle of Skye ',\n",
       "       'Shotts ', 'DALBEATTIE ', 'ABERFELDY ', 'CAMPBELTOWN ', 'DALRY ',\n",
       "       'LAURENCEKIRK ', 'BRIDGE OF WEIR ', 'MACDUFF ', 'PITLOCHRY ',\n",
       "       'LOCKERBIE ', 'ARDGAY ', 'Kingseat ', 'MAUCHLINE ', 'Alexandria ',\n",
       "       'Clackmannanshire ', 'East Kilbride ', 'Robroyston ', 'Keith ',\n",
       "       'Ardrossan ', 'Stirling ', 'Annan ', 'ISLE OF SKYE ',\n",
       "       'ACHNASHEEN ', 'KELSO ', 'CAIRNDOW ', 'TURRIFF ', 'MELROSE ',\n",
       "       'MAYBOLE ', 'TARBERT ', 'LASSWADE ', 'CARNOUSTIE ',\n",
       "       'ISLE OF HARRIS ', 'MILLPORT ', 'WALKERBURN ', 'Ayrshire ',\n",
       "       'Wick ', 'ALVA ', 'Twechar ', 'Bucksburn ', 'Clydebank ',\n",
       "       'Isle of Arran ', 'Spean Bridge ', 'Isle Of Arran ',\n",
       "       'ISLE OF NORTH UIST ', 'GULLANE ', 'KYLE ', 'DOUNE ', 'ACHARACLE ',\n",
       "       'STROMNESS ', 'NEWBRIDGE ', 'Saltcoats ', 'Bilston ', 'Leven ',\n",
       "       'GORDON ', 'Newton Mearns ', 'INVERKIP ', 'East Renfrewshire ',\n",
       "       'APPIN ', 'Livingston ', 'Catrine ', 'Newton Stewart ',\n",
       "       'ARROCHAR ', 'EARLSTON ', 'PETERCULTER ', 'JUNIPER GREEN ',\n",
       "       'AVOCH ', 'GRETNA ', 'Kincraig ', 'Troon ', 'Whitburn ',\n",
       "       'Blackridge ', 'Leven, Fife ', 'CARRBRIDGE ', 'GOLSPIE ',\n",
       "       'Uddingston ', 'Castle Douglas ', 'Fort William ', 'MINTLAW ',\n",
       "       'Scottish Borders ', 'KIRKNEWTON ', 'Barrhead ', 'DALMALLY ',\n",
       "       'Milltimber ', 'Irvine ', 'Seamill ', 'Isle of Bute ', 'INSCH ',\n",
       "       'CLACKMANNAN ', 'SKELMORLIE ', 'ALNESS ', 'Largs ', 'Beauly ',\n",
       "       'Forfar ', 'West Linton ', 'Brechin ', 'PLOCKTON ',\n",
       "       'ISLE OF MULL ', 'ISLE OF TIREE ', 'ISLE OF ARRAN ',\n",
       "       'ISLE OF BENBECULA ', 'Cumnock ', 'MOFFAT ', 'Tillicoultry ',\n",
       "       'Galashiels ', 'THURSO ', 'Muir of Ord ', 'Dumfries ',\n",
       "       'EAST RENFREWSHIRE ', 'Kinross-shire ', 'KILLIN ', 'Shetland ',\n",
       "       'Airdrie ', 'Bishopton ', 'Cruden Bay ', 'Banchory ', 'Oban ',\n",
       "       'Lumphanan ', 'Aberdeenshire ', 'GARGUNNOCK ', 'Kilbirnie ',\n",
       "       'Hollybush ', 'CANONBIE ', 'WEST LINTON ', 'Portpatrick ',\n",
       "       'Kilbarchan ', 'NEWTONMORE ', 'Inverurie ', 'Dalmally ', 'Perth ',\n",
       "       'GRANTOWN-ON-SPEY ', 'GARVE ', 'Cumbernauld ', 'By Thurso ',\n",
       "       'DUMFRIESSHIRE ', 'Govan ', 'Inverness  ', 'Nairn ', 'Loanhead ',\n",
       "       'Kinloss ', 'KINLOCHLEVEN ', 'Renfrew ', 'Dunfermline ',\n",
       "       'ISLE OF SOUTH UIST ', 'INVERARAY ', 'KINGUSSIE ', 'NETHY BRIDGE ',\n",
       "       'Elgin ', 'Dingwall ', 'Motherwell ', 'Lauder ', 'Aberfoyle ',\n",
       "       'Dumbarton ', 'ISLE OF ISLAY ', 'ROGART ', 'HELMSDALE ',\n",
       "       'LOCHAILORT ', 'GLENFINNAN ', 'Chryston ', 'Ellon ',\n",
       "       'Sma Glen, Crieff ', 'Portree ', 'Canonbie ', 'North Berwick ',\n",
       "       'COCKBURNSPATH ', 'STRATHPEFFER ', 'Cambuslang ', 'Ayr ',\n",
       "       'ISLE OF BARRA ', 'Dunbar ', 'Kyle of Lochalsh ', 'Dufftown ',\n",
       "       'Inzevar ', 'Linlithgow ', 'Peebles ', 'BOAT OF GARTEN ',\n",
       "       'WHITBURN ', 'Thornhill ', 'Bridge Of Allan ', 'Inverness-shire ',\n",
       "       'Carluke ', 'Kirriemuir ', 'Paisley ', 'Dunkeld ', 'MUNLOCHY ',\n",
       "       'BRORA ', 'TAYNUILT ', 'NEWCASTLETON ', 'Lanark ', 'Lochgelly ',\n",
       "       'Darvel ', 'North Uist ', 'Lossiemouth ', 'ARISAIG ', 'Kelso ',\n",
       "       'Isle Of North Uist ', 'LYBSTER ', 'BIshopton ', 'Bellshill ',\n",
       "       'Broadford ', 'MALLAIG ', 'BALLATER ', 'Helensburgh ',\n",
       "       'Glasgow City ', 'Aviemore ', 'Ballachulish ', 'Oxton ',\n",
       "       'BALLACHULISH ', 'Broxburn ', 'Ferniegair ', 'ROSEWELL ',\n",
       "       'Strontian ', 'Garve ', 'Camelon ', 'Anstruther ', 'GAIRLOCH ',\n",
       "       'Cumbernauld  ', 'CLACKMANNANSHIRE ', 'Isle Of Lewis ',\n",
       "       'Drumnadrochit ', 'Newmilns ', 'Blair Atholl ', 'Gairloch ',\n",
       "       'Dalbeattie ', 'GRANTOWN ON SPEY ', 'QUARRIERS VILLAGE ',\n",
       "       'Coldstream ', 'Gordon ', 'Stewarton ', 'Invergarry ', 'Crieff ',\n",
       "       'Gatehead ', 'WEMYSS BAY ', 'BALLINDALLOCH ', 'LOCHEARNHEAD ',\n",
       "       'NEWTON MEARNS ', 'South Queensferry ', 'Fairlie ', 'Skelmorlie ',\n",
       "       'Fintry ', 'Winchburgh ', 'Stranraer ', 'East Ayrshire ',\n",
       "       'Prestwick ', 'BISHOPBRIGGS ', 'Lenzie ', 'Erskine ', 'STRATHDON ',\n",
       "       'Johnston ', 'East Calder ', 'Cowdenbeath ', 'Isles of Lewis ',\n",
       "       'Prestonpans ', 'Wishaw ', 'Kingussie ', 'Lochwinnoch ',\n",
       "       'Lockerbie ', 'Fortrose ', 'Brora ', 'Auchterarder ', 'Hopeman ',\n",
       "       'Lasswade ', 'Armadale ', 'Carnoustie ', 'Sutherland ',\n",
       "       'NEWTOWN ST BOSWELL ', 'NEWTON ST BOSWELLS ', 'COLINTRAIVE ',\n",
       "       'Udny ', 'Granton On Spey ', 'Ross-shire ', 'Dunblane ', 'Hawick ',\n",
       "       'Kilmaurs ', 'Tranent ', 'PATHHEAD ', 'Aboyne ', 'Dollar ',\n",
       "       'Isle of Arran  ', 'Kyle ', 'Strome Ferry ', 'Pitlochry ',\n",
       "       'Alness ', 'FORT AUGUSTUS ', 'ISLE OF COLL ', 'Alloa ', 'Alva ',\n",
       "       'Newtongrange ', 'Dunoon ', 'Penpont ', 'CRIANLARICH ',\n",
       "       'Crainlarich ', 'Symington ', 'Bo’ness ', 'Callander ', 'Thurso ',\n",
       "       'Polbeth ', 'Auchinleck ', 'Stonehaven ', 'Bonar Bridge ',\n",
       "       'BERRIEDALE ', 'Biggar ', 'Arbroath ', 'Western Isles ', 'Kemnay ',\n",
       "       'Beeswing ', 'By Maybole ', 'Strathcarron ', 'Greenock ',\n",
       "       'Isle of North Uist ', 'Innerleithen ', 'ISLE OF COLONSAY ',\n",
       "       'Reddingmuirhead ', 'Maybole ', 'Cullen ', 'Alves ', 'Inveraray ',\n",
       "       'ARDERSIER ', 'Kilwinning ', 'Ancrum ', 'Auldearn ',\n",
       "       'Isle of Mull ', 'Doune ', 'Newtonmore ', 'Hyndland ', 'Dunlop ',\n",
       "       'Longniddry ', 'Crocketford ', 'Huntly ', 'Fort Augustus ',\n",
       "       'Dumfries and Galloway ', 'Dalmellington ', 'Strathpeffer ',\n",
       "       'East Linton ', 'Port Logan ', 'Glentress ', 'West Lothian ',\n",
       "       'Portsonachan ', 'DUNBEATH ', 'Dores ', 'Aberlour ', 'Moray ',\n",
       "       'Forres ', 'Garmouth ', 'Isle Of Skye ', 'Heiton ',\n",
       "       'CASLTE DOUGLAS ', 'Eaglesham ', 'Archiestown ', 'Denny ',\n",
       "       'Loch Katrine ', 'Burrelton ', 'Grantown-On-Spey ', 'MACHLINE ',\n",
       "       'NORTH LANARKSHIRE ', 'Glenboig ', 'Lairg ', 'Rosewell ',\n",
       "       'CARNWATH ', 'By Forfar ', 'Mlliport ', 'Glenrothes ', 'Tarves ',\n",
       "       'BRAIDWOOD ', 'St Ola ', 'KIRKINTILLOCH ', 'Melrose ',\n",
       "       'Grantown-on-Spey ', 'Gorebridge  ', 'Crookston ', 'Dunragit ',\n",
       "       'Caithness ', 'Lochinver ', 'Burghead ', 'Bathgate ', 'Dunipace ',\n",
       "       'Bridge of Allan ', 'Eyemouth ', 'Fardalehill ', 'ABERNETHY ',\n",
       "       'Nr Ballantrae ', 'St Boswells ', 'Peterculter ', 'Shiskine ',\n",
       "       'Rosemarkie ', 'Blairgowrie ', 'Banffshire ', 'Peterhead ',\n",
       "       'ISLE OF SCALPAY ', 'Lugar ', 'Kirkcudbright ', 'Ballindalloch ',\n",
       "       'Fraserburgh ', 'Kirkcolm ', 'CARSTAIRS JUNCTION ',\n",
       "       'Boat of Garten ', 'ISLE OF IONA ', 'Dumfriesshire ',\n",
       "       'South Ayrshire ', 'Strathblane ', 'Ullapool ', 'Highland ',\n",
       "       'Stevenston ', 'Barcaldine ', 'Turriff ', 'Acharacle ',\n",
       "       'PEEBLESSHIRE ', 'Strathdon ', 'Drummore ', 'Millport ',\n",
       "       'Crosshill ', 'Aberfeldy ', 'Kincardine ', 'WALLYFORD ',\n",
       "       'Garnethill ', 'Strathnairn ', 'KINBRACE ', 'Berwickshire ',\n",
       "       'Port Glasgow ', 'Coldingham ', 'Glasgow  ', 'Muirhead ',\n",
       "       'CATRINE ', 'Sanquhar ', 'Muckhart ', 'Dornoch ', 'Newcraighall ',\n",
       "       'Meikleour ', 'Edinburgh  ', 'Glenmavis ', 'Annbank ', 'Tiree ',\n",
       "       'West Plean ', 'DALWHINNIE ', 'Invergodon ', 'Kirkintilloch ',\n",
       "       'Isle of Benbecula ', 'Campbeltown ', 'Tealing ', 'Kirkcubright ',\n",
       "       'Grangemouth ', 'Balerno ', 'Rogart ', 'Mallaig ', 'Dundonnell ',\n",
       "       'Portsoy ', 'Bridge of Weir ', 'Pollock ', 'Ardgay ', 'Gartly ',\n",
       "       'West Kilbride ', 'ABERDEENSHIRE ', 'Gardenstown ', 'Wigtown ',\n",
       "       'Dunning ', 'Ormitston ', 'Crossgates ', 'Girvan ', 'Kinross ',\n",
       "       'Galston ', 'Nigg ', 'Mount Vernon ', 'LANARKSHIRE ',\n",
       "       'Stonehouse ', 'Coalsnaughton ', 'Newton Merans ', 'Boness ',\n",
       "       'Ballater ', 'Avoch ', 'Avonbridge ', 'Lanarkshire ', 'Earlston ',\n",
       "       'Stormness ', 'Roybridge ', 'Rothesay ', 'Carrbridge ',\n",
       "       'SOUTH QUENNSFERRY ', 'Crosshouse ', 'Brechin, Angus ', 'Argyll ',\n",
       "       'Killin ', 'Achnasheen ', 'Torrance ', 'Fochabers ', 'Glencoe ',\n",
       "       'Gourock ', 'Strathaven ', 'LATHERON ', 'Walkerburn ', 'Pathhead ',\n",
       "       'Kirkliston ', 'Holytown ', 'Skene ', 'Isle of South Uist ',\n",
       "       'Arrochar ', 'Taynuilt ', 'Cromdale ', 'Monkton ', 'Fearn ',\n",
       "       'ISLE OF GIGHA ', 'Coupar Angus ', 'Errol ', 'GLENTROOL ',\n",
       "       'Fort William  ', 'Lochmaben  ', 'Gattonside ', 'GARTOCHARN ',\n",
       "       'Brightons ', 'Nr Callander ', 'Evanton ', 'Berwick Upon Tweed ',\n",
       "       'Kingswells ', 'INVERGARRY ', 'Newbridge ', 'Dairy ',\n",
       "       'Tighnabruaich ', 'Isle of Coll ', 'Kiltarlity ', 'Isle of Islay ',\n",
       "       'STROME FERRY ', 'Dalry ', 'Newport on Tay ', 'Glentromie ',\n",
       "       'Neilston ', 'Hurlford ', 'Bridge of Don ', 'South Lanarkshire ',\n",
       "       'Myrehead ', 'Satlcoats ', 'Stoneykirk ', 'Inchinnan ',\n",
       "       'Kirkwall ', 'North Connel ', 'Stepps ', 'Philpstoun ',\n",
       "       'Grantown On Spey ', 'STEWARTON ', 'Ross-Shire ', 'Inverbervie ',\n",
       "       'Kinlochleven ', 'Lesmahagow ', 'Sandend ', 'East of Lindores ',\n",
       "       'Tarbolton ', 'Mussleburgh ', 'Darnick ', 'New Cumnock ',\n",
       "       'Isle of Cumbrae ', 'Rhynie ', 'Insch ', \"Bo'ness \",\n",
       "       'Eskdalemuir  ', 'Old Rayne ', 'ST FERGUS ', 'Corsock ',\n",
       "       'Castletown ', 'Selkirk ', 'Newburgh ', 'Granton on Spey ',\n",
       "       'Sanday ', 'Humbie ', 'Maryhill ', 'Bannockburn ',\n",
       "       'Newport-on-Tay ', 'Milngavie ', 'Ardrishaig ', 'Cairndow ',\n",
       "       'ISLE OF JURA ', 'FAIRLIE ', 'Lochbroom ', 'Dalrymple ', 'Beith ',\n",
       "       'North Aryshire ', 'Nethy Bridge ', 'Kinbrace ', 'East Hardgate ',\n",
       "       'Morebattle ', 'Bettyhill ', 'Kirkholm ', 'Kelton ', 'Bearsden ',\n",
       "       'Halkirk ', 'Auchtermuchty ', 'Pencaitland ', 'Athelstaneford ',\n",
       "       'Durris ', 'Kirkpatrick Durham ', 'Morayshire ', 'Kilcreggan ',\n",
       "       'Kilsyth ', 'Cromarty ', 'Shetland Islands ', 'Dumfries  ',\n",
       "       'Grantown on Spey ', 'Cockburnspath ', 'PAXTON ', 'Bonawe ',\n",
       "       'Kyleakin ', 'Findhorn ', 'Golspie ', 'Comrie ', 'Polmont ',\n",
       "       'Lochgilphead ', 'New Stevenston ', 'Roseisle ', 'Tayport ',\n",
       "       'Lonmay ', 'Muir Of Ord ', 'Maryburgh ', 'Park ', 'Kilmartin ',\n",
       "       'Bishopbriggs ', 'Stornaway ', 'Campbe;town ', 'Buckie ',\n",
       "       'Renfrewshire ', 'South Aryshire ', 'Stirlingshire ',\n",
       "       'Cellardyke ', 'Laggan ', 'West Dunbartonshire ', 'Stornoway ',\n",
       "       'Knoydart ', 'Heriot ', 'Wallyford ', 'Fortingall ', 'Carrmyllie ',\n",
       "       'Jedburgh ', 'FORSINARD ', 'MOSSBLOWN ', 'Gatehouse of Fleet ',\n",
       "       'Alford ', 'Dysart ', 'Newmachar ', 'Auchinleck  ', 'Perthshire ',\n",
       "       'Granton-On-Spey ', 'Mugiemoss ', 'Methil ', 'Kilwinning  ',\n",
       "       'South Ayrshire  ', 'Dunbartonshire ', 'Newcastleton ', 'Larbert ',\n",
       "       'Kilmacolm ', 'Applecross ', 'Lochailort ', 'Blantyre ',\n",
       "       'Kirkbean ', 'MACHLINE  ', 'MIDLOTHIAN ', 'Kintore ', 'Coylton ',\n",
       "       'Lumphanan  ', 'Forsinard ', 'ARGYLL AND BUTE ', 'Gorthleck ',\n",
       "       'MACMERRY ', 'Westhill ', 'Pluscarden ', 'Upper Largo ',\n",
       "       'Parkgate ', 'Duror ', 'Carnbroe ', 'Argyll Street ',\n",
       "       'WINCHBURGH ', 'Clarkston ', 'ROXBURGHSHIRE ', 'Mossblown ',\n",
       "       'Wemyss Bay ', 'Blackford ', 'North Queensferry ', 'Monkton  ',\n",
       "       'Langholm ', 'Drongan ', 'Caldercruix ', 'Strachur ', 'Appin ',\n",
       "       'Burray ', 'Edzell ', 'EAST LOTHIAN ', 'Blairs ', 'Moffat ',\n",
       "       'Borgue ', 'Latheron ', 'Lennoxtown ', 'Dunbeath ', 'Auldgirth ',\n",
       "       'Kinross, Fife ', 'Ballantrae ', 'BRIDGE OF ORCHY ',\n",
       "       'Argyll &amp; Bute ', 'ISLE OF EIGG ', 'Perth &amp; Kinross ',\n",
       "       'CLACHAN OF CAMPSIE ', 'Thornton ', 'Glassford ', 'Dundonald ',\n",
       "       'Staffin ', 'Gretna ', 'Broughty Ferry ', 'INVERNESS  ', 'FIFE ',\n",
       "       'Boat Of Garten ', 'Udny Station ', 'Glendaruel ', 'Balmullo ',\n",
       "       'Rathen ', 'Stuartfield ', 'Ochiltree ', 'Daviot ', 'Reay ',\n",
       "       'North Lanarkshire ', 'Isle of Scalpy ', 'Craigellachie ',\n",
       "       'Banknock ', 'Cumbrae ', 'Drumndadrochit ', 'Giffnock ',\n",
       "       'BLINDWELLS ', 'By Ayr ', 'Glengarnock ', 'Orkney  ', 'Meigle ',\n",
       "       'Berriedale ', 'Strathcarron   ', 'Isle Of South Uist ',\n",
       "       'Uplawmoor ', 'North  Middleton ', 'Firth ',\n",
       "       'East Dunbartonshire ', 'Lower Foyers ', 'Acharcle ', 'OXTON ',\n",
       "       'West Post ', 'Cardross ', 'EAST RENFREWSHIRE  ', 'Drymen ',\n",
       "       'ARGYLL ', 'Bridge Of  Weir Road ', 'Malaig ', 'TROON  ',\n",
       "       'Uddingston  ', 'ISLE OF ARRAN  ', 'Brighouse Bay  ',\n",
       "       'barlochan  ', 'Guardbridge ', 'COUSLAND  ', 'Edingburgh ',\n",
       "       'ABERLOUR  ', 'DUNDONALD ', 'Kilmarnock  ', 'Road BIshopton ',\n",
       "       'Ardfern ', 'Bathgate  ', 'Arbroath  ', 'Saltcoats  ', 'Inverkip ',\n",
       "       'Innerleithen  ', 'Pumpherston ', 'ABERDEEN  ',\n",
       "       'Quarriers Village ', 'Ayton ', 'ROTHIENORMAN ', 'Sorn ',\n",
       "       'Lochearnhead '], dtype=object)"
      ]
     },
     "execution_count": 8,
     "metadata": {},
     "output_type": "execute_result"
    }
   ],
   "source": [
    "dataset.POST_TOWN.unique()"
   ]
  },
  {
   "cell_type": "code",
   "execution_count": 9,
   "id": "d99d4b91",
   "metadata": {},
   "outputs": [
    {
     "data": {
      "text/plain": [
       "991"
      ]
     },
     "execution_count": 9,
     "metadata": {},
     "output_type": "execute_result"
    }
   ],
   "source": [
    "len(dataset.POST_TOWN.unique())"
   ]
  },
  {
   "cell_type": "code",
   "execution_count": 10,
   "id": "48e3e28c",
   "metadata": {},
   "outputs": [],
   "source": [
    "dataset['POST_TOWN'] = dataset.POST_TOWN.astype(str).str.lower()"
   ]
  },
  {
   "cell_type": "code",
   "execution_count": 11,
   "id": "4e91c443",
   "metadata": {},
   "outputs": [
    {
     "data": {
      "text/plain": [
       "692"
      ]
     },
     "execution_count": 11,
     "metadata": {},
     "output_type": "execute_result"
    }
   ],
   "source": [
    "len(dataset.POST_TOWN.unique())"
   ]
  },
  {
   "cell_type": "code",
   "execution_count": 12,
   "id": "801f0a06",
   "metadata": {},
   "outputs": [],
   "source": [
    "dataset['POST_TOWN'] = dataset['POST_TOWN'].str.replace('edingburgh','edinburgh')"
   ]
  },
  {
   "cell_type": "code",
   "execution_count": 13,
   "id": "40ff3483",
   "metadata": {},
   "outputs": [
    {
     "data": {
      "text/plain": [
       "691"
      ]
     },
     "execution_count": 13,
     "metadata": {},
     "output_type": "execute_result"
    }
   ],
   "source": [
    "len(dataset.POST_TOWN.unique())"
   ]
  },
  {
   "cell_type": "code",
   "execution_count": 14,
   "id": "271466fc",
   "metadata": {
    "scrolled": true
   },
   "outputs": [
    {
     "data": {
      "text/plain": [
       "Property_UPRN                                               0\n",
       "Postcode                                                    0\n",
       "POST_TOWN                                                   0\n",
       "Date of Assessment                                          0\n",
       "Primary Energy Indicator (kWh/m²/year)                      0\n",
       "Total floor area (m²)                                       0\n",
       "Current energy efficiency rating                            0\n",
       "Current energy efficiency rating band                       0\n",
       "Potential Energy Efficiency Rating                          0\n",
       "Potential energy efficiency rating band                     0\n",
       "Current Environmental Impact Rating                         0\n",
       "Current Environmental Impact Rating Band                    0\n",
       "Potential Environmental Impact Rating                       0\n",
       "Potential Environmental Impact Rating Band                  0\n",
       "CO2 Emissions Current Per Floor Area (kg.CO2/m²/yr)         0\n",
       "WALL_DESCRIPTION                                            0\n",
       "WALL_ENERGY_EFF                                             0\n",
       "ROOF_DESCRIPTION                                            0\n",
       "ROOF_ENERGY_EFF                                         39235\n",
       "FLOOR_DESCRIPTION                                           0\n",
       "FLOOR_ENERGY_EFF                                       117202\n",
       "FLOOR_ENV_EFF                                          117202\n",
       "WINDOWS_DESCRIPTION                                         0\n",
       "WINDOWS_ENERGY_EFF                                          0\n",
       "WINDOWS_ENV_EFF                                             0\n",
       "MAINHEAT_DESCRIPTION                                        0\n",
       "MAINHEAT_ENERGY_EFF                                         0\n",
       "MAINHEAT_ENV_EFF                                            0\n",
       "MAINHEATCONT_DESCRIPTION                                    0\n",
       "MAINHEATC_ENERGY_EFF                                        0\n",
       "MAINHEATC_ENV_EFF                                           0\n",
       "HOT_WATER_ENERGY_EFF                                        0\n",
       "HOT_WATER_ENV_EFF                                           0\n",
       "LIGHTING_DESCRIPTION                                        0\n",
       "LIGHTING_ENERGY_EFF                                         0\n",
       "LIGHTING_ENV_EFF                                            0\n",
       "Current Emissions (T.CO2/yr)                                0\n",
       "Potential Reduction in Emissions (T.CO2/yr)                 0\n",
       "Total current energy costs over 3 years (£)                 0\n",
       "Current heating costs over 3 years (£)                      0\n",
       "Potential heating costs over 3 years (£)                    0\n",
       "Current hot water costs over 3 years (£)                    0\n",
       "Potential hot water costs over 3 years (£)                  0\n",
       "Current lighting costs over 3 years (£)                     0\n",
       "Potential lighting costs over 3 years (£)                   0\n",
       "Part 1 Construction Age Band                            29972\n",
       "Built Form                                                622\n",
       "Property Type                                               0\n",
       "dtype: int64"
      ]
     },
     "execution_count": 14,
     "metadata": {},
     "output_type": "execute_result"
    }
   ],
   "source": [
    "dataset.isnull().sum()"
   ]
  },
  {
   "cell_type": "code",
   "execution_count": 15,
   "id": "2e92468b",
   "metadata": {},
   "outputs": [],
   "source": [
    "town_efficiency = dataset.groupby(['POST_TOWN'])['Current energy efficiency rating'].mean()"
   ]
  },
  {
   "cell_type": "code",
   "execution_count": 16,
   "id": "b0c8afb4",
   "metadata": {},
   "outputs": [],
   "source": [
    "dataset['POST_TOWN'] = dataset['POST_TOWN'].str.rstrip()"
   ]
  },
  {
   "cell_type": "code",
   "execution_count": 17,
   "id": "288a4368",
   "metadata": {},
   "outputs": [
    {
     "data": {
      "text/plain": [
       "665"
      ]
     },
     "execution_count": 17,
     "metadata": {},
     "output_type": "execute_result"
    }
   ],
   "source": [
    "len(dataset.POST_TOWN.unique())"
   ]
  },
  {
   "cell_type": "code",
   "execution_count": 18,
   "id": "379637f4",
   "metadata": {},
   "outputs": [
    {
     "data": {
      "text/html": [
       "<div>\n",
       "<style scoped>\n",
       "    .dataframe tbody tr th:only-of-type {\n",
       "        vertical-align: middle;\n",
       "    }\n",
       "\n",
       "    .dataframe tbody tr th {\n",
       "        vertical-align: top;\n",
       "    }\n",
       "\n",
       "    .dataframe thead th {\n",
       "        text-align: right;\n",
       "    }\n",
       "</style>\n",
       "<table border=\"1\" class=\"dataframe\">\n",
       "  <thead>\n",
       "    <tr style=\"text-align: right;\">\n",
       "      <th></th>\n",
       "      <th>POST_TOWN</th>\n",
       "      <th>Mean</th>\n",
       "    </tr>\n",
       "  </thead>\n",
       "  <tbody>\n",
       "    <tr>\n",
       "      <th>0</th>\n",
       "      <td>gartocharn</td>\n",
       "      <td>115.000000</td>\n",
       "    </tr>\n",
       "    <tr>\n",
       "      <th>1</th>\n",
       "      <td>bannockburn</td>\n",
       "      <td>111.750000</td>\n",
       "    </tr>\n",
       "    <tr>\n",
       "      <th>2</th>\n",
       "      <td>gatehouse of fleet</td>\n",
       "      <td>101.000000</td>\n",
       "    </tr>\n",
       "    <tr>\n",
       "      <th>3</th>\n",
       "      <td>north lanarkshire</td>\n",
       "      <td>97.117647</td>\n",
       "    </tr>\n",
       "    <tr>\n",
       "      <th>4</th>\n",
       "      <td>south aryshire</td>\n",
       "      <td>96.000000</td>\n",
       "    </tr>\n",
       "  </tbody>\n",
       "</table>\n",
       "</div>"
      ],
      "text/plain": [
       "            POST_TOWN        Mean\n",
       "0          gartocharn  115.000000\n",
       "1         bannockburn  111.750000\n",
       "2  gatehouse of fleet  101.000000\n",
       "3   north lanarkshire   97.117647\n",
       "4      south aryshire   96.000000"
      ]
     },
     "execution_count": 18,
     "metadata": {},
     "output_type": "execute_result"
    }
   ],
   "source": [
    "#1 Rank Towns by Current Energy Efficiency Rating\n",
    "town_efficiency = dataset.groupby(['POST_TOWN'])['Current energy efficiency rating'].mean().reset_index(name='Mean')\n",
    "town_efficiency = town_efficiency.sort_values(by='Mean', ascending=False ).reset_index(drop=True)\n",
    "town_efficiency.head(5)"
   ]
  },
  {
   "cell_type": "code",
   "execution_count": 19,
   "id": "d3707839",
   "metadata": {},
   "outputs": [
    {
     "data": {
      "text/html": [
       "<div>\n",
       "<style scoped>\n",
       "    .dataframe tbody tr th:only-of-type {\n",
       "        vertical-align: middle;\n",
       "    }\n",
       "\n",
       "    .dataframe tbody tr th {\n",
       "        vertical-align: top;\n",
       "    }\n",
       "\n",
       "    .dataframe thead th {\n",
       "        text-align: right;\n",
       "    }\n",
       "</style>\n",
       "<table border=\"1\" class=\"dataframe\">\n",
       "  <thead>\n",
       "    <tr style=\"text-align: right;\">\n",
       "      <th></th>\n",
       "      <th>POST_TOWN</th>\n",
       "      <th>Mean</th>\n",
       "    </tr>\n",
       "  </thead>\n",
       "  <tbody>\n",
       "    <tr>\n",
       "      <th>0</th>\n",
       "      <td>gatehouse of fleet</td>\n",
       "      <td>128.0</td>\n",
       "    </tr>\n",
       "    <tr>\n",
       "      <th>1</th>\n",
       "      <td>comrie</td>\n",
       "      <td>123.0</td>\n",
       "    </tr>\n",
       "    <tr>\n",
       "      <th>2</th>\n",
       "      <td>sanday</td>\n",
       "      <td>119.0</td>\n",
       "    </tr>\n",
       "    <tr>\n",
       "      <th>3</th>\n",
       "      <td>crainlarich</td>\n",
       "      <td>118.5</td>\n",
       "    </tr>\n",
       "    <tr>\n",
       "      <th>4</th>\n",
       "      <td>gartocharn</td>\n",
       "      <td>118.0</td>\n",
       "    </tr>\n",
       "  </tbody>\n",
       "</table>\n",
       "</div>"
      ],
      "text/plain": [
       "            POST_TOWN   Mean\n",
       "0  gatehouse of fleet  128.0\n",
       "1              comrie  123.0\n",
       "2              sanday  119.0\n",
       "3         crainlarich  118.5\n",
       "4          gartocharn  118.0"
      ]
     },
     "execution_count": 19,
     "metadata": {},
     "output_type": "execute_result"
    }
   ],
   "source": [
    "# 2 Rank Towns by potential energy efficiency rating\n",
    "town_potential_eff = dataset.groupby(['POST_TOWN'])['Potential Energy Efficiency Rating'].mean().reset_index(name='Mean')\n",
    "town_potential_eff=  town_potential_eff.sort_values(by='Mean', ascending=False).reset_index(drop=True)\n",
    "town_potential_eff.head(5)"
   ]
  },
  {
   "cell_type": "code",
   "execution_count": 20,
   "id": "bfcb0bd8",
   "metadata": {},
   "outputs": [
    {
     "data": {
      "text/html": [
       "<div>\n",
       "<style scoped>\n",
       "    .dataframe tbody tr th:only-of-type {\n",
       "        vertical-align: middle;\n",
       "    }\n",
       "\n",
       "    .dataframe tbody tr th {\n",
       "        vertical-align: top;\n",
       "    }\n",
       "\n",
       "    .dataframe thead th {\n",
       "        text-align: right;\n",
       "    }\n",
       "</style>\n",
       "<table border=\"1\" class=\"dataframe\">\n",
       "  <thead>\n",
       "    <tr style=\"text-align: right;\">\n",
       "      <th></th>\n",
       "      <th>POST_TOWN</th>\n",
       "      <th>Mean</th>\n",
       "    </tr>\n",
       "  </thead>\n",
       "  <tbody>\n",
       "    <tr>\n",
       "      <th>0</th>\n",
       "      <td>gartocharn</td>\n",
       "      <td>113.000000</td>\n",
       "    </tr>\n",
       "    <tr>\n",
       "      <th>1</th>\n",
       "      <td>bannockburn</td>\n",
       "      <td>109.750000</td>\n",
       "    </tr>\n",
       "    <tr>\n",
       "      <th>2</th>\n",
       "      <td>north lanarkshire</td>\n",
       "      <td>98.705882</td>\n",
       "    </tr>\n",
       "    <tr>\n",
       "      <th>3</th>\n",
       "      <td>south aryshire</td>\n",
       "      <td>97.000000</td>\n",
       "    </tr>\n",
       "    <tr>\n",
       "      <th>4</th>\n",
       "      <td>ardfern</td>\n",
       "      <td>96.000000</td>\n",
       "    </tr>\n",
       "  </tbody>\n",
       "</table>\n",
       "</div>"
      ],
      "text/plain": [
       "           POST_TOWN        Mean\n",
       "0         gartocharn  113.000000\n",
       "1        bannockburn  109.750000\n",
       "2  north lanarkshire   98.705882\n",
       "3     south aryshire   97.000000\n",
       "4            ardfern   96.000000"
      ]
     },
     "execution_count": 20,
     "metadata": {},
     "output_type": "execute_result"
    }
   ],
   "source": [
    "# 3 Rank Towns by current environmental impact rating \n",
    "town_curr_env_impact = dataset.groupby(['POST_TOWN'])['Current Environmental Impact Rating'].mean().reset_index(name='Mean')\n",
    "town_curr_env_impact = town_curr_env_impact.sort_values(by='Mean', ascending=False).reset_index(drop=True)\n",
    "town_curr_env_impact.head(5)"
   ]
  },
  {
   "cell_type": "code",
   "execution_count": 21,
   "id": "0a3e6237",
   "metadata": {},
   "outputs": [
    {
     "data": {
      "text/html": [
       "<div>\n",
       "<style scoped>\n",
       "    .dataframe tbody tr th:only-of-type {\n",
       "        vertical-align: middle;\n",
       "    }\n",
       "\n",
       "    .dataframe tbody tr th {\n",
       "        vertical-align: top;\n",
       "    }\n",
       "\n",
       "    .dataframe thead th {\n",
       "        text-align: right;\n",
       "    }\n",
       "</style>\n",
       "<table border=\"1\" class=\"dataframe\">\n",
       "  <thead>\n",
       "    <tr style=\"text-align: right;\">\n",
       "      <th></th>\n",
       "      <th>POST_TOWN</th>\n",
       "      <th>Date of Assessment</th>\n",
       "      <th>Mean</th>\n",
       "    </tr>\n",
       "  </thead>\n",
       "  <tbody>\n",
       "    <tr>\n",
       "      <th>0</th>\n",
       "      <td>aberdeen</td>\n",
       "      <td>01/02/2021</td>\n",
       "      <td>64.818182</td>\n",
       "    </tr>\n",
       "    <tr>\n",
       "      <th>1</th>\n",
       "      <td>aberdeen</td>\n",
       "      <td>01/03/2021</td>\n",
       "      <td>70.153846</td>\n",
       "    </tr>\n",
       "    <tr>\n",
       "      <th>2</th>\n",
       "      <td>aberdeen</td>\n",
       "      <td>01/04/2021</td>\n",
       "      <td>69.333333</td>\n",
       "    </tr>\n",
       "    <tr>\n",
       "      <th>3</th>\n",
       "      <td>aberdeen</td>\n",
       "      <td>01/06/2021</td>\n",
       "      <td>72.755556</td>\n",
       "    </tr>\n",
       "    <tr>\n",
       "      <th>4</th>\n",
       "      <td>aberdeen</td>\n",
       "      <td>01/07/2021</td>\n",
       "      <td>68.844444</td>\n",
       "    </tr>\n",
       "    <tr>\n",
       "      <th>...</th>\n",
       "      <td>...</td>\n",
       "      <td>...</td>\n",
       "      <td>...</td>\n",
       "    </tr>\n",
       "    <tr>\n",
       "      <th>36932</th>\n",
       "      <td>wishaw</td>\n",
       "      <td>30/09/2021</td>\n",
       "      <td>70.000000</td>\n",
       "    </tr>\n",
       "    <tr>\n",
       "      <th>36933</th>\n",
       "      <td>wishaw</td>\n",
       "      <td>30/11/2021</td>\n",
       "      <td>45.000000</td>\n",
       "    </tr>\n",
       "    <tr>\n",
       "      <th>36934</th>\n",
       "      <td>wishaw</td>\n",
       "      <td>31/03/2021</td>\n",
       "      <td>67.200000</td>\n",
       "    </tr>\n",
       "    <tr>\n",
       "      <th>36935</th>\n",
       "      <td>wishaw</td>\n",
       "      <td>31/05/2021</td>\n",
       "      <td>68.750000</td>\n",
       "    </tr>\n",
       "    <tr>\n",
       "      <th>36936</th>\n",
       "      <td>wishaw</td>\n",
       "      <td>31/08/2021</td>\n",
       "      <td>72.250000</td>\n",
       "    </tr>\n",
       "  </tbody>\n",
       "</table>\n",
       "<p>36937 rows × 3 columns</p>\n",
       "</div>"
      ],
      "text/plain": [
       "      POST_TOWN Date of Assessment       Mean\n",
       "0      aberdeen         01/02/2021  64.818182\n",
       "1      aberdeen         01/03/2021  70.153846\n",
       "2      aberdeen         01/04/2021  69.333333\n",
       "3      aberdeen         01/06/2021  72.755556\n",
       "4      aberdeen         01/07/2021  68.844444\n",
       "...         ...                ...        ...\n",
       "36932    wishaw         30/09/2021  70.000000\n",
       "36933    wishaw         30/11/2021  45.000000\n",
       "36934    wishaw         31/03/2021  67.200000\n",
       "36935    wishaw         31/05/2021  68.750000\n",
       "36936    wishaw         31/08/2021  72.250000\n",
       "\n",
       "[36937 rows x 3 columns]"
      ]
     },
     "execution_count": 21,
     "metadata": {},
     "output_type": "execute_result"
    }
   ],
   "source": [
    "# 3 ... and note if there have been periods where houses were more or less environmentally friendly- (2 points)\n",
    "\n",
    "town_env_date = dataset.groupby(['POST_TOWN', 'Date of Assessment' ])['Current Environmental Impact Rating'].mean().reset_index(name='Mean')\n",
    "town_env_date"
   ]
  },
  {
   "cell_type": "code",
   "execution_count": 22,
   "id": "e177c388",
   "metadata": {},
   "outputs": [
    {
     "data": {
      "text/plain": [
       "POST_TOWN              object\n",
       "Date of Assessment     object\n",
       "Mean                  float64\n",
       "dtype: object"
      ]
     },
     "execution_count": 22,
     "metadata": {},
     "output_type": "execute_result"
    }
   ],
   "source": [
    "town_env_date.dtypes"
   ]
  },
  {
   "cell_type": "code",
   "execution_count": 23,
   "id": "018361ef",
   "metadata": {},
   "outputs": [],
   "source": [
    "town_env_date['Date of Assessment'] = pd.to_datetime(town_env_date['Date of Assessment'], format='%d/%m/%Y')"
   ]
  },
  {
   "cell_type": "code",
   "execution_count": 24,
   "id": "183540da",
   "metadata": {},
   "outputs": [
    {
     "data": {
      "text/plain": [
       "POST_TOWN                     object\n",
       "Date of Assessment    datetime64[ns]\n",
       "Mean                         float64\n",
       "dtype: object"
      ]
     },
     "execution_count": 24,
     "metadata": {},
     "output_type": "execute_result"
    }
   ],
   "source": [
    "town_env_date.dtypes"
   ]
  },
  {
   "cell_type": "code",
   "execution_count": 25,
   "id": "df04bd9e",
   "metadata": {},
   "outputs": [],
   "source": [
    "import matplotlib.pyplot as plt"
   ]
  },
  {
   "cell_type": "code",
   "execution_count": 26,
   "id": "ef807c52",
   "metadata": {},
   "outputs": [
    {
     "data": {
      "text/html": [
       "<div>\n",
       "<style scoped>\n",
       "    .dataframe tbody tr th:only-of-type {\n",
       "        vertical-align: middle;\n",
       "    }\n",
       "\n",
       "    .dataframe tbody tr th {\n",
       "        vertical-align: top;\n",
       "    }\n",
       "\n",
       "    .dataframe thead th {\n",
       "        text-align: right;\n",
       "    }\n",
       "</style>\n",
       "<table border=\"1\" class=\"dataframe\">\n",
       "  <thead>\n",
       "    <tr style=\"text-align: right;\">\n",
       "      <th></th>\n",
       "      <th>POST_TOWN</th>\n",
       "      <th>Date of Assessment</th>\n",
       "      <th>Mean</th>\n",
       "    </tr>\n",
       "  </thead>\n",
       "  <tbody>\n",
       "    <tr>\n",
       "      <th>15324</th>\n",
       "      <td>gartocharn</td>\n",
       "      <td>2021-05-26</td>\n",
       "      <td>113.0</td>\n",
       "    </tr>\n",
       "  </tbody>\n",
       "</table>\n",
       "</div>"
      ],
      "text/plain": [
       "        POST_TOWN Date of Assessment   Mean\n",
       "15324  gartocharn         2021-05-26  113.0"
      ]
     },
     "execution_count": 26,
     "metadata": {},
     "output_type": "execute_result"
    }
   ],
   "source": [
    "gartocharn = town_env_date[town_env_date['POST_TOWN']=='gartocharn']\n",
    "gartocharn"
   ]
  },
  {
   "cell_type": "code",
   "execution_count": 27,
   "id": "fbe96736",
   "metadata": {},
   "outputs": [
    {
     "data": {
      "text/html": [
       "<div>\n",
       "<style scoped>\n",
       "    .dataframe tbody tr th:only-of-type {\n",
       "        vertical-align: middle;\n",
       "    }\n",
       "\n",
       "    .dataframe tbody tr th {\n",
       "        vertical-align: top;\n",
       "    }\n",
       "\n",
       "    .dataframe thead th {\n",
       "        text-align: right;\n",
       "    }\n",
       "</style>\n",
       "<table border=\"1\" class=\"dataframe\">\n",
       "  <thead>\n",
       "    <tr style=\"text-align: right;\">\n",
       "      <th></th>\n",
       "      <th>POST_TOWN</th>\n",
       "      <th>Date of Assessment</th>\n",
       "      <th>Mean</th>\n",
       "    </tr>\n",
       "  </thead>\n",
       "  <tbody>\n",
       "    <tr>\n",
       "      <th>3803</th>\n",
       "      <td>bannockburn</td>\n",
       "      <td>2021-06-28</td>\n",
       "      <td>109.75</td>\n",
       "    </tr>\n",
       "  </tbody>\n",
       "</table>\n",
       "</div>"
      ],
      "text/plain": [
       "        POST_TOWN Date of Assessment    Mean\n",
       "3803  bannockburn         2021-06-28  109.75"
      ]
     },
     "execution_count": 27,
     "metadata": {},
     "output_type": "execute_result"
    }
   ],
   "source": [
    "bannockburn = town_env_date[town_env_date['POST_TOWN']=='bannockburn']\n",
    "bannockburn"
   ]
  },
  {
   "cell_type": "code",
   "execution_count": 28,
   "id": "32c6dcc5",
   "metadata": {
    "scrolled": true
   },
   "outputs": [
    {
     "data": {
      "text/html": [
       "<div>\n",
       "<style scoped>\n",
       "    .dataframe tbody tr th:only-of-type {\n",
       "        vertical-align: middle;\n",
       "    }\n",
       "\n",
       "    .dataframe tbody tr th {\n",
       "        vertical-align: top;\n",
       "    }\n",
       "\n",
       "    .dataframe thead th {\n",
       "        text-align: right;\n",
       "    }\n",
       "</style>\n",
       "<table border=\"1\" class=\"dataframe\">\n",
       "  <thead>\n",
       "    <tr style=\"text-align: right;\">\n",
       "      <th></th>\n",
       "      <th>POST_TOWN</th>\n",
       "      <th>Date of Assessment</th>\n",
       "      <th>Mean</th>\n",
       "    </tr>\n",
       "  </thead>\n",
       "  <tbody>\n",
       "    <tr>\n",
       "      <th>15348</th>\n",
       "      <td>gatehouse of fleet</td>\n",
       "      <td>2021-08-19</td>\n",
       "      <td>83.0</td>\n",
       "    </tr>\n",
       "  </tbody>\n",
       "</table>\n",
       "</div>"
      ],
      "text/plain": [
       "                POST_TOWN Date of Assessment  Mean\n",
       "15348  gatehouse of fleet         2021-08-19  83.0"
      ]
     },
     "execution_count": 28,
     "metadata": {},
     "output_type": "execute_result"
    }
   ],
   "source": [
    "gatehouse_of_fleet = town_env_date[town_env_date['POST_TOWN']=='gatehouse of fleet']\n",
    "gatehouse_of_fleet"
   ]
  },
  {
   "cell_type": "code",
   "execution_count": 29,
   "id": "21214677",
   "metadata": {},
   "outputs": [
    {
     "data": {
      "text/html": [
       "<div>\n",
       "<style scoped>\n",
       "    .dataframe tbody tr th:only-of-type {\n",
       "        vertical-align: middle;\n",
       "    }\n",
       "\n",
       "    .dataframe tbody tr th {\n",
       "        vertical-align: top;\n",
       "    }\n",
       "\n",
       "    .dataframe thead th {\n",
       "        text-align: right;\n",
       "    }\n",
       "</style>\n",
       "<table border=\"1\" class=\"dataframe\">\n",
       "  <thead>\n",
       "    <tr style=\"text-align: right;\">\n",
       "      <th></th>\n",
       "      <th>POST_TOWN</th>\n",
       "      <th>Date of Assessment</th>\n",
       "      <th>Mean</th>\n",
       "    </tr>\n",
       "  </thead>\n",
       "  <tbody>\n",
       "    <tr>\n",
       "      <th>28915</th>\n",
       "      <td>north lanarkshire</td>\n",
       "      <td>2021-11-11</td>\n",
       "      <td>99.1875</td>\n",
       "    </tr>\n",
       "    <tr>\n",
       "      <th>28916</th>\n",
       "      <td>north lanarkshire</td>\n",
       "      <td>2021-03-25</td>\n",
       "      <td>91.0000</td>\n",
       "    </tr>\n",
       "  </tbody>\n",
       "</table>\n",
       "</div>"
      ],
      "text/plain": [
       "               POST_TOWN Date of Assessment     Mean\n",
       "28915  north lanarkshire         2021-11-11  99.1875\n",
       "28916  north lanarkshire         2021-03-25  91.0000"
      ]
     },
     "execution_count": 29,
     "metadata": {},
     "output_type": "execute_result"
    }
   ],
   "source": [
    "north_lanarkshire = town_env_date[town_env_date['POST_TOWN']=='north lanarkshire']\n",
    "north_lanarkshire"
   ]
  },
  {
   "cell_type": "code",
   "execution_count": 30,
   "id": "86db7dee",
   "metadata": {},
   "outputs": [
    {
     "data": {
      "text/html": [
       "<div>\n",
       "<style scoped>\n",
       "    .dataframe tbody tr th:only-of-type {\n",
       "        vertical-align: middle;\n",
       "    }\n",
       "\n",
       "    .dataframe tbody tr th {\n",
       "        vertical-align: top;\n",
       "    }\n",
       "\n",
       "    .dataframe thead th {\n",
       "        text-align: right;\n",
       "    }\n",
       "</style>\n",
       "<table border=\"1\" class=\"dataframe\">\n",
       "  <thead>\n",
       "    <tr style=\"text-align: right;\">\n",
       "      <th></th>\n",
       "      <th>POST_TOWN</th>\n",
       "      <th>Date of Assessment</th>\n",
       "      <th>Mean</th>\n",
       "    </tr>\n",
       "  </thead>\n",
       "  <tbody>\n",
       "    <tr>\n",
       "      <th>32811</th>\n",
       "      <td>south aryshire</td>\n",
       "      <td>2021-08-04</td>\n",
       "      <td>97.0</td>\n",
       "    </tr>\n",
       "  </tbody>\n",
       "</table>\n",
       "</div>"
      ],
      "text/plain": [
       "            POST_TOWN Date of Assessment  Mean\n",
       "32811  south aryshire         2021-08-04  97.0"
      ]
     },
     "execution_count": 30,
     "metadata": {},
     "output_type": "execute_result"
    }
   ],
   "source": [
    "south_aryshire = town_env_date[town_env_date['POST_TOWN']=='south aryshire']\n",
    "south_aryshire"
   ]
  },
  {
   "cell_type": "code",
   "execution_count": 31,
   "id": "de30988b",
   "metadata": {},
   "outputs": [
    {
     "data": {
      "text/html": [
       "<div>\n",
       "<style scoped>\n",
       "    .dataframe tbody tr th:only-of-type {\n",
       "        vertical-align: middle;\n",
       "    }\n",
       "\n",
       "    .dataframe tbody tr th {\n",
       "        vertical-align: top;\n",
       "    }\n",
       "\n",
       "    .dataframe thead th {\n",
       "        text-align: right;\n",
       "    }\n",
       "</style>\n",
       "<table border=\"1\" class=\"dataframe\">\n",
       "  <thead>\n",
       "    <tr style=\"text-align: right;\">\n",
       "      <th></th>\n",
       "      <th>POST_TOWN</th>\n",
       "      <th>Date of Assessment</th>\n",
       "      <th>Mean</th>\n",
       "    </tr>\n",
       "  </thead>\n",
       "  <tbody>\n",
       "    <tr>\n",
       "      <th>2354</th>\n",
       "      <td>ardfern</td>\n",
       "      <td>2021-12-14</td>\n",
       "      <td>96.0</td>\n",
       "    </tr>\n",
       "  </tbody>\n",
       "</table>\n",
       "</div>"
      ],
      "text/plain": [
       "     POST_TOWN Date of Assessment  Mean\n",
       "2354   ardfern         2021-12-14  96.0"
      ]
     },
     "execution_count": 31,
     "metadata": {},
     "output_type": "execute_result"
    }
   ],
   "source": [
    "ardfern = town_env_date[town_env_date['POST_TOWN']=='ardfern']\n",
    "ardfern"
   ]
  },
  {
   "cell_type": "code",
   "execution_count": 32,
   "id": "dc7b098e",
   "metadata": {},
   "outputs": [],
   "source": [
    "measurements = dataset.groupby(['POST_TOWN'])['POST_TOWN'].count().reset_index(name='count')"
   ]
  },
  {
   "cell_type": "code",
   "execution_count": 33,
   "id": "8b635a87",
   "metadata": {},
   "outputs": [
    {
     "data": {
      "text/html": [
       "<div>\n",
       "<style scoped>\n",
       "    .dataframe tbody tr th:only-of-type {\n",
       "        vertical-align: middle;\n",
       "    }\n",
       "\n",
       "    .dataframe tbody tr th {\n",
       "        vertical-align: top;\n",
       "    }\n",
       "\n",
       "    .dataframe thead th {\n",
       "        text-align: right;\n",
       "    }\n",
       "</style>\n",
       "<table border=\"1\" class=\"dataframe\">\n",
       "  <thead>\n",
       "    <tr style=\"text-align: right;\">\n",
       "      <th></th>\n",
       "      <th>POST_TOWN</th>\n",
       "      <th>count</th>\n",
       "    </tr>\n",
       "  </thead>\n",
       "  <tbody>\n",
       "    <tr>\n",
       "      <th>0</th>\n",
       "      <td>glasgow</td>\n",
       "      <td>37529</td>\n",
       "    </tr>\n",
       "    <tr>\n",
       "      <th>1</th>\n",
       "      <td>edinburgh</td>\n",
       "      <td>19276</td>\n",
       "    </tr>\n",
       "    <tr>\n",
       "      <th>2</th>\n",
       "      <td>aberdeen</td>\n",
       "      <td>9226</td>\n",
       "    </tr>\n",
       "    <tr>\n",
       "      <th>3</th>\n",
       "      <td>dundee</td>\n",
       "      <td>5782</td>\n",
       "    </tr>\n",
       "    <tr>\n",
       "      <th>4</th>\n",
       "      <td>paisley</td>\n",
       "      <td>3136</td>\n",
       "    </tr>\n",
       "    <tr>\n",
       "      <th>...</th>\n",
       "      <td>...</td>\n",
       "      <td>...</td>\n",
       "    </tr>\n",
       "    <tr>\n",
       "      <th>660</th>\n",
       "      <td>myrehead</td>\n",
       "      <td>1</td>\n",
       "    </tr>\n",
       "    <tr>\n",
       "      <th>661</th>\n",
       "      <td>bridge of orchy</td>\n",
       "      <td>1</td>\n",
       "    </tr>\n",
       "    <tr>\n",
       "      <th>662</th>\n",
       "      <td>neilston</td>\n",
       "      <td>1</td>\n",
       "    </tr>\n",
       "    <tr>\n",
       "      <th>663</th>\n",
       "      <td>new stevenston</td>\n",
       "      <td>1</td>\n",
       "    </tr>\n",
       "    <tr>\n",
       "      <th>664</th>\n",
       "      <td>lower foyers</td>\n",
       "      <td>1</td>\n",
       "    </tr>\n",
       "  </tbody>\n",
       "</table>\n",
       "<p>665 rows × 2 columns</p>\n",
       "</div>"
      ],
      "text/plain": [
       "           POST_TOWN  count\n",
       "0            glasgow  37529\n",
       "1          edinburgh  19276\n",
       "2           aberdeen   9226\n",
       "3             dundee   5782\n",
       "4            paisley   3136\n",
       "..               ...    ...\n",
       "660         myrehead      1\n",
       "661  bridge of orchy      1\n",
       "662         neilston      1\n",
       "663   new stevenston      1\n",
       "664     lower foyers      1\n",
       "\n",
       "[665 rows x 2 columns]"
      ]
     },
     "execution_count": 33,
     "metadata": {},
     "output_type": "execute_result"
    }
   ],
   "source": [
    "measurements = measurements.sort_values(by='count', ascending=False).reset_index(drop=True)\n",
    "measurements"
   ]
  },
  {
   "cell_type": "code",
   "execution_count": 34,
   "id": "fc417cbd",
   "metadata": {},
   "outputs": [
    {
     "data": {
      "text/html": [
       "<div>\n",
       "<style scoped>\n",
       "    .dataframe tbody tr th:only-of-type {\n",
       "        vertical-align: middle;\n",
       "    }\n",
       "\n",
       "    .dataframe tbody tr th {\n",
       "        vertical-align: top;\n",
       "    }\n",
       "\n",
       "    .dataframe thead th {\n",
       "        text-align: right;\n",
       "    }\n",
       "</style>\n",
       "<table border=\"1\" class=\"dataframe\">\n",
       "  <thead>\n",
       "    <tr style=\"text-align: right;\">\n",
       "      <th></th>\n",
       "      <th>POST_TOWN</th>\n",
       "      <th>Date of Assessment</th>\n",
       "      <th>Mean</th>\n",
       "    </tr>\n",
       "  </thead>\n",
       "  <tbody>\n",
       "    <tr>\n",
       "      <th>15486</th>\n",
       "      <td>glasgow</td>\n",
       "      <td>2021-02-01</td>\n",
       "      <td>67.567164</td>\n",
       "    </tr>\n",
       "    <tr>\n",
       "      <th>15487</th>\n",
       "      <td>glasgow</td>\n",
       "      <td>2021-03-01</td>\n",
       "      <td>68.902256</td>\n",
       "    </tr>\n",
       "    <tr>\n",
       "      <th>15488</th>\n",
       "      <td>glasgow</td>\n",
       "      <td>2021-04-01</td>\n",
       "      <td>66.358779</td>\n",
       "    </tr>\n",
       "    <tr>\n",
       "      <th>15489</th>\n",
       "      <td>glasgow</td>\n",
       "      <td>2021-05-01</td>\n",
       "      <td>73.200000</td>\n",
       "    </tr>\n",
       "    <tr>\n",
       "      <th>15490</th>\n",
       "      <td>glasgow</td>\n",
       "      <td>2021-06-01</td>\n",
       "      <td>70.469613</td>\n",
       "    </tr>\n",
       "    <tr>\n",
       "      <th>...</th>\n",
       "      <td>...</td>\n",
       "      <td>...</td>\n",
       "      <td>...</td>\n",
       "    </tr>\n",
       "    <tr>\n",
       "      <th>15835</th>\n",
       "      <td>glasgow</td>\n",
       "      <td>2021-03-31</td>\n",
       "      <td>70.516129</td>\n",
       "    </tr>\n",
       "    <tr>\n",
       "      <th>15836</th>\n",
       "      <td>glasgow</td>\n",
       "      <td>2021-05-31</td>\n",
       "      <td>68.906250</td>\n",
       "    </tr>\n",
       "    <tr>\n",
       "      <th>15837</th>\n",
       "      <td>glasgow</td>\n",
       "      <td>2021-07-31</td>\n",
       "      <td>74.642857</td>\n",
       "    </tr>\n",
       "    <tr>\n",
       "      <th>15838</th>\n",
       "      <td>glasgow</td>\n",
       "      <td>2021-08-31</td>\n",
       "      <td>67.344262</td>\n",
       "    </tr>\n",
       "    <tr>\n",
       "      <th>15839</th>\n",
       "      <td>glasgow</td>\n",
       "      <td>2021-12-31</td>\n",
       "      <td>61.000000</td>\n",
       "    </tr>\n",
       "  </tbody>\n",
       "</table>\n",
       "<p>354 rows × 3 columns</p>\n",
       "</div>"
      ],
      "text/plain": [
       "      POST_TOWN Date of Assessment       Mean\n",
       "15486   glasgow         2021-02-01  67.567164\n",
       "15487   glasgow         2021-03-01  68.902256\n",
       "15488   glasgow         2021-04-01  66.358779\n",
       "15489   glasgow         2021-05-01  73.200000\n",
       "15490   glasgow         2021-06-01  70.469613\n",
       "...         ...                ...        ...\n",
       "15835   glasgow         2021-03-31  70.516129\n",
       "15836   glasgow         2021-05-31  68.906250\n",
       "15837   glasgow         2021-07-31  74.642857\n",
       "15838   glasgow         2021-08-31  67.344262\n",
       "15839   glasgow         2021-12-31  61.000000\n",
       "\n",
       "[354 rows x 3 columns]"
      ]
     },
     "execution_count": 34,
     "metadata": {},
     "output_type": "execute_result"
    }
   ],
   "source": [
    "glasgow = town_env_date[town_env_date['POST_TOWN']=='glasgow']\n",
    "glasgow"
   ]
  },
  {
   "cell_type": "code",
   "execution_count": 35,
   "id": "f51eca75",
   "metadata": {},
   "outputs": [
    {
     "data": {
      "text/plain": [
       "<AxesSubplot:xlabel='Date of Assessment'>"
      ]
     },
     "execution_count": 35,
     "metadata": {},
     "output_type": "execute_result"
    },
    {
     "data": {
      "image/png": "[encoded data removed]",
      "text/plain": [
       "<Figure size 432x288 with 1 Axes>"
      ]
     },
     "metadata": {
      "needs_background": "light"
     },
     "output_type": "display_data"
    }
   ],
   "source": [
    "glasgow.plot(x='Date of Assessment', y='Mean')"
   ]
  },
  {
   "cell_type": "code",
   "execution_count": 36,
   "id": "aceac2fc",
   "metadata": {},
   "outputs": [
    {
     "data": {
      "text/html": [
       "<div>\n",
       "<style scoped>\n",
       "    .dataframe tbody tr th:only-of-type {\n",
       "        vertical-align: middle;\n",
       "    }\n",
       "\n",
       "    .dataframe tbody tr th {\n",
       "        vertical-align: top;\n",
       "    }\n",
       "\n",
       "    .dataframe thead th {\n",
       "        text-align: right;\n",
       "    }\n",
       "</style>\n",
       "<table border=\"1\" class=\"dataframe\">\n",
       "  <thead>\n",
       "    <tr style=\"text-align: right;\">\n",
       "      <th></th>\n",
       "      <th>POST_TOWN</th>\n",
       "      <th>Date of Assessment</th>\n",
       "      <th>Mean</th>\n",
       "    </tr>\n",
       "  </thead>\n",
       "  <tbody>\n",
       "    <tr>\n",
       "      <th>12489</th>\n",
       "      <td>edinburgh</td>\n",
       "      <td>2021-01-01</td>\n",
       "      <td>51.000000</td>\n",
       "    </tr>\n",
       "    <tr>\n",
       "      <th>12490</th>\n",
       "      <td>edinburgh</td>\n",
       "      <td>2021-02-01</td>\n",
       "      <td>70.355932</td>\n",
       "    </tr>\n",
       "    <tr>\n",
       "      <th>12491</th>\n",
       "      <td>edinburgh</td>\n",
       "      <td>2021-03-01</td>\n",
       "      <td>72.357143</td>\n",
       "    </tr>\n",
       "    <tr>\n",
       "      <th>12492</th>\n",
       "      <td>edinburgh</td>\n",
       "      <td>2021-04-01</td>\n",
       "      <td>73.457447</td>\n",
       "    </tr>\n",
       "    <tr>\n",
       "      <th>12493</th>\n",
       "      <td>edinburgh</td>\n",
       "      <td>2021-05-01</td>\n",
       "      <td>59.800000</td>\n",
       "    </tr>\n",
       "    <tr>\n",
       "      <th>...</th>\n",
       "      <td>...</td>\n",
       "      <td>...</td>\n",
       "      <td>...</td>\n",
       "    </tr>\n",
       "    <tr>\n",
       "      <th>12829</th>\n",
       "      <td>edinburgh</td>\n",
       "      <td>2021-05-31</td>\n",
       "      <td>70.320000</td>\n",
       "    </tr>\n",
       "    <tr>\n",
       "      <th>12830</th>\n",
       "      <td>edinburgh</td>\n",
       "      <td>2021-07-31</td>\n",
       "      <td>84.666667</td>\n",
       "    </tr>\n",
       "    <tr>\n",
       "      <th>12831</th>\n",
       "      <td>edinburgh</td>\n",
       "      <td>2021-08-31</td>\n",
       "      <td>72.105882</td>\n",
       "    </tr>\n",
       "    <tr>\n",
       "      <th>12832</th>\n",
       "      <td>edinburgh</td>\n",
       "      <td>2021-10-31</td>\n",
       "      <td>94.000000</td>\n",
       "    </tr>\n",
       "    <tr>\n",
       "      <th>12833</th>\n",
       "      <td>edinburgh</td>\n",
       "      <td>2021-12-31</td>\n",
       "      <td>73.800000</td>\n",
       "    </tr>\n",
       "  </tbody>\n",
       "</table>\n",
       "<p>345 rows × 3 columns</p>\n",
       "</div>"
      ],
      "text/plain": [
       "       POST_TOWN Date of Assessment       Mean\n",
       "12489  edinburgh         2021-01-01  51.000000\n",
       "12490  edinburgh         2021-02-01  70.355932\n",
       "12491  edinburgh         2021-03-01  72.357143\n",
       "12492  edinburgh         2021-04-01  73.457447\n",
       "12493  edinburgh         2021-05-01  59.800000\n",
       "...          ...                ...        ...\n",
       "12829  edinburgh         2021-05-31  70.320000\n",
       "12830  edinburgh         2021-07-31  84.666667\n",
       "12831  edinburgh         2021-08-31  72.105882\n",
       "12832  edinburgh         2021-10-31  94.000000\n",
       "12833  edinburgh         2021-12-31  73.800000\n",
       "\n",
       "[345 rows x 3 columns]"
      ]
     },
     "execution_count": 36,
     "metadata": {},
     "output_type": "execute_result"
    }
   ],
   "source": [
    "edinburgh = town_env_date[town_env_date['POST_TOWN']=='edinburgh']\n",
    "edinburgh"
   ]
  },
  {
   "cell_type": "code",
   "execution_count": 37,
   "id": "7a1820ff",
   "metadata": {},
   "outputs": [
    {
     "data": {
      "text/plain": [
       "<AxesSubplot:xlabel='Date of Assessment'>"
      ]
     },
     "execution_count": 37,
     "metadata": {},
     "output_type": "execute_result"
    },
    {
     "data": {
      "image/png": "[encoded data removed]",
      "text/plain": [
       "<Figure size 432x288 with 1 Axes>"
      ]
     },
     "metadata": {
      "needs_background": "light"
     },
     "output_type": "display_data"
    }
   ],
   "source": [
    "edinburgh.plot(x='Date of Assessment', y='Mean')"
   ]
  },
  {
   "cell_type": "code",
   "execution_count": 38,
   "id": "52325504",
   "metadata": {},
   "outputs": [
    {
     "data": {
      "text/html": [
       "<div>\n",
       "<style scoped>\n",
       "    .dataframe tbody tr th:only-of-type {\n",
       "        vertical-align: middle;\n",
       "    }\n",
       "\n",
       "    .dataframe tbody tr th {\n",
       "        vertical-align: top;\n",
       "    }\n",
       "\n",
       "    .dataframe thead th {\n",
       "        text-align: right;\n",
       "    }\n",
       "</style>\n",
       "<table border=\"1\" class=\"dataframe\">\n",
       "  <thead>\n",
       "    <tr style=\"text-align: right;\">\n",
       "      <th></th>\n",
       "      <th>POST_TOWN</th>\n",
       "      <th>Date of Assessment</th>\n",
       "      <th>Mean</th>\n",
       "    </tr>\n",
       "  </thead>\n",
       "  <tbody>\n",
       "    <tr>\n",
       "      <th>0</th>\n",
       "      <td>aberdeen</td>\n",
       "      <td>2021-02-01</td>\n",
       "      <td>64.818182</td>\n",
       "    </tr>\n",
       "    <tr>\n",
       "      <th>1</th>\n",
       "      <td>aberdeen</td>\n",
       "      <td>2021-03-01</td>\n",
       "      <td>70.153846</td>\n",
       "    </tr>\n",
       "    <tr>\n",
       "      <th>2</th>\n",
       "      <td>aberdeen</td>\n",
       "      <td>2021-04-01</td>\n",
       "      <td>69.333333</td>\n",
       "    </tr>\n",
       "    <tr>\n",
       "      <th>3</th>\n",
       "      <td>aberdeen</td>\n",
       "      <td>2021-06-01</td>\n",
       "      <td>72.755556</td>\n",
       "    </tr>\n",
       "    <tr>\n",
       "      <th>4</th>\n",
       "      <td>aberdeen</td>\n",
       "      <td>2021-07-01</td>\n",
       "      <td>68.844444</td>\n",
       "    </tr>\n",
       "    <tr>\n",
       "      <th>...</th>\n",
       "      <td>...</td>\n",
       "      <td>...</td>\n",
       "      <td>...</td>\n",
       "    </tr>\n",
       "    <tr>\n",
       "      <th>290</th>\n",
       "      <td>aberdeen</td>\n",
       "      <td>2021-11-30</td>\n",
       "      <td>64.500000</td>\n",
       "    </tr>\n",
       "    <tr>\n",
       "      <th>291</th>\n",
       "      <td>aberdeen</td>\n",
       "      <td>2021-12-30</td>\n",
       "      <td>56.000000</td>\n",
       "    </tr>\n",
       "    <tr>\n",
       "      <th>292</th>\n",
       "      <td>aberdeen</td>\n",
       "      <td>2021-03-31</td>\n",
       "      <td>71.645161</td>\n",
       "    </tr>\n",
       "    <tr>\n",
       "      <th>293</th>\n",
       "      <td>aberdeen</td>\n",
       "      <td>2021-05-31</td>\n",
       "      <td>69.794118</td>\n",
       "    </tr>\n",
       "    <tr>\n",
       "      <th>294</th>\n",
       "      <td>aberdeen</td>\n",
       "      <td>2021-08-31</td>\n",
       "      <td>64.969697</td>\n",
       "    </tr>\n",
       "  </tbody>\n",
       "</table>\n",
       "<p>295 rows × 3 columns</p>\n",
       "</div>"
      ],
      "text/plain": [
       "    POST_TOWN Date of Assessment       Mean\n",
       "0    aberdeen         2021-02-01  64.818182\n",
       "1    aberdeen         2021-03-01  70.153846\n",
       "2    aberdeen         2021-04-01  69.333333\n",
       "3    aberdeen         2021-06-01  72.755556\n",
       "4    aberdeen         2021-07-01  68.844444\n",
       "..        ...                ...        ...\n",
       "290  aberdeen         2021-11-30  64.500000\n",
       "291  aberdeen         2021-12-30  56.000000\n",
       "292  aberdeen         2021-03-31  71.645161\n",
       "293  aberdeen         2021-05-31  69.794118\n",
       "294  aberdeen         2021-08-31  64.969697\n",
       "\n",
       "[295 rows x 3 columns]"
      ]
     },
     "execution_count": 38,
     "metadata": {},
     "output_type": "execute_result"
    }
   ],
   "source": [
    "aberdeen = town_env_date[town_env_date['POST_TOWN']=='aberdeen']\n",
    "aberdeen"
   ]
  },
  {
   "cell_type": "code",
   "execution_count": 39,
   "id": "6d01975e",
   "metadata": {},
   "outputs": [
    {
     "data": {
      "text/plain": [
       "<AxesSubplot:xlabel='Date of Assessment'>"
      ]
     },
     "execution_count": 39,
     "metadata": {},
     "output_type": "execute_result"
    },
    {
     "data": {
      "image/png": "[encoded data removed]",
      "text/plain": [
       "<Figure size 432x288 with 1 Axes>"
      ]
     },
     "metadata": {
      "needs_background": "light"
     },
     "output_type": "display_data"
    }
   ],
   "source": [
    "aberdeen.plot(x='Date of Assessment', y='Mean')"
   ]
  },
  {
   "cell_type": "code",
   "execution_count": 40,
   "id": "ba4ad157",
   "metadata": {},
   "outputs": [
    {
     "data": {
      "text/html": [
       "<div>\n",
       "<style scoped>\n",
       "    .dataframe tbody tr th:only-of-type {\n",
       "        vertical-align: middle;\n",
       "    }\n",
       "\n",
       "    .dataframe tbody tr th {\n",
       "        vertical-align: top;\n",
       "    }\n",
       "\n",
       "    .dataframe thead th {\n",
       "        text-align: right;\n",
       "    }\n",
       "</style>\n",
       "<table border=\"1\" class=\"dataframe\">\n",
       "  <thead>\n",
       "    <tr style=\"text-align: right;\">\n",
       "      <th></th>\n",
       "      <th>POST_TOWN</th>\n",
       "      <th>Mean</th>\n",
       "    </tr>\n",
       "  </thead>\n",
       "  <tbody>\n",
       "    <tr>\n",
       "      <th>0</th>\n",
       "      <td>west plean</td>\n",
       "      <td>126.0</td>\n",
       "    </tr>\n",
       "    <tr>\n",
       "      <th>1</th>\n",
       "      <td>meigle</td>\n",
       "      <td>122.0</td>\n",
       "    </tr>\n",
       "    <tr>\n",
       "      <th>2</th>\n",
       "      <td>comrie</td>\n",
       "      <td>121.0</td>\n",
       "    </tr>\n",
       "    <tr>\n",
       "      <th>3</th>\n",
       "      <td>gartocharn</td>\n",
       "      <td>117.0</td>\n",
       "    </tr>\n",
       "    <tr>\n",
       "      <th>4</th>\n",
       "      <td>sanday</td>\n",
       "      <td>117.0</td>\n",
       "    </tr>\n",
       "  </tbody>\n",
       "</table>\n",
       "</div>"
      ],
      "text/plain": [
       "    POST_TOWN   Mean\n",
       "0  west plean  126.0\n",
       "1      meigle  122.0\n",
       "2      comrie  121.0\n",
       "3  gartocharn  117.0\n",
       "4      sanday  117.0"
      ]
     },
     "execution_count": 40,
     "metadata": {},
     "output_type": "execute_result"
    }
   ],
   "source": [
    "# 4 Rank Towns by potential environmental impact rating 'Potential Environmental Impact Rating'    \n",
    "\n",
    "town_pot_env = dataset.groupby(['POST_TOWN'])['Potential Environmental Impact Rating'].mean().reset_index(name='Mean')\n",
    "town_pot_env = town_pot_env.sort_values(by='Mean', ascending=False).reset_index(drop=True)\n",
    "town_pot_env.head()"
   ]
  },
  {
   "cell_type": "code",
   "execution_count": 41,
   "id": "9c731a26",
   "metadata": {},
   "outputs": [
    {
     "data": {
      "text/html": [
       "<div>\n",
       "<style scoped>\n",
       "    .dataframe tbody tr th:only-of-type {\n",
       "        vertical-align: middle;\n",
       "    }\n",
       "\n",
       "    .dataframe tbody tr th {\n",
       "        vertical-align: top;\n",
       "    }\n",
       "\n",
       "    .dataframe thead th {\n",
       "        text-align: right;\n",
       "    }\n",
       "</style>\n",
       "<table border=\"1\" class=\"dataframe\">\n",
       "  <thead>\n",
       "    <tr style=\"text-align: right;\">\n",
       "      <th></th>\n",
       "      <th>POST_TOWN</th>\n",
       "      <th>Mean</th>\n",
       "    </tr>\n",
       "  </thead>\n",
       "  <tbody>\n",
       "    <tr>\n",
       "      <th>0</th>\n",
       "      <td>west plean</td>\n",
       "      <td>126.0</td>\n",
       "    </tr>\n",
       "    <tr>\n",
       "      <th>1</th>\n",
       "      <td>meigle</td>\n",
       "      <td>122.0</td>\n",
       "    </tr>\n",
       "    <tr>\n",
       "      <th>2</th>\n",
       "      <td>comrie</td>\n",
       "      <td>121.0</td>\n",
       "    </tr>\n",
       "    <tr>\n",
       "      <th>3</th>\n",
       "      <td>sanday</td>\n",
       "      <td>117.0</td>\n",
       "    </tr>\n",
       "    <tr>\n",
       "      <th>4</th>\n",
       "      <td>gartocharn</td>\n",
       "      <td>117.0</td>\n",
       "    </tr>\n",
       "  </tbody>\n",
       "</table>\n",
       "</div>"
      ],
      "text/plain": [
       "    POST_TOWN   Mean\n",
       "0  west plean  126.0\n",
       "1      meigle  122.0\n",
       "2      comrie  121.0\n",
       "3      sanday  117.0\n",
       "4  gartocharn  117.0"
      ]
     },
     "execution_count": 41,
     "metadata": {},
     "output_type": "execute_result"
    }
   ],
   "source": [
    "# 5 Rank Towns by Current Emissions (T.CO2/yr)\n",
    "\n",
    "town_curr_em = dataset.groupby(['POST_TOWN'])['Current Emissions (T.CO2/yr)'].mean().reset_index(name='Mean')\n",
    "town_curr_em = town_pot_env.sort_values(by='Mean', ascending=False).reset_index(drop=True)\n",
    "town_curr_em.head()"
   ]
  },
  {
   "cell_type": "code",
   "execution_count": 42,
   "id": "977747b2",
   "metadata": {},
   "outputs": [
    {
     "data": {
      "text/plain": [
       "Index(['Property_UPRN', 'Postcode', 'POST_TOWN', 'Date of Assessment',\n",
       "       'Primary Energy Indicator (kWh/m²/year)', 'Total floor area (m²)',\n",
       "       'Current energy efficiency rating',\n",
       "       'Current energy efficiency rating band',\n",
       "       'Potential Energy Efficiency Rating',\n",
       "       'Potential energy efficiency rating band',\n",
       "       'Current Environmental Impact Rating',\n",
       "       'Current Environmental Impact Rating Band',\n",
       "       'Potential Environmental Impact Rating',\n",
       "       'Potential Environmental Impact Rating Band',\n",
       "       'CO2 Emissions Current Per Floor Area (kg.CO2/m²/yr)',\n",
       "       'WALL_DESCRIPTION', 'WALL_ENERGY_EFF', 'ROOF_DESCRIPTION',\n",
       "       'ROOF_ENERGY_EFF', 'FLOOR_DESCRIPTION', 'FLOOR_ENERGY_EFF',\n",
       "       'FLOOR_ENV_EFF', 'WINDOWS_DESCRIPTION', 'WINDOWS_ENERGY_EFF',\n",
       "       'WINDOWS_ENV_EFF', 'MAINHEAT_DESCRIPTION', 'MAINHEAT_ENERGY_EFF',\n",
       "       'MAINHEAT_ENV_EFF', 'MAINHEATCONT_DESCRIPTION', 'MAINHEATC_ENERGY_EFF',\n",
       "       'MAINHEATC_ENV_EFF', 'HOT_WATER_ENERGY_EFF', 'HOT_WATER_ENV_EFF',\n",
       "       'LIGHTING_DESCRIPTION', 'LIGHTING_ENERGY_EFF', 'LIGHTING_ENV_EFF',\n",
       "       'Current Emissions (T.CO2/yr)',\n",
       "       'Potential Reduction in Emissions (T.CO2/yr)',\n",
       "       'Total current energy costs over 3 years (£)',\n",
       "       'Current heating costs over 3 years (£)',\n",
       "       'Potential heating costs over 3 years (£)',\n",
       "       'Current hot water costs over 3 years (£)',\n",
       "       'Potential hot water costs over 3 years (£)',\n",
       "       'Current lighting costs over 3 years (£)',\n",
       "       'Potential lighting costs over 3 years (£)',\n",
       "       'Part 1 Construction Age Band', 'Built Form', 'Property Type'],\n",
       "      dtype='object')"
      ]
     },
     "execution_count": 42,
     "metadata": {},
     "output_type": "execute_result"
    }
   ],
   "source": [
    "dataset.columns"
   ]
  },
  {
   "cell_type": "code",
   "execution_count": 43,
   "id": "bda0e0c1",
   "metadata": {},
   "outputs": [
    {
     "data": {
      "text/html": [
       "<div>\n",
       "<style scoped>\n",
       "    .dataframe tbody tr th:only-of-type {\n",
       "        vertical-align: middle;\n",
       "    }\n",
       "\n",
       "    .dataframe tbody tr th {\n",
       "        vertical-align: top;\n",
       "    }\n",
       "\n",
       "    .dataframe thead th {\n",
       "        text-align: right;\n",
       "    }\n",
       "</style>\n",
       "<table border=\"1\" class=\"dataframe\">\n",
       "  <thead>\n",
       "    <tr style=\"text-align: right;\">\n",
       "      <th></th>\n",
       "      <th>POST_TOWN</th>\n",
       "      <th>Mean</th>\n",
       "    </tr>\n",
       "  </thead>\n",
       "  <tbody>\n",
       "    <tr>\n",
       "      <th>0</th>\n",
       "      <td>west plean</td>\n",
       "      <td>126.0</td>\n",
       "    </tr>\n",
       "    <tr>\n",
       "      <th>1</th>\n",
       "      <td>meigle</td>\n",
       "      <td>122.0</td>\n",
       "    </tr>\n",
       "    <tr>\n",
       "      <th>2</th>\n",
       "      <td>comrie</td>\n",
       "      <td>121.0</td>\n",
       "    </tr>\n",
       "    <tr>\n",
       "      <th>3</th>\n",
       "      <td>sanday</td>\n",
       "      <td>117.0</td>\n",
       "    </tr>\n",
       "    <tr>\n",
       "      <th>4</th>\n",
       "      <td>gartocharn</td>\n",
       "      <td>117.0</td>\n",
       "    </tr>\n",
       "  </tbody>\n",
       "</table>\n",
       "</div>"
      ],
      "text/plain": [
       "    POST_TOWN   Mean\n",
       "0  west plean  126.0\n",
       "1      meigle  122.0\n",
       "2      comrie  121.0\n",
       "3      sanday  117.0\n",
       "4  gartocharn  117.0"
      ]
     },
     "execution_count": 43,
     "metadata": {},
     "output_type": "execute_result"
    }
   ],
   "source": [
    "# 6 Rank Towns by Potential Reduction in Emissions (T.CO2/yr) \n",
    "\n",
    "town_pot_red_em = dataset.groupby(['POST_TOWN'])['Potential Reduction in Emissions (T.CO2/yr)'].mean().reset_index(name='Mean')\n",
    "town_pot_red_em = town_pot_env.sort_values(by='Mean', ascending=False).reset_index(drop=True)\n",
    "town_pot_red_em.head()"
   ]
  },
  {
   "cell_type": "code",
   "execution_count": 44,
   "id": "383dc7fa",
   "metadata": {},
   "outputs": [],
   "source": [
    "# 7 Rank Towns by potential savings in heating costs (£) over three years\n",
    "dataset['heat_savings'] = dataset['Current heating costs over 3 years (£)'] - dataset['Potential heating costs over 3 years (£)']"
   ]
  },
  {
   "cell_type": "code",
   "execution_count": 45,
   "id": "3c52a1a7",
   "metadata": {},
   "outputs": [
    {
     "data": {
      "text/html": [
       "<div>\n",
       "<style scoped>\n",
       "    .dataframe tbody tr th:only-of-type {\n",
       "        vertical-align: middle;\n",
       "    }\n",
       "\n",
       "    .dataframe tbody tr th {\n",
       "        vertical-align: top;\n",
       "    }\n",
       "\n",
       "    .dataframe thead th {\n",
       "        text-align: right;\n",
       "    }\n",
       "</style>\n",
       "<table border=\"1\" class=\"dataframe\">\n",
       "  <thead>\n",
       "    <tr style=\"text-align: right;\">\n",
       "      <th></th>\n",
       "      <th>POST_TOWN</th>\n",
       "      <th>Mean</th>\n",
       "    </tr>\n",
       "  </thead>\n",
       "  <tbody>\n",
       "    <tr>\n",
       "      <th>0</th>\n",
       "      <td>bonawe</td>\n",
       "      <td>11085.0</td>\n",
       "    </tr>\n",
       "    <tr>\n",
       "      <th>1</th>\n",
       "      <td>east dunbartonshire</td>\n",
       "      <td>11016.0</td>\n",
       "    </tr>\n",
       "    <tr>\n",
       "      <th>2</th>\n",
       "      <td>morvern</td>\n",
       "      <td>7098.0</td>\n",
       "    </tr>\n",
       "    <tr>\n",
       "      <th>3</th>\n",
       "      <td>corsock</td>\n",
       "      <td>6639.0</td>\n",
       "    </tr>\n",
       "    <tr>\n",
       "      <th>4</th>\n",
       "      <td>findhorn</td>\n",
       "      <td>5922.0</td>\n",
       "    </tr>\n",
       "  </tbody>\n",
       "</table>\n",
       "</div>"
      ],
      "text/plain": [
       "             POST_TOWN     Mean\n",
       "0               bonawe  11085.0\n",
       "1  east dunbartonshire  11016.0\n",
       "2              morvern   7098.0\n",
       "3              corsock   6639.0\n",
       "4             findhorn   5922.0"
      ]
     },
     "execution_count": 45,
     "metadata": {},
     "output_type": "execute_result"
    }
   ],
   "source": [
    "town_save_heating = dataset.groupby(['POST_TOWN'])['heat_savings'].mean().reset_index(name='Mean')\n",
    "town_save_heating = town_save_heating.sort_values(by='Mean', ascending=False).reset_index(drop=True)\n",
    "town_save_heating.head()"
   ]
  },
  {
   "cell_type": "code",
   "execution_count": 46,
   "id": "55a90bfe",
   "metadata": {},
   "outputs": [
    {
     "data": {
      "text/html": [
       "<div>\n",
       "<style scoped>\n",
       "    .dataframe tbody tr th:only-of-type {\n",
       "        vertical-align: middle;\n",
       "    }\n",
       "\n",
       "    .dataframe tbody tr th {\n",
       "        vertical-align: top;\n",
       "    }\n",
       "\n",
       "    .dataframe thead th {\n",
       "        text-align: right;\n",
       "    }\n",
       "</style>\n",
       "<table border=\"1\" class=\"dataframe\">\n",
       "  <thead>\n",
       "    <tr style=\"text-align: right;\">\n",
       "      <th></th>\n",
       "      <th>POST_TOWN</th>\n",
       "      <th>Mean</th>\n",
       "    </tr>\n",
       "  </thead>\n",
       "  <tbody>\n",
       "    <tr>\n",
       "      <th>0</th>\n",
       "      <td>kincardine</td>\n",
       "      <td>2283.0</td>\n",
       "    </tr>\n",
       "    <tr>\n",
       "      <th>1</th>\n",
       "      <td>east dunbartonshire</td>\n",
       "      <td>1653.0</td>\n",
       "    </tr>\n",
       "    <tr>\n",
       "      <th>2</th>\n",
       "      <td>by maybole</td>\n",
       "      <td>1080.0</td>\n",
       "    </tr>\n",
       "    <tr>\n",
       "      <th>3</th>\n",
       "      <td>corsock</td>\n",
       "      <td>1056.0</td>\n",
       "    </tr>\n",
       "    <tr>\n",
       "      <th>4</th>\n",
       "      <td>burghead</td>\n",
       "      <td>978.0</td>\n",
       "    </tr>\n",
       "  </tbody>\n",
       "</table>\n",
       "</div>"
      ],
      "text/plain": [
       "             POST_TOWN    Mean\n",
       "0           kincardine  2283.0\n",
       "1  east dunbartonshire  1653.0\n",
       "2           by maybole  1080.0\n",
       "3              corsock  1056.0\n",
       "4             burghead   978.0"
      ]
     },
     "execution_count": 46,
     "metadata": {},
     "output_type": "execute_result"
    }
   ],
   "source": [
    "# 8 Rank Towns by potential savings in hot water costs (£) over three years \n",
    "dataset['hot_water_save'] = dataset['Current hot water costs over 3 years (£)'] - dataset['Potential hot water costs over 3 years (£)']\n",
    "town_hot_water_save = dataset.groupby(['POST_TOWN'])['hot_water_save'].mean().reset_index(name='Mean')\n",
    "town_hot_water_save = town_hot_water_save.sort_values(by='Mean', ascending=False).reset_index(drop=True)\n",
    "town_hot_water_save.head()"
   ]
  },
  {
   "cell_type": "code",
   "execution_count": 47,
   "id": "ac364ec6",
   "metadata": {},
   "outputs": [
    {
     "data": {
      "text/plain": [
       "Good                               33397\n",
       "Very Good                          26451\n",
       "Average                            19903\n",
       "Poor                               18015\n",
       "Poor | Poor                         9256\n",
       "                                   ...  \n",
       "Good | Very Poor | Average             1\n",
       "Very Good | Poor | Average             1\n",
       "Poor | Average | Poor | Good           1\n",
       "Very Poor | Average | Very Good        1\n",
       "Very Good | Good | Average             1\n",
       "Name: WALL_ENERGY_EFF, Length: 261, dtype: int64"
      ]
     },
     "execution_count": 47,
     "metadata": {},
     "output_type": "execute_result"
    }
   ],
   "source": [
    "# 9 Rank the top 5 wall descriptions (wall materials) by CO2 emissions current per floor area and wall energy efficiency \\\n",
    "# (create a single rating combining CO2 emissions and wall energy efficiency) \n",
    "\n",
    "dataset['WALL_ENERGY_EFF'].value_counts()"
   ]
  },
  {
   "cell_type": "code",
   "execution_count": 48,
   "id": "b4a89d1b",
   "metadata": {},
   "outputs": [],
   "source": [
    "#working this off in Excel\n",
    "wall_energy_eff = dataset['WALL_ENERGY_EFF'].reset_index(drop=True)\n",
    "wall_energy_eff.to_csv('wall_energy_eff')"
   ]
  },
  {
   "cell_type": "code",
   "execution_count": 49,
   "id": "9af1b665",
   "metadata": {},
   "outputs": [
    {
     "name": "stderr",
     "output_type": "stream",
     "text": [
      "C:\\ProgramData\\Anaconda3\\lib\\site-packages\\IPython\\core\\interactiveshell.py:3444: DtypeWarning: Columns (4,13) have mixed types.Specify dtype option on import or set low_memory=False.\n",
      "  exec(code_obj, self.user_global_ns, self.user_ns)\n"
     ]
    }
   ],
   "source": [
    "wall_ee = pd.read_csv('wall_energy_eff.csv')"
   ]
  },
  {
   "cell_type": "code",
   "execution_count": 50,
   "id": "52f48aa3",
   "metadata": {},
   "outputs": [
    {
     "data": {
      "text/plain": [
       "Index(['index', 'rating a ', ' rating b ', ' rating c ', ' rating d ',\n",
       "       'rating a_num', 'rating b_num', 'rating c_num', 'rating d_num',\n",
       "       'valid_cells', 'Value', 'Average_rating', 'Unnamed: 12', 'Rating',\n",
       "       'Score'],\n",
       "      dtype='object')"
      ]
     },
     "execution_count": 50,
     "metadata": {},
     "output_type": "execute_result"
    }
   ],
   "source": [
    "wall_ee.columns"
   ]
  },
  {
   "cell_type": "code",
   "execution_count": 51,
   "id": "87ef8eaf",
   "metadata": {},
   "outputs": [],
   "source": [
    "dataset['AGG_RATING'] = wall_ee['Average_rating']"
   ]
  },
  {
   "cell_type": "markdown",
   "id": "312e3a6b",
   "metadata": {},
   "source": [
    "This is the first time, for subsequent runs, should replace this EE_PRODUCT with WALL_EE_PRODUCT as there is a roof version later on\n",
    "\n",
    "Create new rating - wall emissions-efficiency product (EE_PRODUCT)  \n",
    "The lower the emissions, the better.  \n",
    "The lower the rating, the better.   \n",
    "Very Good = 5   \n",
    "Good = 4   \n",
    "Average = 3   \n",
    "Poor = 4     \n",
    "Very Poor = 5   "
   ]
  },
  {
   "cell_type": "code",
   "execution_count": 52,
   "id": "6a17c31a",
   "metadata": {},
   "outputs": [],
   "source": [
    "dataset['EE_PRODUCT'] = dataset['CO2 Emissions Current Per Floor Area (kg.CO2/m²/yr)'] * dataset['AGG_RATING']"
   ]
  },
  {
   "cell_type": "code",
   "execution_count": 53,
   "id": "f97e5ba4",
   "metadata": {},
   "outputs": [
    {
     "data": {
      "text/plain": [
       "Cavity wall, filled cavity                                                                                                                                     21917\n",
       "Timber frame, as built, insulated (assumed)                                                                                                                    18387\n",
       "Cavity wall, as built, no insulation (assumed)                                                                                                                 10100\n",
       "Sandstone or limestone, as built, no insulation (assumed) | Solid brick, as built, no insulation (assumed)                                                      7881\n",
       "Cavity wall, as built, insulated (assumed)                                                                                                                      7836\n",
       "                                                                                                                                                               ...  \n",
       "Granite or whinstone, as built, insulated (assumed) | Sandstone or limestone, as built, no insulation (assumed)                                                    1\n",
       "Solid brick, as built, no insulation (assumed) | Sandstone or limestone, with internal insulation                                                                  1\n",
       "Granite or whinstone, as built, no insulation (assumed) | Solid brick, as built, insulated (assumed) | System built, as built, partial insulation (assumed)        1\n",
       "Cavity wall, filled cavity | Granite or whinstone, as built, insulated (assumed)                                                                                   1\n",
       "Cavity wall, with internal insulation | Granite or whinstone, with internal insulation | Timber frame, as built, insulated (assumed)                               1\n",
       "Name: WALL_DESCRIPTION, Length: 1519, dtype: int64"
      ]
     },
     "execution_count": 53,
     "metadata": {},
     "output_type": "execute_result"
    }
   ],
   "source": [
    "dataset['WALL_DESCRIPTION'].value_counts()"
   ]
  },
  {
   "cell_type": "code",
   "execution_count": 54,
   "id": "82de0e21",
   "metadata": {},
   "outputs": [
    {
     "data": {
      "text/html": [
       "<div>\n",
       "<style scoped>\n",
       "    .dataframe tbody tr th:only-of-type {\n",
       "        vertical-align: middle;\n",
       "    }\n",
       "\n",
       "    .dataframe tbody tr th {\n",
       "        vertical-align: top;\n",
       "    }\n",
       "\n",
       "    .dataframe thead th {\n",
       "        text-align: right;\n",
       "    }\n",
       "</style>\n",
       "<table border=\"1\" class=\"dataframe\">\n",
       "  <thead>\n",
       "    <tr style=\"text-align: right;\">\n",
       "      <th></th>\n",
       "      <th>WALL_DESCRIPTION</th>\n",
       "      <th>Mean</th>\n",
       "    </tr>\n",
       "  </thead>\n",
       "  <tbody>\n",
       "    <tr>\n",
       "      <th>0</th>\n",
       "      <td>Average thermal transmittance 0.09 W/m²K</td>\n",
       "      <td>-12.500000</td>\n",
       "    </tr>\n",
       "    <tr>\n",
       "      <th>1</th>\n",
       "      <td>Average thermal transmittance 0.14 W/mÂ²K</td>\n",
       "      <td>15.000000</td>\n",
       "    </tr>\n",
       "    <tr>\n",
       "      <th>2</th>\n",
       "      <td>Cavity wall, filled cavity | Granite or whinst...</td>\n",
       "      <td>22.000000</td>\n",
       "    </tr>\n",
       "    <tr>\n",
       "      <th>3</th>\n",
       "      <td>Granite or whinstone, as built, insulated (ass...</td>\n",
       "      <td>27.000000</td>\n",
       "    </tr>\n",
       "    <tr>\n",
       "      <th>4</th>\n",
       "      <td>Cavity wall, with internal insulation | Timber...</td>\n",
       "      <td>31.500000</td>\n",
       "    </tr>\n",
       "    <tr>\n",
       "      <th>...</th>\n",
       "      <td>...</td>\n",
       "      <td>...</td>\n",
       "    </tr>\n",
       "    <tr>\n",
       "      <th>1514</th>\n",
       "      <td>Granite or whinstone, as built, no insulation ...</td>\n",
       "      <td>744.000000</td>\n",
       "    </tr>\n",
       "    <tr>\n",
       "      <th>1515</th>\n",
       "      <td>Granite or whinstone, as built, no insulation ...</td>\n",
       "      <td>806.000000</td>\n",
       "    </tr>\n",
       "    <tr>\n",
       "      <th>1516</th>\n",
       "      <td>Cavity wall, as built, partial insulation (ass...</td>\n",
       "      <td>832.000000</td>\n",
       "    </tr>\n",
       "    <tr>\n",
       "      <th>1517</th>\n",
       "      <td>Timber frame, as built, no insulation (assumed...</td>\n",
       "      <td>895.500000</td>\n",
       "    </tr>\n",
       "    <tr>\n",
       "      <th>1518</th>\n",
       "      <td>Granite or whinstone, as built, no insulation ...</td>\n",
       "      <td>957.666667</td>\n",
       "    </tr>\n",
       "  </tbody>\n",
       "</table>\n",
       "<p>1519 rows × 2 columns</p>\n",
       "</div>"
      ],
      "text/plain": [
       "                                       WALL_DESCRIPTION        Mean\n",
       "0              Average thermal transmittance 0.09 W/m²K  -12.500000\n",
       "1             Average thermal transmittance 0.14 W/mÂ²K   15.000000\n",
       "2     Cavity wall, filled cavity | Granite or whinst...   22.000000\n",
       "3     Granite or whinstone, as built, insulated (ass...   27.000000\n",
       "4     Cavity wall, with internal insulation | Timber...   31.500000\n",
       "...                                                 ...         ...\n",
       "1514  Granite or whinstone, as built, no insulation ...  744.000000\n",
       "1515  Granite or whinstone, as built, no insulation ...  806.000000\n",
       "1516  Cavity wall, as built, partial insulation (ass...  832.000000\n",
       "1517  Timber frame, as built, no insulation (assumed...  895.500000\n",
       "1518  Granite or whinstone, as built, no insulation ...  957.666667\n",
       "\n",
       "[1519 rows x 2 columns]"
      ]
     },
     "execution_count": 54,
     "metadata": {},
     "output_type": "execute_result"
    }
   ],
   "source": [
    "wall_desc_ee = dataset.groupby(['WALL_DESCRIPTION'])['EE_PRODUCT'].mean().reset_index(name='Mean')\n",
    "wall_desc_ee = wall_desc_ee.sort_values(by='Mean', ascending=True).reset_index(drop=True)\n",
    "wall_desc_ee"
   ]
  },
  {
   "cell_type": "code",
   "execution_count": 55,
   "id": "4c4e155f",
   "metadata": {},
   "outputs": [
    {
     "data": {
      "text/plain": [
       "Good                                40333\n",
       "Very Good                           26581\n",
       "N/A                                 11929\n",
       "Good                                11390\n",
       "Very Poor                            7909\n",
       "                                    ...  \n",
       "N/A | Poor | Good                       1\n",
       "N/A | Very Good | Very Poor             1\n",
       "Very Poor | Average | Very Good         1\n",
       "Average | Very Poor | Average           1\n",
       "Average | Poor | Very Good              1\n",
       "Name: ROOF_ENERGY_EFF, Length: 294, dtype: int64"
      ]
     },
     "execution_count": 55,
     "metadata": {},
     "output_type": "execute_result"
    }
   ],
   "source": [
    "dataset['ROOF_ENERGY_EFF'].value_counts()"
   ]
  },
  {
   "cell_type": "code",
   "execution_count": 56,
   "id": "24096844",
   "metadata": {},
   "outputs": [],
   "source": [
    "#export to work off separately in Excel\n",
    "#vlookup to convert the strings into values, and then to create an average value\n",
    "roof_energy_eff = dataset['ROOF_ENERGY_EFF'].to_csv('roof_ee.csv')"
   ]
  },
  {
   "cell_type": "code",
   "execution_count": 57,
   "id": "b440e07c",
   "metadata": {},
   "outputs": [
    {
     "name": "stderr",
     "output_type": "stream",
     "text": [
      "C:\\ProgramData\\Anaconda3\\lib\\site-packages\\IPython\\core\\interactiveshell.py:3444: DtypeWarning: Columns (17) have mixed types.Specify dtype option on import or set low_memory=False.\n",
      "  exec(code_obj, self.user_global_ns, self.user_ns)\n"
     ]
    }
   ],
   "source": [
    "roof_ee = pd.read_csv('roof_ee_new.csv')"
   ]
  },
  {
   "cell_type": "code",
   "execution_count": 58,
   "id": "9f599291",
   "metadata": {},
   "outputs": [
    {
     "data": {
      "text/html": [
       "<div>\n",
       "<style scoped>\n",
       "    .dataframe tbody tr th:only-of-type {\n",
       "        vertical-align: middle;\n",
       "    }\n",
       "\n",
       "    .dataframe tbody tr th {\n",
       "        vertical-align: top;\n",
       "    }\n",
       "\n",
       "    .dataframe thead th {\n",
       "        text-align: right;\n",
       "    }\n",
       "</style>\n",
       "<table border=\"1\" class=\"dataframe\">\n",
       "  <thead>\n",
       "    <tr style=\"text-align: right;\">\n",
       "      <th></th>\n",
       "      <th>Index</th>\n",
       "      <th>rating_a</th>\n",
       "      <th>rating_b</th>\n",
       "      <th>rating_c</th>\n",
       "      <th>rating_a_num</th>\n",
       "      <th>rating_b_num</th>\n",
       "      <th>rating_c_num</th>\n",
       "      <th>valid_cells</th>\n",
       "      <th>value</th>\n",
       "      <th>average_rating</th>\n",
       "      <th>Unnamed: 10</th>\n",
       "      <th>Unnamed: 11</th>\n",
       "      <th>Unnamed: 12</th>\n",
       "      <th>Unnamed: 13</th>\n",
       "      <th>Unnamed: 14</th>\n",
       "      <th>Unnamed: 15</th>\n",
       "      <th>Unnamed: 16</th>\n",
       "      <th>Value</th>\n",
       "      <th>Score</th>\n",
       "    </tr>\n",
       "  </thead>\n",
       "  <tbody>\n",
       "    <tr>\n",
       "      <th>0</th>\n",
       "      <td>0</td>\n",
       "      <td>Poor</td>\n",
       "      <td>NaN</td>\n",
       "      <td>NaN</td>\n",
       "      <td>4.0</td>\n",
       "      <td>NaN</td>\n",
       "      <td>NaN</td>\n",
       "      <td>1</td>\n",
       "      <td>4</td>\n",
       "      <td>4</td>\n",
       "      <td>NaN</td>\n",
       "      <td>NaN</td>\n",
       "      <td>NaN</td>\n",
       "      <td>NaN</td>\n",
       "      <td>NaN</td>\n",
       "      <td>NaN</td>\n",
       "      <td>NaN</td>\n",
       "      <td>VeryGood</td>\n",
       "      <td>1.0</td>\n",
       "    </tr>\n",
       "    <tr>\n",
       "      <th>1</th>\n",
       "      <td>1</td>\n",
       "      <td>Average</td>\n",
       "      <td>Good</td>\n",
       "      <td>VeryPoor</td>\n",
       "      <td>3.0</td>\n",
       "      <td>3.0</td>\n",
       "      <td>5.0</td>\n",
       "      <td>3</td>\n",
       "      <td>11</td>\n",
       "      <td>3.666666667</td>\n",
       "      <td>NaN</td>\n",
       "      <td>NaN</td>\n",
       "      <td>NaN</td>\n",
       "      <td>NaN</td>\n",
       "      <td>NaN</td>\n",
       "      <td>NaN</td>\n",
       "      <td>NaN</td>\n",
       "      <td>Good</td>\n",
       "      <td>2.0</td>\n",
       "    </tr>\n",
       "    <tr>\n",
       "      <th>2</th>\n",
       "      <td>2</td>\n",
       "      <td></td>\n",
       "      <td>NaN</td>\n",
       "      <td>NaN</td>\n",
       "      <td>NaN</td>\n",
       "      <td>NaN</td>\n",
       "      <td>NaN</td>\n",
       "      <td>0</td>\n",
       "      <td>0</td>\n",
       "      <td>#DIV/0!</td>\n",
       "      <td>NaN</td>\n",
       "      <td>NaN</td>\n",
       "      <td>NaN</td>\n",
       "      <td>NaN</td>\n",
       "      <td>NaN</td>\n",
       "      <td>NaN</td>\n",
       "      <td>NaN</td>\n",
       "      <td>Average</td>\n",
       "      <td>3.0</td>\n",
       "    </tr>\n",
       "    <tr>\n",
       "      <th>3</th>\n",
       "      <td>3</td>\n",
       "      <td>Good</td>\n",
       "      <td>NaN</td>\n",
       "      <td>NaN</td>\n",
       "      <td>3.0</td>\n",
       "      <td>NaN</td>\n",
       "      <td>NaN</td>\n",
       "      <td>1</td>\n",
       "      <td>3</td>\n",
       "      <td>3</td>\n",
       "      <td>NaN</td>\n",
       "      <td>NaN</td>\n",
       "      <td>NaN</td>\n",
       "      <td>NaN</td>\n",
       "      <td>NaN</td>\n",
       "      <td>NaN</td>\n",
       "      <td>NaN</td>\n",
       "      <td>Poor</td>\n",
       "      <td>4.0</td>\n",
       "    </tr>\n",
       "    <tr>\n",
       "      <th>4</th>\n",
       "      <td>4</td>\n",
       "      <td>Good</td>\n",
       "      <td>NaN</td>\n",
       "      <td>NaN</td>\n",
       "      <td>3.0</td>\n",
       "      <td>NaN</td>\n",
       "      <td>NaN</td>\n",
       "      <td>1</td>\n",
       "      <td>3</td>\n",
       "      <td>3</td>\n",
       "      <td>NaN</td>\n",
       "      <td>NaN</td>\n",
       "      <td>NaN</td>\n",
       "      <td>NaN</td>\n",
       "      <td>NaN</td>\n",
       "      <td>NaN</td>\n",
       "      <td>NaN</td>\n",
       "      <td>VeryPoor</td>\n",
       "      <td>5.0</td>\n",
       "    </tr>\n",
       "  </tbody>\n",
       "</table>\n",
       "</div>"
      ],
      "text/plain": [
       "   Index  rating_a rating_b   rating_c  rating_a_num  rating_b_num  \\\n",
       "0      0     Poor       NaN        NaN           4.0           NaN   \n",
       "1      1  Average     Good   VeryPoor            3.0           3.0   \n",
       "2      2                NaN        NaN           NaN           NaN   \n",
       "3      3     Good       NaN        NaN           3.0           NaN   \n",
       "4      4     Good       NaN        NaN           3.0           NaN   \n",
       "\n",
       "   rating_c_num  valid_cells  value average_rating  Unnamed: 10  Unnamed: 11  \\\n",
       "0           NaN            1      4              4          NaN          NaN   \n",
       "1           5.0            3     11    3.666666667          NaN          NaN   \n",
       "2           NaN            0      0        #DIV/0!          NaN          NaN   \n",
       "3           NaN            1      3              3          NaN          NaN   \n",
       "4           NaN            1      3              3          NaN          NaN   \n",
       "\n",
       "   Unnamed: 12  Unnamed: 13  Unnamed: 14  Unnamed: 15  Unnamed: 16     Value  \\\n",
       "0          NaN          NaN          NaN          NaN          NaN  VeryGood   \n",
       "1          NaN          NaN          NaN          NaN          NaN      Good   \n",
       "2          NaN          NaN          NaN          NaN          NaN   Average   \n",
       "3          NaN          NaN          NaN          NaN          NaN      Poor   \n",
       "4          NaN          NaN          NaN          NaN          NaN  VeryPoor   \n",
       "\n",
       "   Score  \n",
       "0    1.0  \n",
       "1    2.0  \n",
       "2    3.0  \n",
       "3    4.0  \n",
       "4    5.0  "
      ]
     },
     "execution_count": 58,
     "metadata": {},
     "output_type": "execute_result"
    }
   ],
   "source": [
    "roof_ee.head()"
   ]
  },
  {
   "cell_type": "code",
   "execution_count": 59,
   "id": "c57cd704",
   "metadata": {},
   "outputs": [
    {
     "data": {
      "text/plain": [
       "0                   4\n",
       "1         3.666666667\n",
       "2                  -1\n",
       "3                   3\n",
       "4                   3\n",
       "             ...     \n",
       "185034              4\n",
       "185035              3\n",
       "185036              3\n",
       "185037             -1\n",
       "185038             -1\n",
       "Name: average_rating, Length: 185039, dtype: object"
      ]
     },
     "execution_count": 59,
     "metadata": {},
     "output_type": "execute_result"
    }
   ],
   "source": [
    "roof_ee['average_rating'].replace('#DIV/0!',value=-1)"
   ]
  },
  {
   "cell_type": "code",
   "execution_count": 60,
   "id": "eff1c818",
   "metadata": {},
   "outputs": [],
   "source": [
    "dataset['ROOF_RATING'] = roof_ee['average_rating']"
   ]
  },
  {
   "cell_type": "code",
   "execution_count": 61,
   "id": "cc658786",
   "metadata": {},
   "outputs": [],
   "source": [
    "dataset['ROOF_RATING'] = dataset['ROOF_RATING'].replace('#DIV/0!',value=-1)"
   ]
  },
  {
   "cell_type": "code",
   "execution_count": 62,
   "id": "e6939986",
   "metadata": {},
   "outputs": [],
   "source": [
    "dataset['ROOF_RATING'] = dataset['ROOF_RATING'].astype(float)"
   ]
  },
  {
   "cell_type": "code",
   "execution_count": 63,
   "id": "064cdc0c",
   "metadata": {},
   "outputs": [],
   "source": [
    "dataset['ROOF_EE_PRODUCT'] = dataset['CO2 Emissions Current Per Floor Area (kg.CO2/m²/yr)'] * dataset['ROOF_RATING']"
   ]
  },
  {
   "cell_type": "code",
   "execution_count": 64,
   "id": "cbc84acc",
   "metadata": {},
   "outputs": [
    {
     "data": {
      "text/html": [
       "<div>\n",
       "<style scoped>\n",
       "    .dataframe tbody tr th:only-of-type {\n",
       "        vertical-align: middle;\n",
       "    }\n",
       "\n",
       "    .dataframe tbody tr th {\n",
       "        vertical-align: top;\n",
       "    }\n",
       "\n",
       "    .dataframe thead th {\n",
       "        text-align: right;\n",
       "    }\n",
       "</style>\n",
       "<table border=\"1\" class=\"dataframe\">\n",
       "  <thead>\n",
       "    <tr style=\"text-align: right;\">\n",
       "      <th></th>\n",
       "      <th>ROOF_DESCRIPTION</th>\n",
       "      <th>Mean</th>\n",
       "    </tr>\n",
       "  </thead>\n",
       "  <tbody>\n",
       "    <tr>\n",
       "      <th>0</th>\n",
       "      <td>(another dwelling above) | Pitched, 100 mm lof...</td>\n",
       "      <td>-61.892857</td>\n",
       "    </tr>\n",
       "    <tr>\n",
       "      <th>1</th>\n",
       "      <td>(another dwelling above) | Pitched, 100 mm lof...</td>\n",
       "      <td>-51.000000</td>\n",
       "    </tr>\n",
       "    <tr>\n",
       "      <th>2</th>\n",
       "      <td>(another dwelling above)</td>\n",
       "      <td>-42.876719</td>\n",
       "    </tr>\n",
       "    <tr>\n",
       "      <th>3</th>\n",
       "      <td>(another dwelling above)</td>\n",
       "      <td>-42.743910</td>\n",
       "    </tr>\n",
       "    <tr>\n",
       "      <th>4</th>\n",
       "      <td>(another dwelling above) | Pitched, 75 mm loft...</td>\n",
       "      <td>-37.000000</td>\n",
       "    </tr>\n",
       "    <tr>\n",
       "      <th>...</th>\n",
       "      <td>...</td>\n",
       "      <td>...</td>\n",
       "    </tr>\n",
       "    <tr>\n",
       "      <th>1979</th>\n",
       "      <td>Pitched, 25 mm loft insulation | Pitched, 50 m...</td>\n",
       "      <td>853.666667</td>\n",
       "    </tr>\n",
       "    <tr>\n",
       "      <th>1980</th>\n",
       "      <td>Pitched, limited insulation (assumed) | Pitche...</td>\n",
       "      <td>868.000000</td>\n",
       "    </tr>\n",
       "    <tr>\n",
       "      <th>1981</th>\n",
       "      <td>Pitched, 250 mm loft insulation | Pitched, ins...</td>\n",
       "      <td>883.666667</td>\n",
       "    </tr>\n",
       "    <tr>\n",
       "      <th>1982</th>\n",
       "      <td>Roof room(s), ceiling insulated | Pitched, 100...</td>\n",
       "      <td>905.000000</td>\n",
       "    </tr>\n",
       "    <tr>\n",
       "      <th>1983</th>\n",
       "      <td>Pitched, 50 mm loft insulation | Pitched, no i...</td>\n",
       "      <td>1190.000000</td>\n",
       "    </tr>\n",
       "  </tbody>\n",
       "</table>\n",
       "<p>1984 rows × 2 columns</p>\n",
       "</div>"
      ],
      "text/plain": [
       "                                       ROOF_DESCRIPTION         Mean\n",
       "0     (another dwelling above) | Pitched, 100 mm lof...   -61.892857\n",
       "1     (another dwelling above) | Pitched, 100 mm lof...   -51.000000\n",
       "2                             (another dwelling above)    -42.876719\n",
       "3                              (another dwelling above)   -42.743910\n",
       "4     (another dwelling above) | Pitched, 75 mm loft...   -37.000000\n",
       "...                                                 ...          ...\n",
       "1979  Pitched, 25 mm loft insulation | Pitched, 50 m...   853.666667\n",
       "1980  Pitched, limited insulation (assumed) | Pitche...   868.000000\n",
       "1981  Pitched, 250 mm loft insulation | Pitched, ins...   883.666667\n",
       "1982  Roof room(s), ceiling insulated | Pitched, 100...   905.000000\n",
       "1983  Pitched, 50 mm loft insulation | Pitched, no i...  1190.000000\n",
       "\n",
       "[1984 rows x 2 columns]"
      ]
     },
     "execution_count": 64,
     "metadata": {},
     "output_type": "execute_result"
    }
   ],
   "source": [
    "#rank roof descriptions by roof emissions-efficiency product\n",
    "\n",
    "roof_desc = dataset.groupby(['ROOF_DESCRIPTION'])['ROOF_EE_PRODUCT'].mean().reset_index(name='Mean')\n",
    "roof_desc = roof_desc.sort_values(by='Mean', ascending=True).reset_index(drop=True)\n",
    "roof_desc\n",
    "\n",
    "#ignore the initial negative numbers, as they really mean negative numbers"
   ]
  },
  {
   "cell_type": "code",
   "execution_count": 65,
   "id": "f323ce91",
   "metadata": {},
   "outputs": [],
   "source": [
    "#dataset['WALL_DESCRIPTION'].to_csv(\"wall_desc.csv\")"
   ]
  },
  {
   "cell_type": "code",
   "execution_count": 66,
   "id": "538ee9f1",
   "metadata": {},
   "outputs": [],
   "source": [
    "wall_desc = dataset['WALL_DESCRIPTION']"
   ]
  },
  {
   "cell_type": "markdown",
   "id": "7e7f60c2",
   "metadata": {},
   "source": [
    "#implementation from https://www.toptal.com/python/topic-modeling-python\n",
    "\n",
    "from sklearn.feature_extraction.text import CountVectorizer\n",
    "from sklearn.feature_extraction.text import TfidfTransformer\n",
    "from sklearn.decomposition import LatentDirichletAllocation as LDA\n",
    "from nltk.corpus import stopwords"
   ]
  },
  {
   "cell_type": "markdown",
   "id": "f7819596",
   "metadata": {},
   "source": [
    "from sklearn.feature_extraction.text import CountVectorizer"
   ]
  },
  {
   "cell_type": "markdown",
   "id": "f7aef1f5",
   "metadata": {},
   "source": [
    "vectorizer = CountVectorizer()\n",
    "\n",
    "wall_desc_vectors = []\n",
    "\n",
    "for i in range(len(wall_desc)):\n",
    "    text = wall_desc[i]\n",
    "    text_list = [text]\n",
    "    vectorizer.fit(text_list)\n",
    "    vector = vectorizer.transform(text_list)\n",
    "    to_array = vector.toarray()\n",
    "    wall_desc_vectors.append(vector)\n",
    "    \n",
    "print(len(wall_desc_vectors))\n",
    "    "
   ]
  },
  {
   "cell_type": "markdown",
   "id": "a8ab584a",
   "metadata": {},
   "source": [
    "print(wall_desc_vectors[4])"
   ]
  },
  {
   "cell_type": "markdown",
   "id": "f3a24adb",
   "metadata": {},
   "source": [
    "from scipy.spatial import distance"
   ]
  },
  {
   "cell_type": "markdown",
   "id": "73fc3f52",
   "metadata": {},
   "source": [
    "from sklearn.metrics.pairwise import cosine_similarity"
   ]
  },
  {
   "cell_type": "markdown",
   "id": "30013a01",
   "metadata": {},
   "source": [
    "import numpy as np"
   ]
  },
  {
   "cell_type": "markdown",
   "id": "724bb833",
   "metadata": {},
   "source": [
    "best_wall_ee = wall_desc_ee['WALL_DESCRIPTION'][1]"
   ]
  },
  {
   "cell_type": "markdown",
   "id": "10d82828",
   "metadata": {},
   "source": [
    "best_wall_ee"
   ]
  },
  {
   "cell_type": "markdown",
   "id": "6f45f1f7",
   "metadata": {},
   "source": [
    "vectorizer_best_wall_ee = CountVectorizer()\n",
    "\n",
    "best_wall_ee_input = [best_wall_ee]\n",
    "vectorizer_best_wall_ee.fit(best_wall_ee_input)\n",
    "best_wall_ee_vector = vectorizer_best_wall_ee.transform(best_wall_ee_input)\n",
    "wall_ee_toarray = best_wall_ee_vector.toarray()"
   ]
  },
  {
   "cell_type": "markdown",
   "id": "741190d3",
   "metadata": {},
   "source": [
    "best_wall_ee_vec = wall_ee_toarray.reshape(1,-1)\n",
    "\n",
    "def distance_from_best_wall_ee(vec):\n",
    "    vec = vec.reshape(1,-1)\n",
    "    return cosine_similarity(best_wall_ee_vec,vec)[0][0]"
   ]
  },
  {
   "cell_type": "markdown",
   "id": "1b87bc48",
   "metadata": {},
   "source": [
    "#code from here: https://gist.github.com/ahmetalsan/06596e3f2ea3182e185a\n",
    "\n",
    "import re\n",
    "import math\n",
    "from collections import Counter\n",
    "\n",
    "\n",
    "def get_cosine(vec1, vec2):\n",
    "    intersection = set(vec1.keys()) & set(vec2.keys())\n",
    "    numerator = sum([vec1[x] * vec2[x] for x in intersection])\n",
    "\n",
    "    sum1 = sum([vec1[x]**2 for x in vec1.keys()])\n",
    "    sum2 = sum([vec2[x]**2 for x in vec2.keys()])\n",
    "    denominator = math.sqrt(sum1) * math.sqrt(sum2)\n",
    "\n",
    "    if not denominator:\n",
    "        return 0.0\n",
    "    else:\n",
    "        return float(numerator) / denominator\n",
    "\n",
    "\n",
    "def text_to_vector(text):\n",
    "    word = re.compile(r'\\w+')\n",
    "    words = word.findall(text)\n",
    "    return Counter(words)\n",
    "\n",
    "\n",
    "def get_result(content_a, content_b):\n",
    "    text1 = content_a\n",
    "    text2 = content_b\n",
    "\n",
    "    vector1 = text_to_vector(text1)\n",
    "    vector2 = text_to_vector(text2)\n",
    "\n",
    "    cosine_result = get_cosine(vector1, vector2)\n",
    "    return cosine_result\n"
   ]
  },
  {
   "cell_type": "markdown",
   "id": "aff57004",
   "metadata": {},
   "source": [
    "wall_ee_distance = []\n",
    "\n",
    "for i in range(len(wall_desc_ee)):\n",
    "    distance = 1 - get_result(wall_desc_ee['WALL_DESCRIPTION'][1],wall_desc_ee['WALL_DESCRIPTION'][i])\n",
    "    wall_ee_distance.append(distance)\n",
    "    \n",
    "print(len(wall_ee_distance))"
   ]
  },
  {
   "cell_type": "markdown",
   "id": "8c1c5bae",
   "metadata": {},
   "source": [
    "wall_desc_ee['cosine_distance'] = wall_ee_distance"
   ]
  },
  {
   "cell_type": "code",
   "execution_count": null,
   "id": "de4d37c4",
   "metadata": {},
   "outputs": [],
   "source": [
    "plt.scatter(wall_desc_ee['cosine_distance'],wall_desc_ee['Mean'])\n",
    "plt.show()"
   ]
  },
  {
   "cell_type": "code",
   "execution_count": 83,
   "id": "e2578d58",
   "metadata": {},
   "outputs": [],
   "source": [
    "#approach from https://www.toptal.com/python/topic-modeling-python\n",
    "\n",
    "corpus = wall_desc_ee['WALL_DESCRIPTION']"
   ]
  },
  {
   "cell_type": "code",
   "execution_count": 86,
   "id": "ebfcbff8",
   "metadata": {},
   "outputs": [
    {
     "name": "stderr",
     "output_type": "stream",
     "text": [
      "[nltk_data] Downloading package stopwords to\n",
      "[nltk_data]     C:\\Users\\eddie\\AppData\\Roaming\\nltk_data...\n",
      "[nltk_data]   Unzipping corpora\\stopwords.zip.\n"
     ]
    },
    {
     "data": {
      "text/plain": [
       "True"
      ]
     },
     "execution_count": 86,
     "metadata": {},
     "output_type": "execute_result"
    }
   ],
   "source": [
    "import nltk\n",
    "nltk.download('stopwords')"
   ]
  },
  {
   "cell_type": "code",
   "execution_count": 87,
   "id": "53c77b0c",
   "metadata": {},
   "outputs": [
    {
     "data": {
      "text/plain": [
       "matrix([[0, 0, 0, ..., 1, 0, 0],\n",
       "        [0, 0, 0, ..., 1, 0, 0],\n",
       "        [0, 0, 0, ..., 0, 1, 1],\n",
       "        ...,\n",
       "        [0, 0, 0, ..., 0, 1, 0],\n",
       "        [0, 0, 0, ..., 0, 0, 0],\n",
       "        [0, 0, 0, ..., 0, 0, 1]], dtype=int64)"
      ]
     },
     "execution_count": 87,
     "metadata": {},
     "output_type": "execute_result"
    }
   ],
   "source": [
    "count_vect = CountVectorizer(stop_words=stopwords.words('english'), lowercase=True)\n",
    "x_counts = count_vect.fit_transform(corpus)\n",
    "x_counts.todense()"
   ]
  },
  {
   "cell_type": "code",
   "execution_count": 88,
   "id": "42561be4",
   "metadata": {
    "scrolled": true
   },
   "outputs": [
    {
     "data": {
      "text/plain": [
       "['00',\n",
       " '06',\n",
       " '07',\n",
       " '09',\n",
       " '10',\n",
       " '11',\n",
       " '12',\n",
       " '13',\n",
       " '14',\n",
       " '15',\n",
       " '16',\n",
       " '17',\n",
       " '18',\n",
       " '19',\n",
       " '20',\n",
       " '21',\n",
       " '22',\n",
       " '23',\n",
       " '24',\n",
       " '25',\n",
       " '26',\n",
       " '27',\n",
       " '28',\n",
       " '29',\n",
       " '30',\n",
       " '31',\n",
       " '33',\n",
       " '35',\n",
       " '36',\n",
       " '38',\n",
       " '40',\n",
       " '41',\n",
       " '42',\n",
       " '43',\n",
       " '45',\n",
       " '46',\n",
       " '47',\n",
       " '48',\n",
       " '51',\n",
       " '52',\n",
       " '53',\n",
       " '55',\n",
       " '56',\n",
       " '57',\n",
       " '58',\n",
       " '60',\n",
       " '62',\n",
       " '63',\n",
       " '64',\n",
       " '65',\n",
       " '66',\n",
       " '67',\n",
       " '68',\n",
       " '70',\n",
       " '71',\n",
       " '72',\n",
       " '73',\n",
       " '74',\n",
       " '76',\n",
       " '77',\n",
       " '78',\n",
       " '79',\n",
       " '80',\n",
       " '81',\n",
       " '83',\n",
       " '84',\n",
       " '92',\n",
       " '99',\n",
       " 'additional',\n",
       " 'assumed',\n",
       " 'average',\n",
       " 'brick',\n",
       " 'built',\n",
       " 'cavity',\n",
       " 'cob',\n",
       " 'external',\n",
       " 'filled',\n",
       " 'frame',\n",
       " 'granite',\n",
       " 'home',\n",
       " 'insulated',\n",
       " 'insulation',\n",
       " 'internal',\n",
       " 'limestone',\n",
       " 'm²k',\n",
       " 'mâ²k',\n",
       " 'park',\n",
       " 'partial',\n",
       " 'sandstone',\n",
       " 'solid',\n",
       " 'system',\n",
       " 'thermal',\n",
       " 'timber',\n",
       " 'transmittance',\n",
       " 'wall',\n",
       " 'whinstone']"
      ]
     },
     "execution_count": 88,
     "metadata": {},
     "output_type": "execute_result"
    }
   ],
   "source": [
    "count_vect.get_feature_names()"
   ]
  },
  {
   "cell_type": "code",
   "execution_count": 89,
   "id": "f4be2dc3",
   "metadata": {},
   "outputs": [],
   "source": [
    "tfidf_transformer = TfidfTransformer()\n",
    "x_tfidf = tfidf_transformer.fit_transform(x_counts)"
   ]
  },
  {
   "cell_type": "code",
   "execution_count": 90,
   "id": "9633ce74",
   "metadata": {
    "scrolled": true
   },
   "outputs": [
    {
     "data": {
      "text/plain": [
       "array([[0.03223826, 0.476174  , 0.03223826, ..., 0.03223826, 0.03223826,\n",
       "        0.03223827],\n",
       "       [0.03174458, 0.71429879, 0.03174458, ..., 0.03174458, 0.03174458,\n",
       "        0.03174458],\n",
       "       [0.02348753, 0.02348093, 0.02349305, ..., 0.39034312, 0.02348808,\n",
       "        0.02348093],\n",
       "       ...,\n",
       "       [0.02480849, 0.0248011 , 0.02481084, ..., 0.02481166, 0.02480686,\n",
       "        0.0248011 ],\n",
       "       [0.0274831 , 0.02747578, 0.02748974, ..., 0.0274807 , 0.02748512,\n",
       "        0.02747578],\n",
       "       [0.02699567, 0.02698739, 0.02699963, ..., 0.02699268, 0.02699528,\n",
       "        0.02698739]])"
      ]
     },
     "execution_count": 90,
     "metadata": {},
     "output_type": "execute_result"
    }
   ],
   "source": [
    "dimension = 10\n",
    "lda = LDA(n_components = dimension)\n",
    "lda_array = lda.fit_transform(x_tfidf)\n",
    "lda_array\n",
    "\n"
   ]
  },
  {
   "cell_type": "code",
   "execution_count": 91,
   "id": "aa706f2a",
   "metadata": {},
   "outputs": [
    {
     "data": {
      "text/plain": [
       "[['limestone', 'sandstone', 'built'],\n",
       " ['average', 'thermal', 'transmittance'],\n",
       " ['internal', 'solid', 'brick'],\n",
       " ['brick', 'solid', 'built'],\n",
       " ['timber', 'frame', 'built'],\n",
       " ['granite', 'whinstone', 'built'],\n",
       " ['system', 'built', 'insulation'],\n",
       " ['cavity', 'wall', 'filled'],\n",
       " ['external', 'insulation', 'solid'],\n",
       " ['16', '36', '12']]"
      ]
     },
     "execution_count": 91,
     "metadata": {},
     "output_type": "execute_result"
    }
   ],
   "source": [
    "components = [lda.components_[i] for i in range(len(lda.components_))]\n",
    "features = count_vect.get_feature_names()\n",
    "important_words = [sorted(features, key = lambda x: components[j][features.index(x)], reverse = True)[:3] for j in range(len(components))]\n",
    "important_words"
   ]
  },
  {
   "cell_type": "code",
   "execution_count": 92,
   "id": "1e51f065",
   "metadata": {},
   "outputs": [
    {
     "data": {
      "text/plain": [
       "(1519, 10)"
      ]
     },
     "execution_count": 92,
     "metadata": {},
     "output_type": "execute_result"
    }
   ],
   "source": [
    "lda_array.shape"
   ]
  },
  {
   "cell_type": "code",
   "execution_count": 93,
   "id": "f9ef72ed",
   "metadata": {},
   "outputs": [
    {
     "data": {
      "text/plain": [
       "['system', 'built', 'insulation']"
      ]
     },
     "execution_count": 93,
     "metadata": {},
     "output_type": "execute_result"
    }
   ],
   "source": [
    "important_words[6]"
   ]
  },
  {
   "cell_type": "code",
   "execution_count": 94,
   "id": "549bdaa9",
   "metadata": {},
   "outputs": [
    {
     "name": "stdout",
     "output_type": "stream",
     "text": [
      "1519\n"
     ]
    }
   ],
   "source": [
    "list_max_wall_ee = []\n",
    "\n",
    "for i in range(len(lda_array)):\n",
    "    list_array = list(lda_array[i])\n",
    "    max_num = list_array.index(max(list_array))\n",
    "    list_max_wall_ee.append(max_num)\n",
    "    \n",
    "print(len(list_max_wall_ee))\n"
   ]
  },
  {
   "cell_type": "code",
   "execution_count": 95,
   "id": "a7f06578",
   "metadata": {},
   "outputs": [],
   "source": [
    "wall_desc_ee['description_number'] = list_max_wall_ee"
   ]
  },
  {
   "cell_type": "code",
   "execution_count": 96,
   "id": "c6c56e47",
   "metadata": {},
   "outputs": [
    {
     "data": {
      "text/html": [
       "<div>\n",
       "<style scoped>\n",
       "    .dataframe tbody tr th:only-of-type {\n",
       "        vertical-align: middle;\n",
       "    }\n",
       "\n",
       "    .dataframe tbody tr th {\n",
       "        vertical-align: top;\n",
       "    }\n",
       "\n",
       "    .dataframe thead th {\n",
       "        text-align: right;\n",
       "    }\n",
       "</style>\n",
       "<table border=\"1\" class=\"dataframe\">\n",
       "  <thead>\n",
       "    <tr style=\"text-align: right;\">\n",
       "      <th></th>\n",
       "      <th>WALL_DESCRIPTION</th>\n",
       "      <th>Mean</th>\n",
       "      <th>cosine_distance</th>\n",
       "      <th>description_number</th>\n",
       "    </tr>\n",
       "  </thead>\n",
       "  <tbody>\n",
       "    <tr>\n",
       "      <th>0</th>\n",
       "      <td>Average thermal transmittance 0.09 W/m²K</td>\n",
       "      <td>-12.5</td>\n",
       "      <td>2.857143e-01</td>\n",
       "      <td>1</td>\n",
       "    </tr>\n",
       "    <tr>\n",
       "      <th>1</th>\n",
       "      <td>Average thermal transmittance 0.14 W/mÂ²K</td>\n",
       "      <td>15.0</td>\n",
       "      <td>1.110223e-16</td>\n",
       "      <td>1</td>\n",
       "    </tr>\n",
       "    <tr>\n",
       "      <th>2</th>\n",
       "      <td>Cavity wall, filled cavity | Granite or whinst...</td>\n",
       "      <td>22.0</td>\n",
       "      <td>1.000000e+00</td>\n",
       "      <td>5</td>\n",
       "    </tr>\n",
       "    <tr>\n",
       "      <th>3</th>\n",
       "      <td>Granite or whinstone, as built, insulated (ass...</td>\n",
       "      <td>27.0</td>\n",
       "      <td>1.000000e+00</td>\n",
       "      <td>5</td>\n",
       "    </tr>\n",
       "    <tr>\n",
       "      <th>4</th>\n",
       "      <td>Cavity wall, with internal insulation | Timber...</td>\n",
       "      <td>31.5</td>\n",
       "      <td>1.000000e+00</td>\n",
       "      <td>4</td>\n",
       "    </tr>\n",
       "    <tr>\n",
       "      <th>5</th>\n",
       "      <td>Average thermal transmittance 0.18 W/m?K</td>\n",
       "      <td>35.0</td>\n",
       "      <td>3.318469e-01</td>\n",
       "      <td>1</td>\n",
       "    </tr>\n",
       "    <tr>\n",
       "      <th>6</th>\n",
       "      <td>Granite or whinstone, as built, partial insula...</td>\n",
       "      <td>36.0</td>\n",
       "      <td>1.000000e+00</td>\n",
       "      <td>5</td>\n",
       "    </tr>\n",
       "    <tr>\n",
       "      <th>7</th>\n",
       "      <td>Average thermal transmittance 0.13 W/m?K</td>\n",
       "      <td>40.0</td>\n",
       "      <td>3.318469e-01</td>\n",
       "      <td>1</td>\n",
       "    </tr>\n",
       "    <tr>\n",
       "      <th>8</th>\n",
       "      <td>Average thermal transmittance 0.15 W/m?K</td>\n",
       "      <td>40.0</td>\n",
       "      <td>3.318469e-01</td>\n",
       "      <td>1</td>\n",
       "    </tr>\n",
       "    <tr>\n",
       "      <th>9</th>\n",
       "      <td>Average thermal transmittance 0.43 W/m²K</td>\n",
       "      <td>43.5</td>\n",
       "      <td>2.857143e-01</td>\n",
       "      <td>1</td>\n",
       "    </tr>\n",
       "  </tbody>\n",
       "</table>\n",
       "</div>"
      ],
      "text/plain": [
       "                                    WALL_DESCRIPTION  Mean  cosine_distance  \\\n",
       "0           Average thermal transmittance 0.09 W/m²K -12.5     2.857143e-01   \n",
       "1          Average thermal transmittance 0.14 W/mÂ²K  15.0     1.110223e-16   \n",
       "2  Cavity wall, filled cavity | Granite or whinst...  22.0     1.000000e+00   \n",
       "3  Granite or whinstone, as built, insulated (ass...  27.0     1.000000e+00   \n",
       "4  Cavity wall, with internal insulation | Timber...  31.5     1.000000e+00   \n",
       "5           Average thermal transmittance 0.18 W/m?K  35.0     3.318469e-01   \n",
       "6  Granite or whinstone, as built, partial insula...  36.0     1.000000e+00   \n",
       "7           Average thermal transmittance 0.13 W/m?K  40.0     3.318469e-01   \n",
       "8           Average thermal transmittance 0.15 W/m?K  40.0     3.318469e-01   \n",
       "9           Average thermal transmittance 0.43 W/m²K  43.5     2.857143e-01   \n",
       "\n",
       "   description_number  \n",
       "0                   1  \n",
       "1                   1  \n",
       "2                   5  \n",
       "3                   5  \n",
       "4                   4  \n",
       "5                   1  \n",
       "6                   5  \n",
       "7                   1  \n",
       "8                   1  \n",
       "9                   1  "
      ]
     },
     "execution_count": 96,
     "metadata": {},
     "output_type": "execute_result"
    }
   ],
   "source": [
    "wall_desc_ee.head(10)"
   ]
  },
  {
   "cell_type": "code",
   "execution_count": 97,
   "id": "cd8c227c",
   "metadata": {},
   "outputs": [
    {
     "data": {
      "text/plain": [
       "WALL_DESCRIPTION       object\n",
       "Mean                  float64\n",
       "cosine_distance       float64\n",
       "description_number      int64\n",
       "dtype: object"
      ]
     },
     "execution_count": 97,
     "metadata": {},
     "output_type": "execute_result"
    }
   ],
   "source": [
    "wall_desc_ee.dtypes"
   ]
  },
  {
   "cell_type": "code",
   "execution_count": 98,
   "id": "5203def7",
   "metadata": {},
   "outputs": [
    {
     "name": "stdout",
     "output_type": "stream",
     "text": [
      "1519\n"
     ]
    }
   ],
   "source": [
    "wall_ee_short_des = []\n",
    "\n",
    "for i in range(len(wall_desc_ee)):\n",
    "    number = wall_desc_ee['description_number'][i]\n",
    "    description = important_words[number]\n",
    "    wall_ee_short_des.append(description)\n",
    "    \n",
    "print(len(wall_ee_short_des))"
   ]
  },
  {
   "cell_type": "code",
   "execution_count": 100,
   "id": "1173d489",
   "metadata": {},
   "outputs": [],
   "source": [
    "wall_desc_ee[\"short_description\"] = wall_ee_short_des"
   ]
  },
  {
   "cell_type": "code",
   "execution_count": 101,
   "id": "4bb27bd9",
   "metadata": {},
   "outputs": [
    {
     "data": {
      "text/html": [
       "<div>\n",
       "<style scoped>\n",
       "    .dataframe tbody tr th:only-of-type {\n",
       "        vertical-align: middle;\n",
       "    }\n",
       "\n",
       "    .dataframe tbody tr th {\n",
       "        vertical-align: top;\n",
       "    }\n",
       "\n",
       "    .dataframe thead th {\n",
       "        text-align: right;\n",
       "    }\n",
       "</style>\n",
       "<table border=\"1\" class=\"dataframe\">\n",
       "  <thead>\n",
       "    <tr style=\"text-align: right;\">\n",
       "      <th></th>\n",
       "      <th>WALL_DESCRIPTION</th>\n",
       "      <th>Mean</th>\n",
       "      <th>cosine_distance</th>\n",
       "      <th>description_number</th>\n",
       "      <th>short_description</th>\n",
       "    </tr>\n",
       "  </thead>\n",
       "  <tbody>\n",
       "    <tr>\n",
       "      <th>0</th>\n",
       "      <td>Average thermal transmittance 0.09 W/m²K</td>\n",
       "      <td>-12.5</td>\n",
       "      <td>2.857143e-01</td>\n",
       "      <td>1</td>\n",
       "      <td>[average, thermal, transmittance]</td>\n",
       "    </tr>\n",
       "    <tr>\n",
       "      <th>1</th>\n",
       "      <td>Average thermal transmittance 0.14 W/mÂ²K</td>\n",
       "      <td>15.0</td>\n",
       "      <td>1.110223e-16</td>\n",
       "      <td>1</td>\n",
       "      <td>[average, thermal, transmittance]</td>\n",
       "    </tr>\n",
       "    <tr>\n",
       "      <th>2</th>\n",
       "      <td>Cavity wall, filled cavity | Granite or whinst...</td>\n",
       "      <td>22.0</td>\n",
       "      <td>1.000000e+00</td>\n",
       "      <td>5</td>\n",
       "      <td>[granite, whinstone, built]</td>\n",
       "    </tr>\n",
       "    <tr>\n",
       "      <th>3</th>\n",
       "      <td>Granite or whinstone, as built, insulated (ass...</td>\n",
       "      <td>27.0</td>\n",
       "      <td>1.000000e+00</td>\n",
       "      <td>5</td>\n",
       "      <td>[granite, whinstone, built]</td>\n",
       "    </tr>\n",
       "    <tr>\n",
       "      <th>4</th>\n",
       "      <td>Cavity wall, with internal insulation | Timber...</td>\n",
       "      <td>31.5</td>\n",
       "      <td>1.000000e+00</td>\n",
       "      <td>4</td>\n",
       "      <td>[timber, frame, built]</td>\n",
       "    </tr>\n",
       "    <tr>\n",
       "      <th>5</th>\n",
       "      <td>Average thermal transmittance 0.18 W/m?K</td>\n",
       "      <td>35.0</td>\n",
       "      <td>3.318469e-01</td>\n",
       "      <td>1</td>\n",
       "      <td>[average, thermal, transmittance]</td>\n",
       "    </tr>\n",
       "    <tr>\n",
       "      <th>6</th>\n",
       "      <td>Granite or whinstone, as built, partial insula...</td>\n",
       "      <td>36.0</td>\n",
       "      <td>1.000000e+00</td>\n",
       "      <td>5</td>\n",
       "      <td>[granite, whinstone, built]</td>\n",
       "    </tr>\n",
       "    <tr>\n",
       "      <th>7</th>\n",
       "      <td>Average thermal transmittance 0.13 W/m?K</td>\n",
       "      <td>40.0</td>\n",
       "      <td>3.318469e-01</td>\n",
       "      <td>1</td>\n",
       "      <td>[average, thermal, transmittance]</td>\n",
       "    </tr>\n",
       "    <tr>\n",
       "      <th>8</th>\n",
       "      <td>Average thermal transmittance 0.15 W/m?K</td>\n",
       "      <td>40.0</td>\n",
       "      <td>3.318469e-01</td>\n",
       "      <td>1</td>\n",
       "      <td>[average, thermal, transmittance]</td>\n",
       "    </tr>\n",
       "    <tr>\n",
       "      <th>9</th>\n",
       "      <td>Average thermal transmittance 0.43 W/m²K</td>\n",
       "      <td>43.5</td>\n",
       "      <td>2.857143e-01</td>\n",
       "      <td>1</td>\n",
       "      <td>[average, thermal, transmittance]</td>\n",
       "    </tr>\n",
       "  </tbody>\n",
       "</table>\n",
       "</div>"
      ],
      "text/plain": [
       "                                    WALL_DESCRIPTION  Mean  cosine_distance  \\\n",
       "0           Average thermal transmittance 0.09 W/m²K -12.5     2.857143e-01   \n",
       "1          Average thermal transmittance 0.14 W/mÂ²K  15.0     1.110223e-16   \n",
       "2  Cavity wall, filled cavity | Granite or whinst...  22.0     1.000000e+00   \n",
       "3  Granite or whinstone, as built, insulated (ass...  27.0     1.000000e+00   \n",
       "4  Cavity wall, with internal insulation | Timber...  31.5     1.000000e+00   \n",
       "5           Average thermal transmittance 0.18 W/m?K  35.0     3.318469e-01   \n",
       "6  Granite or whinstone, as built, partial insula...  36.0     1.000000e+00   \n",
       "7           Average thermal transmittance 0.13 W/m?K  40.0     3.318469e-01   \n",
       "8           Average thermal transmittance 0.15 W/m?K  40.0     3.318469e-01   \n",
       "9           Average thermal transmittance 0.43 W/m²K  43.5     2.857143e-01   \n",
       "\n",
       "   description_number                  short_description  \n",
       "0                   1  [average, thermal, transmittance]  \n",
       "1                   1  [average, thermal, transmittance]  \n",
       "2                   5        [granite, whinstone, built]  \n",
       "3                   5        [granite, whinstone, built]  \n",
       "4                   4             [timber, frame, built]  \n",
       "5                   1  [average, thermal, transmittance]  \n",
       "6                   5        [granite, whinstone, built]  \n",
       "7                   1  [average, thermal, transmittance]  \n",
       "8                   1  [average, thermal, transmittance]  \n",
       "9                   1  [average, thermal, transmittance]  "
      ]
     },
     "execution_count": 101,
     "metadata": {},
     "output_type": "execute_result"
    }
   ],
   "source": [
    "wall_desc_ee.head(10)"
   ]
  },
  {
   "cell_type": "code",
   "execution_count": 106,
   "id": "22675d06",
   "metadata": {},
   "outputs": [
    {
     "data": {
      "text/html": [
       "<div>\n",
       "<style scoped>\n",
       "    .dataframe tbody tr th:only-of-type {\n",
       "        vertical-align: middle;\n",
       "    }\n",
       "\n",
       "    .dataframe tbody tr th {\n",
       "        vertical-align: top;\n",
       "    }\n",
       "\n",
       "    .dataframe thead th {\n",
       "        text-align: right;\n",
       "    }\n",
       "</style>\n",
       "<table border=\"1\" class=\"dataframe\">\n",
       "  <thead>\n",
       "    <tr style=\"text-align: right;\">\n",
       "      <th></th>\n",
       "      <th>description_number</th>\n",
       "      <th>agg_mean</th>\n",
       "    </tr>\n",
       "  </thead>\n",
       "  <tbody>\n",
       "    <tr>\n",
       "      <th>1</th>\n",
       "      <td>1</td>\n",
       "      <td>88.841615</td>\n",
       "    </tr>\n",
       "    <tr>\n",
       "      <th>8</th>\n",
       "      <td>8</td>\n",
       "      <td>168.550466</td>\n",
       "    </tr>\n",
       "    <tr>\n",
       "      <th>7</th>\n",
       "      <td>7</td>\n",
       "      <td>169.581041</td>\n",
       "    </tr>\n",
       "    <tr>\n",
       "      <th>3</th>\n",
       "      <td>3</td>\n",
       "      <td>190.980480</td>\n",
       "    </tr>\n",
       "    <tr>\n",
       "      <th>6</th>\n",
       "      <td>6</td>\n",
       "      <td>198.942390</td>\n",
       "    </tr>\n",
       "    <tr>\n",
       "      <th>4</th>\n",
       "      <td>4</td>\n",
       "      <td>212.828214</td>\n",
       "    </tr>\n",
       "    <tr>\n",
       "      <th>0</th>\n",
       "      <td>0</td>\n",
       "      <td>218.499906</td>\n",
       "    </tr>\n",
       "    <tr>\n",
       "      <th>2</th>\n",
       "      <td>2</td>\n",
       "      <td>219.655812</td>\n",
       "    </tr>\n",
       "    <tr>\n",
       "      <th>5</th>\n",
       "      <td>5</td>\n",
       "      <td>255.600095</td>\n",
       "    </tr>\n",
       "  </tbody>\n",
       "</table>\n",
       "</div>"
      ],
      "text/plain": [
       "   description_number    agg_mean\n",
       "1                   1   88.841615\n",
       "8                   8  168.550466\n",
       "7                   7  169.581041\n",
       "3                   3  190.980480\n",
       "6                   6  198.942390\n",
       "4                   4  212.828214\n",
       "0                   0  218.499906\n",
       "2                   2  219.655812\n",
       "5                   5  255.600095"
      ]
     },
     "execution_count": 106,
     "metadata": {},
     "output_type": "execute_result"
    }
   ],
   "source": [
    "description_corr = wall_desc_ee.groupby(['description_number'])['Mean'].mean().reset_index(name='agg_mean')\n",
    "description_corr.sort_values(by='agg_mean')"
   ]
  },
  {
   "cell_type": "code",
   "execution_count": 109,
   "id": "df36bb37",
   "metadata": {},
   "outputs": [
    {
     "name": "stdout",
     "output_type": "stream",
     "text": [
      "9\n"
     ]
    }
   ],
   "source": [
    "agg_wall_short_desc = []\n",
    "\n",
    "for i in range(len(description_corr)):\n",
    "    number = description_corr['description_number'][i]\n",
    "    description = important_words[number]\n",
    "    agg_wall_short_desc.append(description)\n",
    "    \n",
    "print(len(agg_wall_short_desc))"
   ]
  },
  {
   "cell_type": "code",
   "execution_count": 110,
   "id": "8b7f6a60",
   "metadata": {},
   "outputs": [],
   "source": [
    "description_corr['short_desc'] = agg_wall_short_desc"
   ]
  },
  {
   "cell_type": "code",
   "execution_count": 111,
   "id": "52882af4",
   "metadata": {},
   "outputs": [
    {
     "data": {
      "text/html": [
       "<div>\n",
       "<style scoped>\n",
       "    .dataframe tbody tr th:only-of-type {\n",
       "        vertical-align: middle;\n",
       "    }\n",
       "\n",
       "    .dataframe tbody tr th {\n",
       "        vertical-align: top;\n",
       "    }\n",
       "\n",
       "    .dataframe thead th {\n",
       "        text-align: right;\n",
       "    }\n",
       "</style>\n",
       "<table border=\"1\" class=\"dataframe\">\n",
       "  <thead>\n",
       "    <tr style=\"text-align: right;\">\n",
       "      <th></th>\n",
       "      <th>description_number</th>\n",
       "      <th>agg_mean</th>\n",
       "      <th>short_desc</th>\n",
       "    </tr>\n",
       "  </thead>\n",
       "  <tbody>\n",
       "    <tr>\n",
       "      <th>0</th>\n",
       "      <td>0</td>\n",
       "      <td>218.499906</td>\n",
       "      <td>[limestone, sandstone, built]</td>\n",
       "    </tr>\n",
       "    <tr>\n",
       "      <th>1</th>\n",
       "      <td>1</td>\n",
       "      <td>88.841615</td>\n",
       "      <td>[average, thermal, transmittance]</td>\n",
       "    </tr>\n",
       "    <tr>\n",
       "      <th>2</th>\n",
       "      <td>2</td>\n",
       "      <td>219.655812</td>\n",
       "      <td>[internal, solid, brick]</td>\n",
       "    </tr>\n",
       "    <tr>\n",
       "      <th>3</th>\n",
       "      <td>3</td>\n",
       "      <td>190.980480</td>\n",
       "      <td>[brick, solid, built]</td>\n",
       "    </tr>\n",
       "    <tr>\n",
       "      <th>4</th>\n",
       "      <td>4</td>\n",
       "      <td>212.828214</td>\n",
       "      <td>[timber, frame, built]</td>\n",
       "    </tr>\n",
       "    <tr>\n",
       "      <th>5</th>\n",
       "      <td>5</td>\n",
       "      <td>255.600095</td>\n",
       "      <td>[granite, whinstone, built]</td>\n",
       "    </tr>\n",
       "    <tr>\n",
       "      <th>6</th>\n",
       "      <td>6</td>\n",
       "      <td>198.942390</td>\n",
       "      <td>[system, built, insulation]</td>\n",
       "    </tr>\n",
       "    <tr>\n",
       "      <th>7</th>\n",
       "      <td>7</td>\n",
       "      <td>169.581041</td>\n",
       "      <td>[cavity, wall, filled]</td>\n",
       "    </tr>\n",
       "    <tr>\n",
       "      <th>8</th>\n",
       "      <td>8</td>\n",
       "      <td>168.550466</td>\n",
       "      <td>[external, insulation, solid]</td>\n",
       "    </tr>\n",
       "  </tbody>\n",
       "</table>\n",
       "</div>"
      ],
      "text/plain": [
       "   description_number    agg_mean                         short_desc\n",
       "0                   0  218.499906      [limestone, sandstone, built]\n",
       "1                   1   88.841615  [average, thermal, transmittance]\n",
       "2                   2  219.655812           [internal, solid, brick]\n",
       "3                   3  190.980480              [brick, solid, built]\n",
       "4                   4  212.828214             [timber, frame, built]\n",
       "5                   5  255.600095        [granite, whinstone, built]\n",
       "6                   6  198.942390        [system, built, insulation]\n",
       "7                   7  169.581041             [cavity, wall, filled]\n",
       "8                   8  168.550466      [external, insulation, solid]"
      ]
     },
     "execution_count": 111,
     "metadata": {},
     "output_type": "execute_result"
    }
   ],
   "source": [
    "description_corr"
   ]
  },
  {
   "cell_type": "code",
   "execution_count": 113,
   "id": "57e76e83",
   "metadata": {},
   "outputs": [
    {
     "data": {
      "text/html": [
       "<div>\n",
       "<style scoped>\n",
       "    .dataframe tbody tr th:only-of-type {\n",
       "        vertical-align: middle;\n",
       "    }\n",
       "\n",
       "    .dataframe tbody tr th {\n",
       "        vertical-align: top;\n",
       "    }\n",
       "\n",
       "    .dataframe thead th {\n",
       "        text-align: right;\n",
       "    }\n",
       "</style>\n",
       "<table border=\"1\" class=\"dataframe\">\n",
       "  <thead>\n",
       "    <tr style=\"text-align: right;\">\n",
       "      <th></th>\n",
       "      <th>description_number</th>\n",
       "      <th>agg_mean</th>\n",
       "      <th>short_desc</th>\n",
       "    </tr>\n",
       "  </thead>\n",
       "  <tbody>\n",
       "    <tr>\n",
       "      <th>0</th>\n",
       "      <td>1</td>\n",
       "      <td>88.841615</td>\n",
       "      <td>[average, thermal, transmittance]</td>\n",
       "    </tr>\n",
       "    <tr>\n",
       "      <th>1</th>\n",
       "      <td>8</td>\n",
       "      <td>168.550466</td>\n",
       "      <td>[external, insulation, solid]</td>\n",
       "    </tr>\n",
       "    <tr>\n",
       "      <th>2</th>\n",
       "      <td>7</td>\n",
       "      <td>169.581041</td>\n",
       "      <td>[cavity, wall, filled]</td>\n",
       "    </tr>\n",
       "    <tr>\n",
       "      <th>3</th>\n",
       "      <td>3</td>\n",
       "      <td>190.980480</td>\n",
       "      <td>[brick, solid, built]</td>\n",
       "    </tr>\n",
       "    <tr>\n",
       "      <th>4</th>\n",
       "      <td>6</td>\n",
       "      <td>198.942390</td>\n",
       "      <td>[system, built, insulation]</td>\n",
       "    </tr>\n",
       "    <tr>\n",
       "      <th>5</th>\n",
       "      <td>4</td>\n",
       "      <td>212.828214</td>\n",
       "      <td>[timber, frame, built]</td>\n",
       "    </tr>\n",
       "    <tr>\n",
       "      <th>6</th>\n",
       "      <td>0</td>\n",
       "      <td>218.499906</td>\n",
       "      <td>[limestone, sandstone, built]</td>\n",
       "    </tr>\n",
       "    <tr>\n",
       "      <th>7</th>\n",
       "      <td>2</td>\n",
       "      <td>219.655812</td>\n",
       "      <td>[internal, solid, brick]</td>\n",
       "    </tr>\n",
       "    <tr>\n",
       "      <th>8</th>\n",
       "      <td>5</td>\n",
       "      <td>255.600095</td>\n",
       "      <td>[granite, whinstone, built]</td>\n",
       "    </tr>\n",
       "  </tbody>\n",
       "</table>\n",
       "</div>"
      ],
      "text/plain": [
       "   description_number    agg_mean                         short_desc\n",
       "0                   1   88.841615  [average, thermal, transmittance]\n",
       "1                   8  168.550466      [external, insulation, solid]\n",
       "2                   7  169.581041             [cavity, wall, filled]\n",
       "3                   3  190.980480              [brick, solid, built]\n",
       "4                   6  198.942390        [system, built, insulation]\n",
       "5                   4  212.828214             [timber, frame, built]\n",
       "6                   0  218.499906      [limestone, sandstone, built]\n",
       "7                   2  219.655812           [internal, solid, brick]\n",
       "8                   5  255.600095        [granite, whinstone, built]"
      ]
     },
     "execution_count": 113,
     "metadata": {},
     "output_type": "execute_result"
    }
   ],
   "source": [
    "description_corr = description_corr.sort_values(by='agg_mean', ascending=True).reset_index(drop=True)\n",
    "description_corr"
   ]
  },
  {
   "cell_type": "code",
   "execution_count": 114,
   "id": "25d3f858",
   "metadata": {},
   "outputs": [],
   "source": [
    "#do the same topic model for roof descriptions\n",
    "roof_corpus = roof_desc['ROOF_DESCRIPTION']"
   ]
  },
  {
   "cell_type": "code",
   "execution_count": 117,
   "id": "ab43b78c",
   "metadata": {},
   "outputs": [
    {
     "data": {
      "text/plain": [
       "matrix([[0, 0, 0, ..., 0, 0, 0],\n",
       "        [0, 0, 0, ..., 0, 0, 0],\n",
       "        [0, 0, 0, ..., 0, 0, 0],\n",
       "        ...,\n",
       "        [0, 0, 0, ..., 0, 0, 0],\n",
       "        [0, 0, 0, ..., 0, 0, 0],\n",
       "        [0, 0, 0, ..., 0, 0, 0]], dtype=int64)"
      ]
     },
     "execution_count": 117,
     "metadata": {},
     "output_type": "execute_result"
    }
   ],
   "source": [
    "roof_count_vect = CountVectorizer(stop_words=stopwords.words('english'), lowercase=True)\n",
    "roof_counts = roof_count_vect.fit_transform(roof_corpus)\n",
    "roof_counts.todense()"
   ]
  },
  {
   "cell_type": "code",
   "execution_count": 119,
   "id": "e929a15e",
   "metadata": {
    "scrolled": true
   },
   "outputs": [
    {
     "data": {
      "text/plain": [
       "['05',\n",
       " '06',\n",
       " '07',\n",
       " '08',\n",
       " '09',\n",
       " '10',\n",
       " '100',\n",
       " '11',\n",
       " '12',\n",
       " '13',\n",
       " '14',\n",
       " '15',\n",
       " '150',\n",
       " '16',\n",
       " '17',\n",
       " '18',\n",
       " '19',\n",
       " '20',\n",
       " '200',\n",
       " '21',\n",
       " '22',\n",
       " '23',\n",
       " '24',\n",
       " '25',\n",
       " '250',\n",
       " '270',\n",
       " '29',\n",
       " '300',\n",
       " '31',\n",
       " '32',\n",
       " '35',\n",
       " '350',\n",
       " '38',\n",
       " '40',\n",
       " '400',\n",
       " '50',\n",
       " '57',\n",
       " '75',\n",
       " '81',\n",
       " 'additional',\n",
       " 'another',\n",
       " 'assumed',\n",
       " 'average',\n",
       " 'ceiling',\n",
       " 'code',\n",
       " 'dwelling',\n",
       " 'flat',\n",
       " 'input',\n",
       " 'insulated',\n",
       " 'insulation',\n",
       " 'invalid',\n",
       " 'limited',\n",
       " 'loft',\n",
       " 'mm',\n",
       " 'm²k',\n",
       " 'mâ²k',\n",
       " 'pitched',\n",
       " 'premises',\n",
       " 'rafters',\n",
       " 'roof',\n",
       " 'room',\n",
       " 'thatched',\n",
       " 'thermal',\n",
       " 'transmittance']"
      ]
     },
     "execution_count": 119,
     "metadata": {},
     "output_type": "execute_result"
    }
   ],
   "source": [
    "roof_count_vect.get_feature_names()"
   ]
  },
  {
   "cell_type": "code",
   "execution_count": 120,
   "id": "2645a11f",
   "metadata": {},
   "outputs": [],
   "source": [
    "tfidf_transformer = TfidfTransformer()\n",
    "roof_tfidf = tfidf_transformer.fit_transform(roof_counts)"
   ]
  },
  {
   "cell_type": "code",
   "execution_count": 122,
   "id": "68421dc7",
   "metadata": {},
   "outputs": [
    {
     "data": {
      "text/plain": [
       "array([[0.03008395, 0.03007829, 0.40553436, ..., 0.03008628, 0.03008276,\n",
       "        0.03008548],\n",
       "       [0.03008395, 0.03007829, 0.40553436, ..., 0.03008628, 0.03008276,\n",
       "        0.03008548],\n",
       "       [0.04142136, 0.04142136, 0.62720779, ..., 0.04142136, 0.04142136,\n",
       "        0.04142136],\n",
       "       ...,\n",
       "       [0.02784369, 0.18478776, 0.02784127, ..., 0.02784597, 0.02784627,\n",
       "        0.02784564],\n",
       "       [0.02506456, 0.0250598 , 0.0250619 , ..., 0.02506677, 0.02506522,\n",
       "        0.02506626],\n",
       "       [0.02793646, 0.02793062, 0.02793401, ..., 0.02793873, 0.02793781,\n",
       "        0.02793844]])"
      ]
     },
     "execution_count": 122,
     "metadata": {},
     "output_type": "execute_result"
    }
   ],
   "source": [
    "dimension = 10\n",
    "roof_lda = LDA(n_components = dimension)\n",
    "roof_lda_array = roof_lda.fit_transform(roof_tfidf)\n",
    "roof_lda_array\n"
   ]
  },
  {
   "cell_type": "code",
   "execution_count": 123,
   "id": "631c8841",
   "metadata": {},
   "outputs": [
    {
     "name": "stdout",
     "output_type": "stream",
     "text": [
      "1984\n"
     ]
    }
   ],
   "source": [
    "print(len(roof_lda_array))"
   ]
  },
  {
   "cell_type": "code",
   "execution_count": 125,
   "id": "1e710286",
   "metadata": {},
   "outputs": [],
   "source": [
    "roof_components = [roof_lda.components_[i] for i in range(len(roof_lda.components_))]\n",
    "roof_features = roof_count_vect.get_feature_names()\n"
   ]
  },
  {
   "cell_type": "code",
   "execution_count": 127,
   "id": "71c98993",
   "metadata": {
    "scrolled": true
   },
   "outputs": [
    {
     "data": {
      "text/plain": [
       "['05',\n",
       " '06',\n",
       " '07',\n",
       " '08',\n",
       " '09',\n",
       " '10',\n",
       " '100',\n",
       " '11',\n",
       " '12',\n",
       " '13',\n",
       " '14',\n",
       " '15',\n",
       " '150',\n",
       " '16',\n",
       " '17',\n",
       " '18',\n",
       " '19',\n",
       " '20',\n",
       " '200',\n",
       " '21',\n",
       " '22',\n",
       " '23',\n",
       " '24',\n",
       " '25',\n",
       " '250',\n",
       " '270',\n",
       " '29',\n",
       " '300',\n",
       " '31',\n",
       " '32',\n",
       " '35',\n",
       " '350',\n",
       " '38',\n",
       " '40',\n",
       " '400',\n",
       " '50',\n",
       " '57',\n",
       " '75',\n",
       " '81',\n",
       " 'additional',\n",
       " 'another',\n",
       " 'assumed',\n",
       " 'average',\n",
       " 'ceiling',\n",
       " 'code',\n",
       " 'dwelling',\n",
       " 'flat',\n",
       " 'input',\n",
       " 'insulated',\n",
       " 'insulation',\n",
       " 'invalid',\n",
       " 'limited',\n",
       " 'loft',\n",
       " 'mm',\n",
       " 'm²k',\n",
       " 'mâ²k',\n",
       " 'pitched',\n",
       " 'premises',\n",
       " 'rafters',\n",
       " 'roof',\n",
       " 'room',\n",
       " 'thatched',\n",
       " 'thermal',\n",
       " 'transmittance']"
      ]
     },
     "execution_count": 127,
     "metadata": {},
     "output_type": "execute_result"
    }
   ],
   "source": [
    "roof_features"
   ]
  },
  {
   "cell_type": "code",
   "execution_count": 128,
   "id": "671ee26d",
   "metadata": {},
   "outputs": [
    {
     "data": {
      "text/plain": [
       "64"
      ]
     },
     "execution_count": 128,
     "metadata": {},
     "output_type": "execute_result"
    }
   ],
   "source": [
    "len(roof_features)"
   ]
  },
  {
   "cell_type": "code",
   "execution_count": 129,
   "id": "ec5c8aa4",
   "metadata": {},
   "outputs": [
    {
     "data": {
      "text/plain": [
       "10"
      ]
     },
     "execution_count": 129,
     "metadata": {},
     "output_type": "execute_result"
    }
   ],
   "source": [
    "len(roof_components)"
   ]
  },
  {
   "cell_type": "code",
   "execution_count": 131,
   "id": "9eadb2a5",
   "metadata": {},
   "outputs": [
    {
     "data": {
      "text/plain": [
       "[['25', 'insulation', 'mm'],\n",
       " ['rafters', 'average', 'thermal'],\n",
       " ['another', 'dwelling', 'assumed'],\n",
       " ['insulation', 'pitched', '200'],\n",
       " ['insulation', 'pitched', '100'],\n",
       " ['insulated', 'roof', 'room'],\n",
       " ['50', '400', 'insulation'],\n",
       " ['300', 'insulation', 'pitched'],\n",
       " ['assumed', 'insulation', 'flat'],\n",
       " ['150', 'insulation', 'pitched']]"
      ]
     },
     "execution_count": 131,
     "metadata": {},
     "output_type": "execute_result"
    }
   ],
   "source": [
    "roof_important_words = [sorted(roof_features, key = lambda x: roof_components[j][roof_features.index(x)], reverse = True)[:3] for j in range(len(roof_components))]\n",
    "roof_important_words"
   ]
  },
  {
   "cell_type": "code",
   "execution_count": 133,
   "id": "f83bdd45",
   "metadata": {},
   "outputs": [
    {
     "name": "stdout",
     "output_type": "stream",
     "text": [
      "1984\n"
     ]
    }
   ],
   "source": [
    "list_max_roof_ee = []\n",
    "\n",
    "for i in range(len(roof_lda_array)):\n",
    "    list_array = list(roof_lda_array[i])\n",
    "    max_num = list_array.index(max(list_array))\n",
    "    list_max_roof_ee.append(max_num)\n",
    "    \n",
    "print(len(list_max_roof_ee))"
   ]
  },
  {
   "cell_type": "code",
   "execution_count": 134,
   "id": "9c84dad0",
   "metadata": {},
   "outputs": [],
   "source": [
    "roof_desc['desc_num'] = list_max_roof_ee"
   ]
  },
  {
   "cell_type": "code",
   "execution_count": 135,
   "id": "c6f9b435",
   "metadata": {},
   "outputs": [
    {
     "data": {
      "text/html": [
       "<div>\n",
       "<style scoped>\n",
       "    .dataframe tbody tr th:only-of-type {\n",
       "        vertical-align: middle;\n",
       "    }\n",
       "\n",
       "    .dataframe tbody tr th {\n",
       "        vertical-align: top;\n",
       "    }\n",
       "\n",
       "    .dataframe thead th {\n",
       "        text-align: right;\n",
       "    }\n",
       "</style>\n",
       "<table border=\"1\" class=\"dataframe\">\n",
       "  <thead>\n",
       "    <tr style=\"text-align: right;\">\n",
       "      <th></th>\n",
       "      <th>desc_num</th>\n",
       "      <th>agg_mean</th>\n",
       "    </tr>\n",
       "  </thead>\n",
       "  <tbody>\n",
       "    <tr>\n",
       "      <th>1</th>\n",
       "      <td>1</td>\n",
       "      <td>70.875875</td>\n",
       "    </tr>\n",
       "    <tr>\n",
       "      <th>2</th>\n",
       "      <td>2</td>\n",
       "      <td>206.153258</td>\n",
       "    </tr>\n",
       "    <tr>\n",
       "      <th>3</th>\n",
       "      <td>3</td>\n",
       "      <td>221.478566</td>\n",
       "    </tr>\n",
       "    <tr>\n",
       "      <th>4</th>\n",
       "      <td>4</td>\n",
       "      <td>224.612503</td>\n",
       "    </tr>\n",
       "    <tr>\n",
       "      <th>9</th>\n",
       "      <td>9</td>\n",
       "      <td>232.324926</td>\n",
       "    </tr>\n",
       "    <tr>\n",
       "      <th>6</th>\n",
       "      <td>6</td>\n",
       "      <td>235.894148</td>\n",
       "    </tr>\n",
       "    <tr>\n",
       "      <th>7</th>\n",
       "      <td>7</td>\n",
       "      <td>239.572869</td>\n",
       "    </tr>\n",
       "    <tr>\n",
       "      <th>5</th>\n",
       "      <td>5</td>\n",
       "      <td>254.228240</td>\n",
       "    </tr>\n",
       "    <tr>\n",
       "      <th>8</th>\n",
       "      <td>8</td>\n",
       "      <td>267.464045</td>\n",
       "    </tr>\n",
       "    <tr>\n",
       "      <th>0</th>\n",
       "      <td>0</td>\n",
       "      <td>269.384646</td>\n",
       "    </tr>\n",
       "  </tbody>\n",
       "</table>\n",
       "</div>"
      ],
      "text/plain": [
       "   desc_num    agg_mean\n",
       "1         1   70.875875\n",
       "2         2  206.153258\n",
       "3         3  221.478566\n",
       "4         4  224.612503\n",
       "9         9  232.324926\n",
       "6         6  235.894148\n",
       "7         7  239.572869\n",
       "5         5  254.228240\n",
       "8         8  267.464045\n",
       "0         0  269.384646"
      ]
     },
     "execution_count": 135,
     "metadata": {},
     "output_type": "execute_result"
    }
   ],
   "source": [
    "roof_description_corr = roof_desc.groupby(['desc_num'])['Mean'].mean().reset_index(name='agg_mean')\n",
    "roof_description_corr = roof_description_corr.sort_values(by='agg_mean')\n",
    "roof_description_corr"
   ]
  },
  {
   "cell_type": "code",
   "execution_count": 136,
   "id": "0bdaf87f",
   "metadata": {},
   "outputs": [
    {
     "name": "stdout",
     "output_type": "stream",
     "text": [
      "10\n"
     ]
    }
   ],
   "source": [
    "agg_roof_short_desc = []\n",
    "\n",
    "for i in range(len(roof_description_corr)):\n",
    "    number = roof_description_corr['desc_num'][i]\n",
    "    description = roof_important_words[number]\n",
    "    agg_roof_short_desc.append(description)\n",
    "    \n",
    "print(len(agg_roof_short_desc))"
   ]
  },
  {
   "cell_type": "code",
   "execution_count": 137,
   "id": "4666fb80",
   "metadata": {},
   "outputs": [],
   "source": [
    "roof_description_corr['short_desc'] = agg_roof_short_desc"
   ]
  },
  {
   "cell_type": "code",
   "execution_count": 138,
   "id": "88e24597",
   "metadata": {},
   "outputs": [
    {
     "data": {
      "text/html": [
       "<div>\n",
       "<style scoped>\n",
       "    .dataframe tbody tr th:only-of-type {\n",
       "        vertical-align: middle;\n",
       "    }\n",
       "\n",
       "    .dataframe tbody tr th {\n",
       "        vertical-align: top;\n",
       "    }\n",
       "\n",
       "    .dataframe thead th {\n",
       "        text-align: right;\n",
       "    }\n",
       "</style>\n",
       "<table border=\"1\" class=\"dataframe\">\n",
       "  <thead>\n",
       "    <tr style=\"text-align: right;\">\n",
       "      <th></th>\n",
       "      <th>desc_num</th>\n",
       "      <th>agg_mean</th>\n",
       "      <th>short_desc</th>\n",
       "    </tr>\n",
       "  </thead>\n",
       "  <tbody>\n",
       "    <tr>\n",
       "      <th>1</th>\n",
       "      <td>1</td>\n",
       "      <td>70.875875</td>\n",
       "      <td>[25, insulation, mm]</td>\n",
       "    </tr>\n",
       "    <tr>\n",
       "      <th>2</th>\n",
       "      <td>2</td>\n",
       "      <td>206.153258</td>\n",
       "      <td>[rafters, average, thermal]</td>\n",
       "    </tr>\n",
       "    <tr>\n",
       "      <th>3</th>\n",
       "      <td>3</td>\n",
       "      <td>221.478566</td>\n",
       "      <td>[another, dwelling, assumed]</td>\n",
       "    </tr>\n",
       "    <tr>\n",
       "      <th>4</th>\n",
       "      <td>4</td>\n",
       "      <td>224.612503</td>\n",
       "      <td>[insulation, pitched, 200]</td>\n",
       "    </tr>\n",
       "    <tr>\n",
       "      <th>9</th>\n",
       "      <td>9</td>\n",
       "      <td>232.324926</td>\n",
       "      <td>[insulation, pitched, 100]</td>\n",
       "    </tr>\n",
       "    <tr>\n",
       "      <th>6</th>\n",
       "      <td>6</td>\n",
       "      <td>235.894148</td>\n",
       "      <td>[insulated, roof, room]</td>\n",
       "    </tr>\n",
       "    <tr>\n",
       "      <th>7</th>\n",
       "      <td>7</td>\n",
       "      <td>239.572869</td>\n",
       "      <td>[50, 400, insulation]</td>\n",
       "    </tr>\n",
       "    <tr>\n",
       "      <th>5</th>\n",
       "      <td>5</td>\n",
       "      <td>254.228240</td>\n",
       "      <td>[300, insulation, pitched]</td>\n",
       "    </tr>\n",
       "    <tr>\n",
       "      <th>8</th>\n",
       "      <td>8</td>\n",
       "      <td>267.464045</td>\n",
       "      <td>[assumed, insulation, flat]</td>\n",
       "    </tr>\n",
       "    <tr>\n",
       "      <th>0</th>\n",
       "      <td>0</td>\n",
       "      <td>269.384646</td>\n",
       "      <td>[150, insulation, pitched]</td>\n",
       "    </tr>\n",
       "  </tbody>\n",
       "</table>\n",
       "</div>"
      ],
      "text/plain": [
       "   desc_num    agg_mean                    short_desc\n",
       "1         1   70.875875          [25, insulation, mm]\n",
       "2         2  206.153258   [rafters, average, thermal]\n",
       "3         3  221.478566  [another, dwelling, assumed]\n",
       "4         4  224.612503    [insulation, pitched, 200]\n",
       "9         9  232.324926    [insulation, pitched, 100]\n",
       "6         6  235.894148       [insulated, roof, room]\n",
       "7         7  239.572869         [50, 400, insulation]\n",
       "5         5  254.228240    [300, insulation, pitched]\n",
       "8         8  267.464045   [assumed, insulation, flat]\n",
       "0         0  269.384646    [150, insulation, pitched]"
      ]
     },
     "execution_count": 138,
     "metadata": {},
     "output_type": "execute_result"
    }
   ],
   "source": [
    "roof_description_corr"
   ]
  },
  {
   "cell_type": "code",
   "execution_count": 139,
   "id": "1ef82f92",
   "metadata": {},
   "outputs": [
    {
     "data": {
      "text/plain": [
       "Index(['Property_UPRN', 'Postcode', 'POST_TOWN', 'Date of Assessment',\n",
       "       'Primary Energy Indicator (kWh/m²/year)', 'Total floor area (m²)',\n",
       "       'Current energy efficiency rating',\n",
       "       'Current energy efficiency rating band',\n",
       "       'Potential Energy Efficiency Rating',\n",
       "       'Potential energy efficiency rating band',\n",
       "       'Current Environmental Impact Rating',\n",
       "       'Current Environmental Impact Rating Band',\n",
       "       'Potential Environmental Impact Rating',\n",
       "       'Potential Environmental Impact Rating Band',\n",
       "       'CO2 Emissions Current Per Floor Area (kg.CO2/m²/yr)',\n",
       "       'WALL_DESCRIPTION', 'WALL_ENERGY_EFF', 'ROOF_DESCRIPTION',\n",
       "       'ROOF_ENERGY_EFF', 'FLOOR_DESCRIPTION', 'FLOOR_ENERGY_EFF',\n",
       "       'FLOOR_ENV_EFF', 'WINDOWS_DESCRIPTION', 'WINDOWS_ENERGY_EFF',\n",
       "       'WINDOWS_ENV_EFF', 'MAINHEAT_DESCRIPTION', 'MAINHEAT_ENERGY_EFF',\n",
       "       'MAINHEAT_ENV_EFF', 'MAINHEATCONT_DESCRIPTION', 'MAINHEATC_ENERGY_EFF',\n",
       "       'MAINHEATC_ENV_EFF', 'HOT_WATER_ENERGY_EFF', 'HOT_WATER_ENV_EFF',\n",
       "       'LIGHTING_DESCRIPTION', 'LIGHTING_ENERGY_EFF', 'LIGHTING_ENV_EFF',\n",
       "       'Current Emissions (T.CO2/yr)',\n",
       "       'Potential Reduction in Emissions (T.CO2/yr)',\n",
       "       'Total current energy costs over 3 years (£)',\n",
       "       'Current heating costs over 3 years (£)',\n",
       "       'Potential heating costs over 3 years (£)',\n",
       "       'Current hot water costs over 3 years (£)',\n",
       "       'Potential hot water costs over 3 years (£)',\n",
       "       'Current lighting costs over 3 years (£)',\n",
       "       'Potential lighting costs over 3 years (£)',\n",
       "       'Part 1 Construction Age Band', 'Built Form', 'Property Type',\n",
       "       'heat_savings', 'hot_water_save', 'AGG_RATING', 'EE_PRODUCT',\n",
       "       'ROOF_RATING', 'ROOF_EE_PRODUCT'],\n",
       "      dtype='object')"
      ]
     },
     "execution_count": 139,
     "metadata": {},
     "output_type": "execute_result"
    }
   ],
   "source": [
    "dataset.columns"
   ]
  },
  {
   "cell_type": "code",
   "execution_count": 140,
   "id": "83b85751",
   "metadata": {},
   "outputs": [
    {
     "name": "stderr",
     "output_type": "stream",
     "text": [
      "C:\\Users\\eddie\\AppData\\Local\\Temp/ipykernel_14324/1828837144.py:1: FutureWarning: Indexing with multiple keys (implicitly converted to a tuple of keys) will be deprecated, use a list instead.\n",
      "  age_of_build = dataset.groupby(['Part 1 Construction Age Band'])['Current energy efficiency rating','Current Emissions (T.CO2/yr)'].mean().reset_index()\n"
     ]
    }
   ],
   "source": [
    "age_of_build = dataset.groupby(['Part 1 Construction Age Band'])['Current energy efficiency rating','Current Emissions (T.CO2/yr)'].mean().reset_index()"
   ]
  },
  {
   "cell_type": "code",
   "execution_count": 147,
   "id": "5c860800",
   "metadata": {},
   "outputs": [
    {
     "data": {
      "text/plain": [
       "<bound method NDFrame.head of    Part 1 Construction Age Band  Current energy efficiency rating  \\\n",
       "0                     1919-1929                         62.244228   \n",
       "1                     1930-1949                         64.988258   \n",
       "2                     1950-1964                         65.663387   \n",
       "3                     1965-1975                         66.230327   \n",
       "4                     1976-1983                         67.528634   \n",
       "5                     1984-1991                         69.085491   \n",
       "6                     1992-1998                         71.311040   \n",
       "7                     1999-2002                         72.708708   \n",
       "8                     2003-2007                         76.565927   \n",
       "9                  2008 onwards                         78.443133   \n",
       "10                  before 1919                         59.158740   \n",
       "\n",
       "    Current Emissions (T.CO2/yr)  \n",
       "0                       4.805747  \n",
       "1                       4.264428  \n",
       "2                       3.973697  \n",
       "3                       4.079704  \n",
       "4                       3.858721  \n",
       "5                       3.484475  \n",
       "6                       3.473204  \n",
       "7                       3.404447  \n",
       "8                       2.898558  \n",
       "9                       2.598642  \n",
       "10                      5.644251  >"
      ]
     },
     "execution_count": 147,
     "metadata": {},
     "output_type": "execute_result"
    }
   ],
   "source": [
    "age_of_build.head"
   ]
  },
  {
   "cell_type": "code",
   "execution_count": 148,
   "id": "4551b4e8",
   "metadata": {},
   "outputs": [],
   "source": [
    "age_of_build['Year'] = [1924, 1940, 1957, 1970, 1979, 1987, 1995, 2000, 2005, 2015, 1919]"
   ]
  },
  {
   "cell_type": "code",
   "execution_count": 149,
   "id": "14fdfeda",
   "metadata": {},
   "outputs": [
    {
     "data": {
      "text/html": [
       "<div>\n",
       "<style scoped>\n",
       "    .dataframe tbody tr th:only-of-type {\n",
       "        vertical-align: middle;\n",
       "    }\n",
       "\n",
       "    .dataframe tbody tr th {\n",
       "        vertical-align: top;\n",
       "    }\n",
       "\n",
       "    .dataframe thead th {\n",
       "        text-align: right;\n",
       "    }\n",
       "</style>\n",
       "<table border=\"1\" class=\"dataframe\">\n",
       "  <thead>\n",
       "    <tr style=\"text-align: right;\">\n",
       "      <th></th>\n",
       "      <th>Part 1 Construction Age Band</th>\n",
       "      <th>Current energy efficiency rating</th>\n",
       "      <th>Current Emissions (T.CO2/yr)</th>\n",
       "      <th>Year</th>\n",
       "    </tr>\n",
       "  </thead>\n",
       "  <tbody>\n",
       "    <tr>\n",
       "      <th>0</th>\n",
       "      <td>before 1919</td>\n",
       "      <td>59.158740</td>\n",
       "      <td>5.644251</td>\n",
       "      <td>1919</td>\n",
       "    </tr>\n",
       "    <tr>\n",
       "      <th>1</th>\n",
       "      <td>1919-1929</td>\n",
       "      <td>62.244228</td>\n",
       "      <td>4.805747</td>\n",
       "      <td>1924</td>\n",
       "    </tr>\n",
       "    <tr>\n",
       "      <th>2</th>\n",
       "      <td>1930-1949</td>\n",
       "      <td>64.988258</td>\n",
       "      <td>4.264428</td>\n",
       "      <td>1940</td>\n",
       "    </tr>\n",
       "    <tr>\n",
       "      <th>3</th>\n",
       "      <td>1950-1964</td>\n",
       "      <td>65.663387</td>\n",
       "      <td>3.973697</td>\n",
       "      <td>1957</td>\n",
       "    </tr>\n",
       "    <tr>\n",
       "      <th>4</th>\n",
       "      <td>1965-1975</td>\n",
       "      <td>66.230327</td>\n",
       "      <td>4.079704</td>\n",
       "      <td>1970</td>\n",
       "    </tr>\n",
       "    <tr>\n",
       "      <th>5</th>\n",
       "      <td>1976-1983</td>\n",
       "      <td>67.528634</td>\n",
       "      <td>3.858721</td>\n",
       "      <td>1979</td>\n",
       "    </tr>\n",
       "    <tr>\n",
       "      <th>6</th>\n",
       "      <td>1984-1991</td>\n",
       "      <td>69.085491</td>\n",
       "      <td>3.484475</td>\n",
       "      <td>1987</td>\n",
       "    </tr>\n",
       "    <tr>\n",
       "      <th>7</th>\n",
       "      <td>1992-1998</td>\n",
       "      <td>71.311040</td>\n",
       "      <td>3.473204</td>\n",
       "      <td>1995</td>\n",
       "    </tr>\n",
       "    <tr>\n",
       "      <th>8</th>\n",
       "      <td>1999-2002</td>\n",
       "      <td>72.708708</td>\n",
       "      <td>3.404447</td>\n",
       "      <td>2000</td>\n",
       "    </tr>\n",
       "    <tr>\n",
       "      <th>9</th>\n",
       "      <td>2003-2007</td>\n",
       "      <td>76.565927</td>\n",
       "      <td>2.898558</td>\n",
       "      <td>2005</td>\n",
       "    </tr>\n",
       "    <tr>\n",
       "      <th>10</th>\n",
       "      <td>2008 onwards</td>\n",
       "      <td>78.443133</td>\n",
       "      <td>2.598642</td>\n",
       "      <td>2015</td>\n",
       "    </tr>\n",
       "  </tbody>\n",
       "</table>\n",
       "</div>"
      ],
      "text/plain": [
       "   Part 1 Construction Age Band  Current energy efficiency rating  \\\n",
       "0                   before 1919                         59.158740   \n",
       "1                     1919-1929                         62.244228   \n",
       "2                     1930-1949                         64.988258   \n",
       "3                     1950-1964                         65.663387   \n",
       "4                     1965-1975                         66.230327   \n",
       "5                     1976-1983                         67.528634   \n",
       "6                     1984-1991                         69.085491   \n",
       "7                     1992-1998                         71.311040   \n",
       "8                     1999-2002                         72.708708   \n",
       "9                     2003-2007                         76.565927   \n",
       "10                 2008 onwards                         78.443133   \n",
       "\n",
       "    Current Emissions (T.CO2/yr)  Year  \n",
       "0                       5.644251  1919  \n",
       "1                       4.805747  1924  \n",
       "2                       4.264428  1940  \n",
       "3                       3.973697  1957  \n",
       "4                       4.079704  1970  \n",
       "5                       3.858721  1979  \n",
       "6                       3.484475  1987  \n",
       "7                       3.473204  1995  \n",
       "8                       3.404447  2000  \n",
       "9                       2.898558  2005  \n",
       "10                      2.598642  2015  "
      ]
     },
     "execution_count": 149,
     "metadata": {},
     "output_type": "execute_result"
    }
   ],
   "source": [
    "age_of_build = age_of_build.sort_values(by='Year', ascending=True).reset_index(drop=True)\n",
    "age_of_build"
   ]
  },
  {
   "cell_type": "code",
   "execution_count": 151,
   "id": "ea66cac5",
   "metadata": {},
   "outputs": [],
   "source": [
    "age_of_build['est_building_age'] = 2022-age_of_build['Year']"
   ]
  },
  {
   "cell_type": "code",
   "execution_count": 152,
   "id": "6890a02d",
   "metadata": {},
   "outputs": [
    {
     "data": {
      "text/html": [
       "<div>\n",
       "<style scoped>\n",
       "    .dataframe tbody tr th:only-of-type {\n",
       "        vertical-align: middle;\n",
       "    }\n",
       "\n",
       "    .dataframe tbody tr th {\n",
       "        vertical-align: top;\n",
       "    }\n",
       "\n",
       "    .dataframe thead th {\n",
       "        text-align: right;\n",
       "    }\n",
       "</style>\n",
       "<table border=\"1\" class=\"dataframe\">\n",
       "  <thead>\n",
       "    <tr style=\"text-align: right;\">\n",
       "      <th></th>\n",
       "      <th>Part 1 Construction Age Band</th>\n",
       "      <th>Current energy efficiency rating</th>\n",
       "      <th>Current Emissions (T.CO2/yr)</th>\n",
       "      <th>Year</th>\n",
       "      <th>est_building_age</th>\n",
       "    </tr>\n",
       "  </thead>\n",
       "  <tbody>\n",
       "    <tr>\n",
       "      <th>0</th>\n",
       "      <td>before 1919</td>\n",
       "      <td>59.158740</td>\n",
       "      <td>5.644251</td>\n",
       "      <td>1919</td>\n",
       "      <td>103</td>\n",
       "    </tr>\n",
       "    <tr>\n",
       "      <th>1</th>\n",
       "      <td>1919-1929</td>\n",
       "      <td>62.244228</td>\n",
       "      <td>4.805747</td>\n",
       "      <td>1924</td>\n",
       "      <td>98</td>\n",
       "    </tr>\n",
       "    <tr>\n",
       "      <th>2</th>\n",
       "      <td>1930-1949</td>\n",
       "      <td>64.988258</td>\n",
       "      <td>4.264428</td>\n",
       "      <td>1940</td>\n",
       "      <td>82</td>\n",
       "    </tr>\n",
       "    <tr>\n",
       "      <th>3</th>\n",
       "      <td>1950-1964</td>\n",
       "      <td>65.663387</td>\n",
       "      <td>3.973697</td>\n",
       "      <td>1957</td>\n",
       "      <td>65</td>\n",
       "    </tr>\n",
       "    <tr>\n",
       "      <th>4</th>\n",
       "      <td>1965-1975</td>\n",
       "      <td>66.230327</td>\n",
       "      <td>4.079704</td>\n",
       "      <td>1970</td>\n",
       "      <td>52</td>\n",
       "    </tr>\n",
       "    <tr>\n",
       "      <th>5</th>\n",
       "      <td>1976-1983</td>\n",
       "      <td>67.528634</td>\n",
       "      <td>3.858721</td>\n",
       "      <td>1979</td>\n",
       "      <td>43</td>\n",
       "    </tr>\n",
       "    <tr>\n",
       "      <th>6</th>\n",
       "      <td>1984-1991</td>\n",
       "      <td>69.085491</td>\n",
       "      <td>3.484475</td>\n",
       "      <td>1987</td>\n",
       "      <td>35</td>\n",
       "    </tr>\n",
       "    <tr>\n",
       "      <th>7</th>\n",
       "      <td>1992-1998</td>\n",
       "      <td>71.311040</td>\n",
       "      <td>3.473204</td>\n",
       "      <td>1995</td>\n",
       "      <td>27</td>\n",
       "    </tr>\n",
       "    <tr>\n",
       "      <th>8</th>\n",
       "      <td>1999-2002</td>\n",
       "      <td>72.708708</td>\n",
       "      <td>3.404447</td>\n",
       "      <td>2000</td>\n",
       "      <td>22</td>\n",
       "    </tr>\n",
       "    <tr>\n",
       "      <th>9</th>\n",
       "      <td>2003-2007</td>\n",
       "      <td>76.565927</td>\n",
       "      <td>2.898558</td>\n",
       "      <td>2005</td>\n",
       "      <td>17</td>\n",
       "    </tr>\n",
       "    <tr>\n",
       "      <th>10</th>\n",
       "      <td>2008 onwards</td>\n",
       "      <td>78.443133</td>\n",
       "      <td>2.598642</td>\n",
       "      <td>2015</td>\n",
       "      <td>7</td>\n",
       "    </tr>\n",
       "  </tbody>\n",
       "</table>\n",
       "</div>"
      ],
      "text/plain": [
       "   Part 1 Construction Age Band  Current energy efficiency rating  \\\n",
       "0                   before 1919                         59.158740   \n",
       "1                     1919-1929                         62.244228   \n",
       "2                     1930-1949                         64.988258   \n",
       "3                     1950-1964                         65.663387   \n",
       "4                     1965-1975                         66.230327   \n",
       "5                     1976-1983                         67.528634   \n",
       "6                     1984-1991                         69.085491   \n",
       "7                     1992-1998                         71.311040   \n",
       "8                     1999-2002                         72.708708   \n",
       "9                     2003-2007                         76.565927   \n",
       "10                 2008 onwards                         78.443133   \n",
       "\n",
       "    Current Emissions (T.CO2/yr)  Year  est_building_age  \n",
       "0                       5.644251  1919               103  \n",
       "1                       4.805747  1924                98  \n",
       "2                       4.264428  1940                82  \n",
       "3                       3.973697  1957                65  \n",
       "4                       4.079704  1970                52  \n",
       "5                       3.858721  1979                43  \n",
       "6                       3.484475  1987                35  \n",
       "7                       3.473204  1995                27  \n",
       "8                       3.404447  2000                22  \n",
       "9                       2.898558  2005                17  \n",
       "10                      2.598642  2015                 7  "
      ]
     },
     "execution_count": 152,
     "metadata": {},
     "output_type": "execute_result"
    }
   ],
   "source": [
    "age_of_build"
   ]
  },
  {
   "cell_type": "code",
   "execution_count": 160,
   "id": "975328d5",
   "metadata": {},
   "outputs": [],
   "source": [
    "year_dict = {0:0,\"before 1919\":1919, \"1919-1929\":1924, \"1930-1949\":1940,\"1950-1964\":1957,\"1965-1975\":1970, \"1976-1983\":1979,\"1984-1991\":1987,\"1992-1998\":1995,\"1999-2002\":2000,\"2003-2007\":2005, \"2008 onwards\":2015}"
   ]
  },
  {
   "cell_type": "code",
   "execution_count": 158,
   "id": "e4e7d69a",
   "metadata": {},
   "outputs": [],
   "source": [
    "dataset[\"Part 1 Construction Age Band\"] = dataset[\"Part 1 Construction Age Band\"].fillna(0)"
   ]
  },
  {
   "cell_type": "code",
   "execution_count": 161,
   "id": "e3a5a3b0",
   "metadata": {},
   "outputs": [
    {
     "name": "stdout",
     "output_type": "stream",
     "text": [
      "185039\n"
     ]
    }
   ],
   "source": [
    "all_building_year = []\n",
    "\n",
    "for i in range(len(dataset)):\n",
    "    year = year_dict[dataset['Part 1 Construction Age Band'][i]]\n",
    "    all_building_year.append(year)\n",
    "    \n",
    "print(len(all_building_year))"
   ]
  },
  {
   "cell_type": "code",
   "execution_count": 162,
   "id": "a4e6ce6a",
   "metadata": {},
   "outputs": [],
   "source": [
    "dataset['est_build_year'] = all_building_year"
   ]
  },
  {
   "cell_type": "code",
   "execution_count": 163,
   "id": "1f1a0e1b",
   "metadata": {},
   "outputs": [],
   "source": [
    "dataset['build_age'] = 2022-dataset['est_build_year']"
   ]
  },
  {
   "cell_type": "code",
   "execution_count": 165,
   "id": "ac2250fb",
   "metadata": {},
   "outputs": [],
   "source": [
    "#for analysis, drop rows whhere build_age = 2022\n",
    "\n",
    "analysis_build_age = dataset[dataset['build_age'] !=2022].reset_index(drop=True)"
   ]
  },
  {
   "cell_type": "code",
   "execution_count": 166,
   "id": "d0b44cb8",
   "metadata": {},
   "outputs": [
    {
     "data": {
      "image/png": "[encoded data removed]",
      "text/plain": [
       "<Figure size 432x288 with 1 Axes>"
      ]
     },
     "metadata": {
      "needs_background": "light"
     },
     "output_type": "display_data"
    }
   ],
   "source": [
    "plt.scatter(analysis_build_age['build_age'], analysis_build_age['Current energy efficiency rating'])\n",
    "plt.show()"
   ]
  },
  {
   "cell_type": "code",
   "execution_count": 167,
   "id": "e4810596",
   "metadata": {},
   "outputs": [],
   "source": [
    "from sklearn.linear_model import LinearRegression"
   ]
  },
  {
   "cell_type": "code",
   "execution_count": 168,
   "id": "69bb712e",
   "metadata": {},
   "outputs": [
    {
     "data": {
      "text/plain": [
       "155067"
      ]
     },
     "execution_count": 168,
     "metadata": {},
     "output_type": "execute_result"
    }
   ],
   "source": [
    "len(analysis_build_age)"
   ]
  },
  {
   "cell_type": "code",
   "execution_count": 169,
   "id": "0300e7df",
   "metadata": {},
   "outputs": [
    {
     "data": {
      "text/plain": [
       "124053.6"
      ]
     },
     "execution_count": 169,
     "metadata": {},
     "output_type": "execute_result"
    }
   ],
   "source": [
    "0.8*len(analysis_build_age)"
   ]
  },
  {
   "cell_type": "code",
   "execution_count": 171,
   "id": "fdb787ec",
   "metadata": {},
   "outputs": [
    {
     "data": {
      "text/plain": [
       "31013.4"
      ]
     },
     "execution_count": 171,
     "metadata": {},
     "output_type": "execute_result"
    }
   ],
   "source": [
    "0.2*len(analysis_build_age)"
   ]
  },
  {
   "cell_type": "code",
   "execution_count": 195,
   "id": "473cbf49",
   "metadata": {},
   "outputs": [
    {
     "data": {
      "text/plain": [
       "0          82\n",
       "1          98\n",
       "2          52\n",
       "3          22\n",
       "4         103\n",
       "         ... \n",
       "155062      7\n",
       "155063     82\n",
       "155064     35\n",
       "155065     52\n",
       "155066     52\n",
       "Name: build_age, Length: 155067, dtype: int64"
      ]
     },
     "execution_count": 195,
     "metadata": {},
     "output_type": "execute_result"
    }
   ],
   "source": [
    "analysis_build_age['build_age']"
   ]
  },
  {
   "cell_type": "code",
   "execution_count": 201,
   "id": "44d97ea3",
   "metadata": {},
   "outputs": [],
   "source": [
    "X = np.array(analysis_build_age['build_age'])\n",
    "y = analysis_build_age['Current energy efficiency rating']"
   ]
  },
  {
   "cell_type": "code",
   "execution_count": 206,
   "id": "24ba24b6",
   "metadata": {},
   "outputs": [],
   "source": [
    "from sklearn.model_selection import train_test_split\n",
    "\n",
    "X=X.reshape(-1,1)\n",
    "\n",
    "X_train, X_test, Y_train, Y_test = train_test_split(X,y, test_size=0.3,random_state=100)"
   ]
  },
  {
   "cell_type": "code",
   "execution_count": 207,
   "id": "d363eba0",
   "metadata": {},
   "outputs": [
    {
     "data": {
      "text/plain": [
       "LinearRegression()"
      ]
     },
     "execution_count": 207,
     "metadata": {},
     "output_type": "execute_result"
    }
   ],
   "source": [
    "lm = LinearRegression()\n",
    "lm.fit(X_train, Y_train)"
   ]
  },
  {
   "cell_type": "code",
   "execution_count": 208,
   "id": "03d71c87",
   "metadata": {},
   "outputs": [
    {
     "name": "stdout",
     "output_type": "stream",
     "text": [
      "[-0.16783715]\n"
     ]
    }
   ],
   "source": [
    "print(lm.coef_)"
   ]
  },
  {
   "cell_type": "code",
   "execution_count": 209,
   "id": "1c6f2479",
   "metadata": {},
   "outputs": [
    {
     "name": "stdout",
     "output_type": "stream",
     "text": [
      "76.53365590781384\n"
     ]
    }
   ],
   "source": [
    "print(lm.intercept_)"
   ]
  },
  {
   "cell_type": "code",
   "execution_count": 210,
   "id": "30208b07",
   "metadata": {},
   "outputs": [],
   "source": [
    "z = analysis_build_age['Current Emissions (T.CO2/yr)']\n",
    "X_train, X_test, Z_train, Z_test = train_test_split(X,z, test_size=0.3,random_state=100)"
   ]
  },
  {
   "cell_type": "code",
   "execution_count": 211,
   "id": "44c33a19",
   "metadata": {},
   "outputs": [
    {
     "data": {
      "text/plain": [
       "LinearRegression()"
      ]
     },
     "execution_count": 211,
     "metadata": {},
     "output_type": "execute_result"
    }
   ],
   "source": [
    "lm2 = LinearRegression()\n",
    "lm2.fit(X_train, Z_train)"
   ]
  },
  {
   "cell_type": "code",
   "execution_count": 212,
   "id": "0b578222",
   "metadata": {},
   "outputs": [
    {
     "name": "stdout",
     "output_type": "stream",
     "text": [
      "[0.02801509]\n",
      "2.481388229965577\n"
     ]
    }
   ],
   "source": [
    "print(lm2.coef_)\n",
    "print(lm2.intercept_)"
   ]
  },
  {
   "cell_type": "code",
   "execution_count": null,
   "id": "7c2797f3",
   "metadata": {},
   "outputs": [],
   "source": [
    "#4 look at this https://towardsdatascience.com/how-to-easily-cluster-textual-data-in-python-ab27040b07d8\n",
    "\n",
    "#Given the expansiveness of the question, it is not practicable to address the problem head-on. The approach instead will be to look at the current best performers in emissions and energy efficiency and look at their properties."
   ]
  },
  {
   "cell_type": "code",
   "execution_count": 213,
   "id": "907d9bc9",
   "metadata": {
    "scrolled": true
   },
   "outputs": [
    {
     "data": {
      "text/plain": [
       "Property_UPRN                                          float64\n",
       "Postcode                                                object\n",
       "POST_TOWN                                               object\n",
       "Date of Assessment                                      object\n",
       "Primary Energy Indicator (kWh/m²/year)                 float64\n",
       "Total floor area (m²)                                  float64\n",
       "Current energy efficiency rating                       float64\n",
       "Current energy efficiency rating band                   object\n",
       "Potential Energy Efficiency Rating                     float64\n",
       "Potential energy efficiency rating band                 object\n",
       "Current Environmental Impact Rating                    float64\n",
       "Current Environmental Impact Rating Band                object\n",
       "Potential Environmental Impact Rating                  float64\n",
       "Potential Environmental Impact Rating Band              object\n",
       "CO2 Emissions Current Per Floor Area (kg.CO2/m²/yr)    float64\n",
       "WALL_DESCRIPTION                                        object\n",
       "WALL_ENERGY_EFF                                         object\n",
       "ROOF_DESCRIPTION                                        object\n",
       "ROOF_ENERGY_EFF                                         object\n",
       "FLOOR_DESCRIPTION                                       object\n",
       "FLOOR_ENERGY_EFF                                        object\n",
       "FLOOR_ENV_EFF                                           object\n",
       "WINDOWS_DESCRIPTION                                     object\n",
       "WINDOWS_ENERGY_EFF                                      object\n",
       "WINDOWS_ENV_EFF                                         object\n",
       "MAINHEAT_DESCRIPTION                                    object\n",
       "MAINHEAT_ENERGY_EFF                                     object\n",
       "MAINHEAT_ENV_EFF                                        object\n",
       "MAINHEATCONT_DESCRIPTION                                object\n",
       "MAINHEATC_ENERGY_EFF                                    object\n",
       "MAINHEATC_ENV_EFF                                       object\n",
       "HOT_WATER_ENERGY_EFF                                    object\n",
       "HOT_WATER_ENV_EFF                                       object\n",
       "LIGHTING_DESCRIPTION                                    object\n",
       "LIGHTING_ENERGY_EFF                                     object\n",
       "LIGHTING_ENV_EFF                                        object\n",
       "Current Emissions (T.CO2/yr)                           float64\n",
       "Potential Reduction in Emissions (T.CO2/yr)            float64\n",
       "Total current energy costs over 3 years (£)            float64\n",
       "Current heating costs over 3 years (£)                 float64\n",
       "Potential heating costs over 3 years (£)               float64\n",
       "Current hot water costs over 3 years (£)               float64\n",
       "Potential hot water costs over 3 years (£)             float64\n",
       "Current lighting costs over 3 years (£)                float64\n",
       "Potential lighting costs over 3 years (£)              float64\n",
       "Part 1 Construction Age Band                            object\n",
       "Built Form                                              object\n",
       "Property Type                                           object\n",
       "heat_savings                                           float64\n",
       "hot_water_save                                         float64\n",
       "AGG_RATING                                             float64\n",
       "EE_PRODUCT                                             float64\n",
       "ROOF_RATING                                            float64\n",
       "ROOF_EE_PRODUCT                                        float64\n",
       "est_build_year                                           int64\n",
       "build_age                                                int64\n",
       "dtype: object"
      ]
     },
     "execution_count": 213,
     "metadata": {},
     "output_type": "execute_result"
    }
   ],
   "source": [
    "dataset.dtypes"
   ]
  },
  {
   "cell_type": "code",
   "execution_count": 214,
   "id": "8e1b5019",
   "metadata": {},
   "outputs": [],
   "source": [
    "emissions = dataset.sort_values(by=\"Current Emissions (T.CO2/yr)\").reset_index(drop=True)"
   ]
  },
  {
   "cell_type": "code",
   "execution_count": 215,
   "id": "d79eede4",
   "metadata": {
    "scrolled": true
   },
   "outputs": [
    {
     "data": {
      "text/html": [
       "<div>\n",
       "<style scoped>\n",
       "    .dataframe tbody tr th:only-of-type {\n",
       "        vertical-align: middle;\n",
       "    }\n",
       "\n",
       "    .dataframe tbody tr th {\n",
       "        vertical-align: top;\n",
       "    }\n",
       "\n",
       "    .dataframe thead th {\n",
       "        text-align: right;\n",
       "    }\n",
       "</style>\n",
       "<table border=\"1\" class=\"dataframe\">\n",
       "  <thead>\n",
       "    <tr style=\"text-align: right;\">\n",
       "      <th></th>\n",
       "      <th>Property_UPRN</th>\n",
       "      <th>Postcode</th>\n",
       "      <th>POST_TOWN</th>\n",
       "      <th>Date of Assessment</th>\n",
       "      <th>Primary Energy Indicator (kWh/m²/year)</th>\n",
       "      <th>Total floor area (m²)</th>\n",
       "      <th>Current energy efficiency rating</th>\n",
       "      <th>Current energy efficiency rating band</th>\n",
       "      <th>Potential Energy Efficiency Rating</th>\n",
       "      <th>Potential energy efficiency rating band</th>\n",
       "      <th>...</th>\n",
       "      <th>Built Form</th>\n",
       "      <th>Property Type</th>\n",
       "      <th>heat_savings</th>\n",
       "      <th>hot_water_save</th>\n",
       "      <th>AGG_RATING</th>\n",
       "      <th>EE_PRODUCT</th>\n",
       "      <th>ROOF_RATING</th>\n",
       "      <th>ROOF_EE_PRODUCT</th>\n",
       "      <th>est_build_year</th>\n",
       "      <th>build_age</th>\n",
       "    </tr>\n",
       "  </thead>\n",
       "  <tbody>\n",
       "    <tr>\n",
       "      <th>0</th>\n",
       "      <td>1.235876e+09</td>\n",
       "      <td>PA21 2DB</td>\n",
       "      <td>tighnabruaich</td>\n",
       "      <td>28/10/2021</td>\n",
       "      <td>-858.0</td>\n",
       "      <td>143.0</td>\n",
       "      <td>268.0</td>\n",
       "      <td>A</td>\n",
       "      <td>291.0</td>\n",
       "      <td>A</td>\n",
       "      <td>...</td>\n",
       "      <td>Detached</td>\n",
       "      <td>House</td>\n",
       "      <td>0.0</td>\n",
       "      <td>159.0</td>\n",
       "      <td>5.000000</td>\n",
       "      <td>-795.0</td>\n",
       "      <td>4.0</td>\n",
       "      <td>-636.0</td>\n",
       "      <td>0</td>\n",
       "      <td>2022</td>\n",
       "    </tr>\n",
       "    <tr>\n",
       "      <th>1</th>\n",
       "      <td>1.235429e+09</td>\n",
       "      <td>KY2 6FN</td>\n",
       "      <td>kirkcaldy</td>\n",
       "      <td>11/06/2021</td>\n",
       "      <td>-145.0</td>\n",
       "      <td>346.0</td>\n",
       "      <td>141.0</td>\n",
       "      <td>A</td>\n",
       "      <td>141.0</td>\n",
       "      <td>A</td>\n",
       "      <td>...</td>\n",
       "      <td>Detached</td>\n",
       "      <td>Bungalow</td>\n",
       "      <td>0.0</td>\n",
       "      <td>0.0</td>\n",
       "      <td>5.000000</td>\n",
       "      <td>-125.0</td>\n",
       "      <td>4.0</td>\n",
       "      <td>-100.0</td>\n",
       "      <td>0</td>\n",
       "      <td>2022</td>\n",
       "    </tr>\n",
       "    <tr>\n",
       "      <th>2</th>\n",
       "      <td>1.235052e+09</td>\n",
       "      <td>EH23 4PS</td>\n",
       "      <td>gorebridge</td>\n",
       "      <td>06/04/2021</td>\n",
       "      <td>-60.0</td>\n",
       "      <td>215.0</td>\n",
       "      <td>124.0</td>\n",
       "      <td>A</td>\n",
       "      <td>134.0</td>\n",
       "      <td>A</td>\n",
       "      <td>...</td>\n",
       "      <td>Detached</td>\n",
       "      <td>Bungalow</td>\n",
       "      <td>0.0</td>\n",
       "      <td>0.0</td>\n",
       "      <td>5.000000</td>\n",
       "      <td>-135.0</td>\n",
       "      <td>4.0</td>\n",
       "      <td>-108.0</td>\n",
       "      <td>0</td>\n",
       "      <td>2022</td>\n",
       "    </tr>\n",
       "    <tr>\n",
       "      <th>3</th>\n",
       "      <td>1.235755e+09</td>\n",
       "      <td>EH23 4NN</td>\n",
       "      <td>gorebridge</td>\n",
       "      <td>08/04/2021</td>\n",
       "      <td>-60.0</td>\n",
       "      <td>215.0</td>\n",
       "      <td>124.0</td>\n",
       "      <td>A</td>\n",
       "      <td>134.0</td>\n",
       "      <td>A</td>\n",
       "      <td>...</td>\n",
       "      <td>Detached</td>\n",
       "      <td>Bungalow</td>\n",
       "      <td>0.0</td>\n",
       "      <td>0.0</td>\n",
       "      <td>5.000000</td>\n",
       "      <td>-135.0</td>\n",
       "      <td>4.0</td>\n",
       "      <td>-108.0</td>\n",
       "      <td>0</td>\n",
       "      <td>2022</td>\n",
       "    </tr>\n",
       "    <tr>\n",
       "      <th>4</th>\n",
       "      <td>1.001273e+09</td>\n",
       "      <td>KA16 9LJ</td>\n",
       "      <td>newmilns</td>\n",
       "      <td>29/07/2021</td>\n",
       "      <td>140.0</td>\n",
       "      <td>199.0</td>\n",
       "      <td>78.0</td>\n",
       "      <td>C</td>\n",
       "      <td>87.0</td>\n",
       "      <td>B</td>\n",
       "      <td>...</td>\n",
       "      <td>Detached</td>\n",
       "      <td>House</td>\n",
       "      <td>990.0</td>\n",
       "      <td>300.0</td>\n",
       "      <td>3.000000</td>\n",
       "      <td>-54.0</td>\n",
       "      <td>4.5</td>\n",
       "      <td>-81.0</td>\n",
       "      <td>1919</td>\n",
       "      <td>103</td>\n",
       "    </tr>\n",
       "    <tr>\n",
       "      <th>5</th>\n",
       "      <td>1.235743e+09</td>\n",
       "      <td>G71 7FR</td>\n",
       "      <td>glasgow</td>\n",
       "      <td>23/03/2021</td>\n",
       "      <td>-263.0</td>\n",
       "      <td>75.0</td>\n",
       "      <td>143.0</td>\n",
       "      <td>A</td>\n",
       "      <td>144.0</td>\n",
       "      <td>A</td>\n",
       "      <td>...</td>\n",
       "      <td>Semi-Detached</td>\n",
       "      <td>House</td>\n",
       "      <td>0.0</td>\n",
       "      <td>78.0</td>\n",
       "      <td>5.000000</td>\n",
       "      <td>-219.5</td>\n",
       "      <td>4.0</td>\n",
       "      <td>-175.6</td>\n",
       "      <td>0</td>\n",
       "      <td>2022</td>\n",
       "    </tr>\n",
       "    <tr>\n",
       "      <th>6</th>\n",
       "      <td>1.235888e+09</td>\n",
       "      <td>PH36 4HY</td>\n",
       "      <td>acharacle</td>\n",
       "      <td>18/11/2021</td>\n",
       "      <td>-125.0</td>\n",
       "      <td>146.0</td>\n",
       "      <td>126.0</td>\n",
       "      <td>A</td>\n",
       "      <td>127.0</td>\n",
       "      <td>A</td>\n",
       "      <td>...</td>\n",
       "      <td>Detached</td>\n",
       "      <td>House</td>\n",
       "      <td>0.0</td>\n",
       "      <td>267.0</td>\n",
       "      <td>5.000000</td>\n",
       "      <td>-105.0</td>\n",
       "      <td>4.0</td>\n",
       "      <td>-84.0</td>\n",
       "      <td>0</td>\n",
       "      <td>2022</td>\n",
       "    </tr>\n",
       "    <tr>\n",
       "      <th>7</th>\n",
       "      <td>1.234627e+09</td>\n",
       "      <td>TD11 3NG</td>\n",
       "      <td>duns</td>\n",
       "      <td>09/11/2021</td>\n",
       "      <td>88.0</td>\n",
       "      <td>226.0</td>\n",
       "      <td>90.0</td>\n",
       "      <td>B</td>\n",
       "      <td>102.0</td>\n",
       "      <td>A</td>\n",
       "      <td>...</td>\n",
       "      <td>Detached</td>\n",
       "      <td>House</td>\n",
       "      <td>-27.0</td>\n",
       "      <td>294.0</td>\n",
       "      <td>4.500000</td>\n",
       "      <td>-58.5</td>\n",
       "      <td>3.0</td>\n",
       "      <td>-39.0</td>\n",
       "      <td>1919</td>\n",
       "      <td>103</td>\n",
       "    </tr>\n",
       "    <tr>\n",
       "      <th>8</th>\n",
       "      <td>1.235783e+09</td>\n",
       "      <td>G83 8SD</td>\n",
       "      <td>gartocharn</td>\n",
       "      <td>26/05/2021</td>\n",
       "      <td>-61.0</td>\n",
       "      <td>292.0</td>\n",
       "      <td>115.0</td>\n",
       "      <td>A</td>\n",
       "      <td>118.0</td>\n",
       "      <td>A</td>\n",
       "      <td>...</td>\n",
       "      <td>Detached</td>\n",
       "      <td>House</td>\n",
       "      <td>0.0</td>\n",
       "      <td>0.0</td>\n",
       "      <td>5.000000</td>\n",
       "      <td>-51.5</td>\n",
       "      <td>4.0</td>\n",
       "      <td>-41.2</td>\n",
       "      <td>0</td>\n",
       "      <td>2022</td>\n",
       "    </tr>\n",
       "    <tr>\n",
       "      <th>9</th>\n",
       "      <td>1.235014e+09</td>\n",
       "      <td>ML8 5NE</td>\n",
       "      <td>carluke</td>\n",
       "      <td>23/08/2021</td>\n",
       "      <td>-53.0</td>\n",
       "      <td>301.0</td>\n",
       "      <td>116.0</td>\n",
       "      <td>A</td>\n",
       "      <td>117.0</td>\n",
       "      <td>A</td>\n",
       "      <td>...</td>\n",
       "      <td>Detached</td>\n",
       "      <td>House</td>\n",
       "      <td>-3.0</td>\n",
       "      <td>285.0</td>\n",
       "      <td>5.000000</td>\n",
       "      <td>-45.5</td>\n",
       "      <td>4.0</td>\n",
       "      <td>-36.4</td>\n",
       "      <td>0</td>\n",
       "      <td>2022</td>\n",
       "    </tr>\n",
       "    <tr>\n",
       "      <th>10</th>\n",
       "      <td>1.235226e+09</td>\n",
       "      <td>FK10 3QD</td>\n",
       "      <td>alloa</td>\n",
       "      <td>24/02/2021</td>\n",
       "      <td>-99.0</td>\n",
       "      <td>140.0</td>\n",
       "      <td>122.0</td>\n",
       "      <td>A</td>\n",
       "      <td>139.0</td>\n",
       "      <td>A</td>\n",
       "      <td>...</td>\n",
       "      <td>Detached</td>\n",
       "      <td>Bungalow</td>\n",
       "      <td>-3.0</td>\n",
       "      <td>294.0</td>\n",
       "      <td>5.000000</td>\n",
       "      <td>-85.0</td>\n",
       "      <td>4.0</td>\n",
       "      <td>-68.0</td>\n",
       "      <td>0</td>\n",
       "      <td>2022</td>\n",
       "    </tr>\n",
       "    <tr>\n",
       "      <th>11</th>\n",
       "      <td>1.235862e+09</td>\n",
       "      <td>AB41 7PR</td>\n",
       "      <td>ellon</td>\n",
       "      <td>07/10/2021</td>\n",
       "      <td>-49.0</td>\n",
       "      <td>139.0</td>\n",
       "      <td>113.0</td>\n",
       "      <td>A</td>\n",
       "      <td>131.0</td>\n",
       "      <td>A</td>\n",
       "      <td>...</td>\n",
       "      <td>Detached</td>\n",
       "      <td>House</td>\n",
       "      <td>0.0</td>\n",
       "      <td>435.0</td>\n",
       "      <td>5.000000</td>\n",
       "      <td>-73.5</td>\n",
       "      <td>3.0</td>\n",
       "      <td>-44.1</td>\n",
       "      <td>0</td>\n",
       "      <td>2022</td>\n",
       "    </tr>\n",
       "    <tr>\n",
       "      <th>12</th>\n",
       "      <td>1.234889e+09</td>\n",
       "      <td>KY4 9EJ</td>\n",
       "      <td>cowdenbeath</td>\n",
       "      <td>01/09/2021</td>\n",
       "      <td>-129.0</td>\n",
       "      <td>89.0</td>\n",
       "      <td>128.0</td>\n",
       "      <td>A</td>\n",
       "      <td>130.0</td>\n",
       "      <td>A</td>\n",
       "      <td>...</td>\n",
       "      <td>Detached</td>\n",
       "      <td>House</td>\n",
       "      <td>0.0</td>\n",
       "      <td>78.0</td>\n",
       "      <td>5.000000</td>\n",
       "      <td>-105.0</td>\n",
       "      <td>4.0</td>\n",
       "      <td>-84.0</td>\n",
       "      <td>0</td>\n",
       "      <td>2022</td>\n",
       "    </tr>\n",
       "    <tr>\n",
       "      <th>13</th>\n",
       "      <td>1.235046e+09</td>\n",
       "      <td>AB45 2UL</td>\n",
       "      <td>banff</td>\n",
       "      <td>17/03/2021</td>\n",
       "      <td>-98.0</td>\n",
       "      <td>167.0</td>\n",
       "      <td>87.0</td>\n",
       "      <td>B</td>\n",
       "      <td>100.0</td>\n",
       "      <td>A</td>\n",
       "      <td>...</td>\n",
       "      <td>Semi-Detached</td>\n",
       "      <td>House</td>\n",
       "      <td>0.0</td>\n",
       "      <td>0.0</td>\n",
       "      <td>5.000000</td>\n",
       "      <td>-55.0</td>\n",
       "      <td>4.0</td>\n",
       "      <td>-44.0</td>\n",
       "      <td>0</td>\n",
       "      <td>2022</td>\n",
       "    </tr>\n",
       "    <tr>\n",
       "      <th>14</th>\n",
       "      <td>1.001026e+09</td>\n",
       "      <td>DD8 2NR</td>\n",
       "      <td>forfar</td>\n",
       "      <td>30/05/2021</td>\n",
       "      <td>-48.0</td>\n",
       "      <td>151.0</td>\n",
       "      <td>120.0</td>\n",
       "      <td>A</td>\n",
       "      <td>137.0</td>\n",
       "      <td>A</td>\n",
       "      <td>...</td>\n",
       "      <td>Detached</td>\n",
       "      <td>Bungalow</td>\n",
       "      <td>171.0</td>\n",
       "      <td>294.0</td>\n",
       "      <td>3.500000</td>\n",
       "      <td>-38.5</td>\n",
       "      <td>4.0</td>\n",
       "      <td>-44.0</td>\n",
       "      <td>1919</td>\n",
       "      <td>103</td>\n",
       "    </tr>\n",
       "    <tr>\n",
       "      <th>15</th>\n",
       "      <td>1.000561e+09</td>\n",
       "      <td>PH13 9HU</td>\n",
       "      <td>blairgowrie</td>\n",
       "      <td>10/04/2021</td>\n",
       "      <td>-69.0</td>\n",
       "      <td>135.0</td>\n",
       "      <td>75.0</td>\n",
       "      <td>C</td>\n",
       "      <td>94.0</td>\n",
       "      <td>A</td>\n",
       "      <td>...</td>\n",
       "      <td>Detached</td>\n",
       "      <td>Bungalow</td>\n",
       "      <td>0.0</td>\n",
       "      <td>411.0</td>\n",
       "      <td>3.333333</td>\n",
       "      <td>-40.0</td>\n",
       "      <td>4.0</td>\n",
       "      <td>-48.0</td>\n",
       "      <td>1919</td>\n",
       "      <td>103</td>\n",
       "    </tr>\n",
       "    <tr>\n",
       "      <th>16</th>\n",
       "      <td>1.235776e+09</td>\n",
       "      <td>KW17 2AN</td>\n",
       "      <td>orkney</td>\n",
       "      <td>08/07/2021</td>\n",
       "      <td>81.0</td>\n",
       "      <td>120.0</td>\n",
       "      <td>96.0</td>\n",
       "      <td>A</td>\n",
       "      <td>115.0</td>\n",
       "      <td>A</td>\n",
       "      <td>...</td>\n",
       "      <td>Detached</td>\n",
       "      <td>Bungalow</td>\n",
       "      <td>-6.0</td>\n",
       "      <td>222.0</td>\n",
       "      <td>5.000000</td>\n",
       "      <td>-60.0</td>\n",
       "      <td>4.0</td>\n",
       "      <td>-48.0</td>\n",
       "      <td>0</td>\n",
       "      <td>2022</td>\n",
       "    </tr>\n",
       "    <tr>\n",
       "      <th>17</th>\n",
       "      <td>1.234879e+09</td>\n",
       "      <td>KW15 1SS</td>\n",
       "      <td>orkney</td>\n",
       "      <td>07/05/2021</td>\n",
       "      <td>-40.0</td>\n",
       "      <td>217.0</td>\n",
       "      <td>113.0</td>\n",
       "      <td>A</td>\n",
       "      <td>119.0</td>\n",
       "      <td>A</td>\n",
       "      <td>...</td>\n",
       "      <td>Detached</td>\n",
       "      <td>House</td>\n",
       "      <td>-3.0</td>\n",
       "      <td>285.0</td>\n",
       "      <td>5.000000</td>\n",
       "      <td>-35.0</td>\n",
       "      <td>4.0</td>\n",
       "      <td>-28.0</td>\n",
       "      <td>0</td>\n",
       "      <td>2022</td>\n",
       "    </tr>\n",
       "    <tr>\n",
       "      <th>18</th>\n",
       "      <td>1.000797e+09</td>\n",
       "      <td>TD5 7PH</td>\n",
       "      <td>kelso</td>\n",
       "      <td>26/05/2021</td>\n",
       "      <td>158.0</td>\n",
       "      <td>209.0</td>\n",
       "      <td>73.0</td>\n",
       "      <td>C</td>\n",
       "      <td>80.0</td>\n",
       "      <td>C</td>\n",
       "      <td>...</td>\n",
       "      <td>Detached</td>\n",
       "      <td>House</td>\n",
       "      <td>759.0</td>\n",
       "      <td>252.0</td>\n",
       "      <td>3.000000</td>\n",
       "      <td>-15.0</td>\n",
       "      <td>3.0</td>\n",
       "      <td>-15.0</td>\n",
       "      <td>1987</td>\n",
       "      <td>35</td>\n",
       "    </tr>\n",
       "    <tr>\n",
       "      <th>19</th>\n",
       "      <td>1.235858e+09</td>\n",
       "      <td>FK7 0HX</td>\n",
       "      <td>stirling</td>\n",
       "      <td>28/09/2021</td>\n",
       "      <td>-46.0</td>\n",
       "      <td>147.0</td>\n",
       "      <td>113.0</td>\n",
       "      <td>A</td>\n",
       "      <td>113.0</td>\n",
       "      <td>A</td>\n",
       "      <td>...</td>\n",
       "      <td>Semi-Detached</td>\n",
       "      <td>Bungalow</td>\n",
       "      <td>0.0</td>\n",
       "      <td>0.0</td>\n",
       "      <td>5.000000</td>\n",
       "      <td>-35.0</td>\n",
       "      <td>3.0</td>\n",
       "      <td>-21.0</td>\n",
       "      <td>0</td>\n",
       "      <td>2022</td>\n",
       "    </tr>\n",
       "  </tbody>\n",
       "</table>\n",
       "<p>20 rows × 56 columns</p>\n",
       "</div>"
      ],
      "text/plain": [
       "    Property_UPRN  Postcode      POST_TOWN Date of Assessment  \\\n",
       "0    1.235876e+09  PA21 2DB  tighnabruaich         28/10/2021   \n",
       "1    1.235429e+09   KY2 6FN      kirkcaldy         11/06/2021   \n",
       "2    1.235052e+09  EH23 4PS     gorebridge         06/04/2021   \n",
       "3    1.235755e+09  EH23 4NN     gorebridge         08/04/2021   \n",
       "4    1.001273e+09  KA16 9LJ       newmilns         29/07/2021   \n",
       "5    1.235743e+09   G71 7FR        glasgow         23/03/2021   \n",
       "6    1.235888e+09  PH36 4HY      acharacle         18/11/2021   \n",
       "7    1.234627e+09  TD11 3NG           duns         09/11/2021   \n",
       "8    1.235783e+09   G83 8SD     gartocharn         26/05/2021   \n",
       "9    1.235014e+09   ML8 5NE        carluke         23/08/2021   \n",
       "10   1.235226e+09  FK10 3QD          alloa         24/02/2021   \n",
       "11   1.235862e+09  AB41 7PR          ellon         07/10/2021   \n",
       "12   1.234889e+09   KY4 9EJ    cowdenbeath         01/09/2021   \n",
       "13   1.235046e+09  AB45 2UL          banff         17/03/2021   \n",
       "14   1.001026e+09   DD8 2NR         forfar         30/05/2021   \n",
       "15   1.000561e+09  PH13 9HU    blairgowrie         10/04/2021   \n",
       "16   1.235776e+09  KW17 2AN         orkney         08/07/2021   \n",
       "17   1.234879e+09  KW15 1SS         orkney         07/05/2021   \n",
       "18   1.000797e+09   TD5 7PH          kelso         26/05/2021   \n",
       "19   1.235858e+09   FK7 0HX       stirling         28/09/2021   \n",
       "\n",
       "    Primary Energy Indicator (kWh/m²/year)  Total floor area (m²)  \\\n",
       "0                                   -858.0                  143.0   \n",
       "1                                   -145.0                  346.0   \n",
       "2                                    -60.0                  215.0   \n",
       "3                                    -60.0                  215.0   \n",
       "4                                    140.0                  199.0   \n",
       "5                                   -263.0                   75.0   \n",
       "6                                   -125.0                  146.0   \n",
       "7                                     88.0                  226.0   \n",
       "8                                    -61.0                  292.0   \n",
       "9                                    -53.0                  301.0   \n",
       "10                                   -99.0                  140.0   \n",
       "11                                   -49.0                  139.0   \n",
       "12                                  -129.0                   89.0   \n",
       "13                                   -98.0                  167.0   \n",
       "14                                   -48.0                  151.0   \n",
       "15                                   -69.0                  135.0   \n",
       "16                                    81.0                  120.0   \n",
       "17                                   -40.0                  217.0   \n",
       "18                                   158.0                  209.0   \n",
       "19                                   -46.0                  147.0   \n",
       "\n",
       "    Current energy efficiency rating Current energy efficiency rating band  \\\n",
       "0                              268.0                                     A   \n",
       "1                              141.0                                     A   \n",
       "2                              124.0                                     A   \n",
       "3                              124.0                                     A   \n",
       "4                               78.0                                     C   \n",
       "5                              143.0                                     A   \n",
       "6                              126.0                                     A   \n",
       "7                               90.0                                     B   \n",
       "8                              115.0                                     A   \n",
       "9                              116.0                                     A   \n",
       "10                             122.0                                     A   \n",
       "11                             113.0                                     A   \n",
       "12                             128.0                                     A   \n",
       "13                              87.0                                     B   \n",
       "14                             120.0                                     A   \n",
       "15                              75.0                                     C   \n",
       "16                              96.0                                     A   \n",
       "17                             113.0                                     A   \n",
       "18                              73.0                                     C   \n",
       "19                             113.0                                     A   \n",
       "\n",
       "    Potential Energy Efficiency Rating  \\\n",
       "0                                291.0   \n",
       "1                                141.0   \n",
       "2                                134.0   \n",
       "3                                134.0   \n",
       "4                                 87.0   \n",
       "5                                144.0   \n",
       "6                                127.0   \n",
       "7                                102.0   \n",
       "8                                118.0   \n",
       "9                                117.0   \n",
       "10                               139.0   \n",
       "11                               131.0   \n",
       "12                               130.0   \n",
       "13                               100.0   \n",
       "14                               137.0   \n",
       "15                                94.0   \n",
       "16                               115.0   \n",
       "17                               119.0   \n",
       "18                                80.0   \n",
       "19                               113.0   \n",
       "\n",
       "   Potential energy efficiency rating band  ...     Built Form Property Type  \\\n",
       "0                                        A  ...       Detached         House   \n",
       "1                                        A  ...       Detached      Bungalow   \n",
       "2                                        A  ...       Detached      Bungalow   \n",
       "3                                        A  ...       Detached      Bungalow   \n",
       "4                                        B  ...       Detached         House   \n",
       "5                                        A  ...  Semi-Detached         House   \n",
       "6                                        A  ...       Detached         House   \n",
       "7                                        A  ...       Detached         House   \n",
       "8                                        A  ...       Detached         House   \n",
       "9                                        A  ...       Detached         House   \n",
       "10                                       A  ...       Detached      Bungalow   \n",
       "11                                       A  ...       Detached         House   \n",
       "12                                       A  ...       Detached         House   \n",
       "13                                       A  ...  Semi-Detached         House   \n",
       "14                                       A  ...       Detached      Bungalow   \n",
       "15                                       A  ...       Detached      Bungalow   \n",
       "16                                       A  ...       Detached      Bungalow   \n",
       "17                                       A  ...       Detached         House   \n",
       "18                                       C  ...       Detached         House   \n",
       "19                                       A  ...  Semi-Detached      Bungalow   \n",
       "\n",
       "    heat_savings hot_water_save  AGG_RATING EE_PRODUCT ROOF_RATING  \\\n",
       "0            0.0          159.0    5.000000     -795.0         4.0   \n",
       "1            0.0            0.0    5.000000     -125.0         4.0   \n",
       "2            0.0            0.0    5.000000     -135.0         4.0   \n",
       "3            0.0            0.0    5.000000     -135.0         4.0   \n",
       "4          990.0          300.0    3.000000      -54.0         4.5   \n",
       "5            0.0           78.0    5.000000     -219.5         4.0   \n",
       "6            0.0          267.0    5.000000     -105.0         4.0   \n",
       "7          -27.0          294.0    4.500000      -58.5         3.0   \n",
       "8            0.0            0.0    5.000000      -51.5         4.0   \n",
       "9           -3.0          285.0    5.000000      -45.5         4.0   \n",
       "10          -3.0          294.0    5.000000      -85.0         4.0   \n",
       "11           0.0          435.0    5.000000      -73.5         3.0   \n",
       "12           0.0           78.0    5.000000     -105.0         4.0   \n",
       "13           0.0            0.0    5.000000      -55.0         4.0   \n",
       "14         171.0          294.0    3.500000      -38.5         4.0   \n",
       "15           0.0          411.0    3.333333      -40.0         4.0   \n",
       "16          -6.0          222.0    5.000000      -60.0         4.0   \n",
       "17          -3.0          285.0    5.000000      -35.0         4.0   \n",
       "18         759.0          252.0    3.000000      -15.0         3.0   \n",
       "19           0.0            0.0    5.000000      -35.0         3.0   \n",
       "\n",
       "   ROOF_EE_PRODUCT est_build_year build_age  \n",
       "0           -636.0              0      2022  \n",
       "1           -100.0              0      2022  \n",
       "2           -108.0              0      2022  \n",
       "3           -108.0              0      2022  \n",
       "4            -81.0           1919       103  \n",
       "5           -175.6              0      2022  \n",
       "6            -84.0              0      2022  \n",
       "7            -39.0           1919       103  \n",
       "8            -41.2              0      2022  \n",
       "9            -36.4              0      2022  \n",
       "10           -68.0              0      2022  \n",
       "11           -44.1              0      2022  \n",
       "12           -84.0              0      2022  \n",
       "13           -44.0              0      2022  \n",
       "14           -44.0           1919       103  \n",
       "15           -48.0           1919       103  \n",
       "16           -48.0              0      2022  \n",
       "17           -28.0              0      2022  \n",
       "18           -15.0           1987        35  \n",
       "19           -21.0              0      2022  \n",
       "\n",
       "[20 rows x 56 columns]"
      ]
     },
     "execution_count": 215,
     "metadata": {},
     "output_type": "execute_result"
    }
   ],
   "source": [
    "emissions.head(20)"
   ]
  },
  {
   "cell_type": "code",
   "execution_count": 216,
   "id": "d50c3b81",
   "metadata": {},
   "outputs": [],
   "source": [
    "#Looking at the smallest emitters in CO2\n",
    "\n",
    "emissions_1000 = emissions[:1000]"
   ]
  },
  {
   "cell_type": "code",
   "execution_count": 219,
   "id": "07d1805f",
   "metadata": {},
   "outputs": [
    {
     "data": {
      "text/html": [
       "<div>\n",
       "<style scoped>\n",
       "    .dataframe tbody tr th:only-of-type {\n",
       "        vertical-align: middle;\n",
       "    }\n",
       "\n",
       "    .dataframe tbody tr th {\n",
       "        vertical-align: top;\n",
       "    }\n",
       "\n",
       "    .dataframe thead th {\n",
       "        text-align: right;\n",
       "    }\n",
       "</style>\n",
       "<table border=\"1\" class=\"dataframe\">\n",
       "  <thead>\n",
       "    <tr style=\"text-align: right;\">\n",
       "      <th></th>\n",
       "      <th>WALL_DESCRIPTION</th>\n",
       "      <th>EE_WALL</th>\n",
       "    </tr>\n",
       "  </thead>\n",
       "  <tbody>\n",
       "    <tr>\n",
       "      <th>0</th>\n",
       "      <td>Average thermal transmittance 0.09 W/m²K</td>\n",
       "      <td>105.000000</td>\n",
       "    </tr>\n",
       "    <tr>\n",
       "      <th>1</th>\n",
       "      <td>Average thermal transmittance 0.11 W/m²K</td>\n",
       "      <td>97.000000</td>\n",
       "    </tr>\n",
       "    <tr>\n",
       "      <th>2</th>\n",
       "      <td>Average thermal transmittance 0.12 W/m²K</td>\n",
       "      <td>100.000000</td>\n",
       "    </tr>\n",
       "    <tr>\n",
       "      <th>3</th>\n",
       "      <td>Average thermal transmittance 0.13 W/m²K</td>\n",
       "      <td>92.777778</td>\n",
       "    </tr>\n",
       "    <tr>\n",
       "      <th>4</th>\n",
       "      <td>Average thermal transmittance 0.13 W/m²K</td>\n",
       "      <td>86.000000</td>\n",
       "    </tr>\n",
       "    <tr>\n",
       "      <th>...</th>\n",
       "      <td>...</td>\n",
       "      <td>...</td>\n",
       "    </tr>\n",
       "    <tr>\n",
       "      <th>81</th>\n",
       "      <td>Timber frame, as built, insulated (assumed)</td>\n",
       "      <td>86.870968</td>\n",
       "    </tr>\n",
       "    <tr>\n",
       "      <th>82</th>\n",
       "      <td>Timber frame, as built, insulated (assumed) | ...</td>\n",
       "      <td>66.000000</td>\n",
       "    </tr>\n",
       "    <tr>\n",
       "      <th>83</th>\n",
       "      <td>Timber frame, as built, insulated (assumed) | ...</td>\n",
       "      <td>101.000000</td>\n",
       "    </tr>\n",
       "    <tr>\n",
       "      <th>84</th>\n",
       "      <td>Timber frame, as built, partial insulation (as...</td>\n",
       "      <td>72.000000</td>\n",
       "    </tr>\n",
       "    <tr>\n",
       "      <th>85</th>\n",
       "      <td>Timber frame, with additional insulation</td>\n",
       "      <td>121.500000</td>\n",
       "    </tr>\n",
       "  </tbody>\n",
       "</table>\n",
       "<p>86 rows × 2 columns</p>\n",
       "</div>"
      ],
      "text/plain": [
       "                                     WALL_DESCRIPTION     EE_WALL\n",
       "0            Average thermal transmittance 0.09 W/m²K  105.000000\n",
       "1            Average thermal transmittance 0.11 W/m²K   97.000000\n",
       "2            Average thermal transmittance 0.12 W/m²K  100.000000\n",
       "3            Average thermal transmittance 0.13 W/m²K   92.777778\n",
       "4           Average thermal transmittance 0.13 W/m²K    86.000000\n",
       "..                                                ...         ...\n",
       "81       Timber frame, as built, insulated (assumed)    86.870968\n",
       "82  Timber frame, as built, insulated (assumed) | ...   66.000000\n",
       "83  Timber frame, as built, insulated (assumed) | ...  101.000000\n",
       "84  Timber frame, as built, partial insulation (as...   72.000000\n",
       "85           Timber frame, with additional insulation  121.500000\n",
       "\n",
       "[86 rows x 2 columns]"
      ]
     },
     "execution_count": 219,
     "metadata": {},
     "output_type": "execute_result"
    }
   ],
   "source": [
    "wall_ee_1000 = emissions_1000.groupby(['WALL_DESCRIPTION'])['Current energy efficiency rating'].mean().reset_index(name=\"EE_WALL\")\n",
    "wall_ee_1000"
   ]
  },
  {
   "cell_type": "code",
   "execution_count": 220,
   "id": "0446cf43",
   "metadata": {},
   "outputs": [
    {
     "data": {
      "text/plain": [
       "matrix([[1, 0, 0, ..., 1, 0, 0],\n",
       "        [0, 1, 0, ..., 1, 0, 0],\n",
       "        [0, 0, 1, ..., 1, 0, 0],\n",
       "        ...,\n",
       "        [0, 0, 0, ..., 0, 0, 0],\n",
       "        [0, 0, 0, ..., 0, 0, 0],\n",
       "        [0, 0, 0, ..., 0, 0, 0]], dtype=int64)"
      ]
     },
     "execution_count": 220,
     "metadata": {},
     "output_type": "execute_result"
    }
   ],
   "source": [
    "#applying LDA to the wall description\n",
    "\n",
    "em_1000_wall_ee = wall_ee_1000['WALL_DESCRIPTION']\n",
    "count_vect = CountVectorizer(stop_words=stopwords.words('english'), lowercase=True)\n",
    "em_1000_wall_ee_vec = count_vect.fit_transform(em_1000_wall_ee)\n",
    "em_1000_wall_ee_vec.todense()"
   ]
  },
  {
   "cell_type": "code",
   "execution_count": 221,
   "id": "47ba73a6",
   "metadata": {
    "scrolled": true
   },
   "outputs": [
    {
     "data": {
      "text/plain": [
       "['09',\n",
       " '11',\n",
       " '12',\n",
       " '13',\n",
       " '14',\n",
       " '15',\n",
       " '16',\n",
       " '17',\n",
       " '18',\n",
       " '19',\n",
       " '20',\n",
       " '21',\n",
       " '22',\n",
       " '23',\n",
       " '25',\n",
       " 'additional',\n",
       " 'assumed',\n",
       " 'average',\n",
       " 'brick',\n",
       " 'built',\n",
       " 'cavity',\n",
       " 'external',\n",
       " 'filled',\n",
       " 'frame',\n",
       " 'granite',\n",
       " 'insulated',\n",
       " 'insulation',\n",
       " 'internal',\n",
       " 'limestone',\n",
       " 'm²k',\n",
       " 'mâ²k',\n",
       " 'partial',\n",
       " 'sandstone',\n",
       " 'solid',\n",
       " 'system',\n",
       " 'thermal',\n",
       " 'timber',\n",
       " 'transmittance',\n",
       " 'wall',\n",
       " 'whinstone']"
      ]
     },
     "execution_count": 221,
     "metadata": {},
     "output_type": "execute_result"
    }
   ],
   "source": [
    "count_vect.get_feature_names()"
   ]
  },
  {
   "cell_type": "code",
   "execution_count": 222,
   "id": "b177d41f",
   "metadata": {},
   "outputs": [],
   "source": [
    "em_1000_wall_ee_tfidf = tfidf_transformer.fit_transform(em_1000_wall_ee_vec)"
   ]
  },
  {
   "cell_type": "code",
   "execution_count": 232,
   "id": "faa9dc3c",
   "metadata": {},
   "outputs": [],
   "source": [
    "dimension = 5\n",
    "em_1000_wall_ee_lda = LDA(n_components = dimension)\n",
    "em_1000_wall_ee_lda_array = em_1000_wall_ee_lda.fit_transform(em_1000_wall_ee_tfidf)\n"
   ]
  },
  {
   "cell_type": "code",
   "execution_count": 233,
   "id": "c67ce185",
   "metadata": {},
   "outputs": [
    {
     "data": {
      "text/plain": [
       "[['average', 'transmittance', 'thermal'],\n",
       " ['timber', 'frame', 'insulated'],\n",
       " ['m²k', 'transmittance', 'average'],\n",
       " ['limestone', 'sandstone', 'internal'],\n",
       " ['built', 'cavity', 'insulation']]"
      ]
     },
     "execution_count": 233,
     "metadata": {},
     "output_type": "execute_result"
    }
   ],
   "source": [
    "em_1000_wall_ee_components = [em_1000_wall_ee_lda.components_[i] for i in range(len(em_1000_wall_ee_lda.components_))]\n",
    "features = count_vect.get_feature_names()\n",
    "em_1000_wall_ee_important_words = [sorted(features, key = lambda x: em_1000_wall_ee_components[j][features.index(x)], reverse = True)[:3] for j in range(len(em_1000_wall_ee_components))]\n",
    "em_1000_wall_ee_important_words"
   ]
  },
  {
   "cell_type": "code",
   "execution_count": 234,
   "id": "eca315f0",
   "metadata": {},
   "outputs": [
    {
     "name": "stdout",
     "output_type": "stream",
     "text": [
      "86\n"
     ]
    }
   ],
   "source": [
    "em_1000_wall_list = []\n",
    "\n",
    "for i in range(len(em_1000_wall_ee_lda_array)):\n",
    "    list_array = list(em_1000_wall_ee_lda_array[i])\n",
    "    max_num = list_array.index(max(list_array))\n",
    "    em_1000_wall_list.append(max_num)\n",
    "    \n",
    "print(len(em_1000_wall_list))"
   ]
  },
  {
   "cell_type": "code",
   "execution_count": 235,
   "id": "b2207582",
   "metadata": {},
   "outputs": [],
   "source": [
    "wall_ee_1000['desc_num'] = em_1000_wall_list"
   ]
  },
  {
   "cell_type": "code",
   "execution_count": 236,
   "id": "ac1ccb93",
   "metadata": {},
   "outputs": [
    {
     "name": "stdout",
     "output_type": "stream",
     "text": [
      "86\n"
     ]
    }
   ],
   "source": [
    "agg_em1000_wall_ee_short_desc = []\n",
    "\n",
    "for i in range(len(wall_ee_1000)):\n",
    "    number = wall_ee_1000['desc_num'][i]\n",
    "    description = em_1000_wall_ee_important_words[number]\n",
    "    agg_em1000_wall_ee_short_desc.append(description)\n",
    "    \n",
    "print(len(agg_em1000_wall_ee_short_desc))"
   ]
  },
  {
   "cell_type": "code",
   "execution_count": 238,
   "id": "51ef39d8",
   "metadata": {},
   "outputs": [],
   "source": [
    "wall_ee_1000['short_desc']= agg_em1000_wall_ee_short_desc"
   ]
  },
  {
   "cell_type": "code",
   "execution_count": 239,
   "id": "5436b1d5",
   "metadata": {},
   "outputs": [
    {
     "data": {
      "text/html": [
       "<div>\n",
       "<style scoped>\n",
       "    .dataframe tbody tr th:only-of-type {\n",
       "        vertical-align: middle;\n",
       "    }\n",
       "\n",
       "    .dataframe tbody tr th {\n",
       "        vertical-align: top;\n",
       "    }\n",
       "\n",
       "    .dataframe thead th {\n",
       "        text-align: right;\n",
       "    }\n",
       "</style>\n",
       "<table border=\"1\" class=\"dataframe\">\n",
       "  <thead>\n",
       "    <tr style=\"text-align: right;\">\n",
       "      <th></th>\n",
       "      <th>WALL_DESCRIPTION</th>\n",
       "      <th>EE_WALL</th>\n",
       "      <th>desc_num</th>\n",
       "      <th>short_desc</th>\n",
       "    </tr>\n",
       "  </thead>\n",
       "  <tbody>\n",
       "    <tr>\n",
       "      <th>0</th>\n",
       "      <td>Average thermal transmittance 0.09 W/m²K</td>\n",
       "      <td>105.000000</td>\n",
       "      <td>0</td>\n",
       "      <td>[average, transmittance, thermal]</td>\n",
       "    </tr>\n",
       "    <tr>\n",
       "      <th>1</th>\n",
       "      <td>Average thermal transmittance 0.11 W/m²K</td>\n",
       "      <td>97.000000</td>\n",
       "      <td>2</td>\n",
       "      <td>[m²k, transmittance, average]</td>\n",
       "    </tr>\n",
       "    <tr>\n",
       "      <th>2</th>\n",
       "      <td>Average thermal transmittance 0.12 W/m²K</td>\n",
       "      <td>100.000000</td>\n",
       "      <td>0</td>\n",
       "      <td>[average, transmittance, thermal]</td>\n",
       "    </tr>\n",
       "    <tr>\n",
       "      <th>3</th>\n",
       "      <td>Average thermal transmittance 0.13 W/m²K</td>\n",
       "      <td>92.777778</td>\n",
       "      <td>0</td>\n",
       "      <td>[average, transmittance, thermal]</td>\n",
       "    </tr>\n",
       "    <tr>\n",
       "      <th>4</th>\n",
       "      <td>Average thermal transmittance 0.13 W/m²K</td>\n",
       "      <td>86.000000</td>\n",
       "      <td>0</td>\n",
       "      <td>[average, transmittance, thermal]</td>\n",
       "    </tr>\n",
       "    <tr>\n",
       "      <th>...</th>\n",
       "      <td>...</td>\n",
       "      <td>...</td>\n",
       "      <td>...</td>\n",
       "      <td>...</td>\n",
       "    </tr>\n",
       "    <tr>\n",
       "      <th>81</th>\n",
       "      <td>Timber frame, as built, insulated (assumed)</td>\n",
       "      <td>86.870968</td>\n",
       "      <td>1</td>\n",
       "      <td>[timber, frame, insulated]</td>\n",
       "    </tr>\n",
       "    <tr>\n",
       "      <th>82</th>\n",
       "      <td>Timber frame, as built, insulated (assumed) | ...</td>\n",
       "      <td>66.000000</td>\n",
       "      <td>1</td>\n",
       "      <td>[timber, frame, insulated]</td>\n",
       "    </tr>\n",
       "    <tr>\n",
       "      <th>83</th>\n",
       "      <td>Timber frame, as built, insulated (assumed) | ...</td>\n",
       "      <td>101.000000</td>\n",
       "      <td>1</td>\n",
       "      <td>[timber, frame, insulated]</td>\n",
       "    </tr>\n",
       "    <tr>\n",
       "      <th>84</th>\n",
       "      <td>Timber frame, as built, partial insulation (as...</td>\n",
       "      <td>72.000000</td>\n",
       "      <td>1</td>\n",
       "      <td>[timber, frame, insulated]</td>\n",
       "    </tr>\n",
       "    <tr>\n",
       "      <th>85</th>\n",
       "      <td>Timber frame, with additional insulation</td>\n",
       "      <td>121.500000</td>\n",
       "      <td>1</td>\n",
       "      <td>[timber, frame, insulated]</td>\n",
       "    </tr>\n",
       "  </tbody>\n",
       "</table>\n",
       "<p>86 rows × 4 columns</p>\n",
       "</div>"
      ],
      "text/plain": [
       "                                     WALL_DESCRIPTION     EE_WALL  desc_num  \\\n",
       "0            Average thermal transmittance 0.09 W/m²K  105.000000         0   \n",
       "1            Average thermal transmittance 0.11 W/m²K   97.000000         2   \n",
       "2            Average thermal transmittance 0.12 W/m²K  100.000000         0   \n",
       "3            Average thermal transmittance 0.13 W/m²K   92.777778         0   \n",
       "4           Average thermal transmittance 0.13 W/m²K    86.000000         0   \n",
       "..                                                ...         ...       ...   \n",
       "81       Timber frame, as built, insulated (assumed)    86.870968         1   \n",
       "82  Timber frame, as built, insulated (assumed) | ...   66.000000         1   \n",
       "83  Timber frame, as built, insulated (assumed) | ...  101.000000         1   \n",
       "84  Timber frame, as built, partial insulation (as...   72.000000         1   \n",
       "85           Timber frame, with additional insulation  121.500000         1   \n",
       "\n",
       "                           short_desc  \n",
       "0   [average, transmittance, thermal]  \n",
       "1       [m²k, transmittance, average]  \n",
       "2   [average, transmittance, thermal]  \n",
       "3   [average, transmittance, thermal]  \n",
       "4   [average, transmittance, thermal]  \n",
       "..                                ...  \n",
       "81         [timber, frame, insulated]  \n",
       "82         [timber, frame, insulated]  \n",
       "83         [timber, frame, insulated]  \n",
       "84         [timber, frame, insulated]  \n",
       "85         [timber, frame, insulated]  \n",
       "\n",
       "[86 rows x 4 columns]"
      ]
     },
     "execution_count": 239,
     "metadata": {},
     "output_type": "execute_result"
    }
   ],
   "source": [
    "wall_ee_1000"
   ]
  },
  {
   "cell_type": "code",
   "execution_count": null,
   "id": "d117b599",
   "metadata": {},
   "outputs": [],
   "source": []
  }
 ],
 "metadata": {
  "kernelspec": {
   "display_name": "Python 3 (ipykernel)",
   "language": "python",
   "name": "python3"
  },
  "language_info": {
   "codemirror_mode": {
    "name": "ipython",
    "version": 3
   },
   "file_extension": ".py",
   "mimetype": "text/x-python",
   "name": "python",
   "nbconvert_exporter": "python",
   "pygments_lexer": "ipython3",
   "version": "3.9.7"
  }
 },
 "nbformat": 4,
 "nbformat_minor": 5
}
